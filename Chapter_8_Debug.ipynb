{
 "cells": [
  {
   "cell_type": "code",
   "execution_count": 1,
   "metadata": {},
   "outputs": [],
   "source": [
    "%matplotlib inline\n",
    "import pymc3 as pm\n",
    "import numpy as np\n",
    "import pandas as pd\n",
    "import scipy.stats as stats\n",
    "from scipy.interpolate import griddata\n",
    "import matplotlib.pyplot as plt\n",
    "import seaborn as sns\n"
   ]
  },
  {
   "cell_type": "code",
   "execution_count": 2,
   "metadata": {},
   "outputs": [],
   "source": [
    "# R code 8.19\n",
    "\n",
    "d = pd.read_csv('Data/tulips.csv', sep=';', header=0)"
   ]
  },
  {
   "cell_type": "code",
   "execution_count": 3,
   "metadata": {},
   "outputs": [],
   "source": [
    "# R code 8.20\n",
    "d['blooms_std']= d.blooms/d.blooms.max()\n",
    "d['water_cent']=d.water - d.water.mean()\n",
    "d['shade_cent']=d.shade -d.shade.mean()"
   ]
  },
  {
   "cell_type": "code",
   "execution_count": 4,
   "metadata": {},
   "outputs": [
    {
     "name": "stderr",
     "output_type": "stream",
     "text": [
      "Auto-assigning NUTS sampler...\n",
      "Initializing NUTS using jitter+adapt_diag...\n",
      "Sequential sampling (1 chains in 1 job)\n",
      "NUTS: [sigma, b_water_shade, b_shade, b_water, a]\n",
      "100%|████████████████████████████████████████████████████████████████████████████| 6000/6000 [00:05<00:00, 1151.68it/s]\n",
      "Only one chain was sampled, this makes it impossible to run some convergence checks\n"
     ]
    }
   ],
   "source": [
    "# R code 8.24\n",
    "\n",
    "with pm.Model() as m_8_7:\n",
    "    a = pm.Normal('a', mu=0.5, sd=0.25) \n",
    "    b_water = pm.Normal('b_water', mu=0, sd=0.25) \n",
    "    b_shade = pm.Normal('b_shade', mu=0, sd=0.25)\n",
    "    b_water_shade = pm.Normal('b_water_shade', mu=0, sd=0.25)\n",
    "    mu = (a + b_water * (d.water_cent) + b_shade * d.shade_cent \n",
    "          + b_water_shade * d.water_cent * d.shade_cent)\n",
    "    sigma = pm.Exponential('sigma', 1)\n",
    "    blooms_std = pm.Normal('blooms_std', mu=mu, sd=sigma, observed=d.blooms_std)\n",
    "    trace_8_7= pm.sample(5000, tune=1000, chains=1)\n",
    "    prior_8_7 = pm.sample_prior_predictive(samples=1000)\n",
    "    #start = {'a':np.mean(d.blooms), 'b_water':0, 'b_shade':0, 'b_water_shade':0,'sigma':np.std(d.blooms)}"
   ]
  },
  {
   "cell_type": "code",
   "execution_count": null,
   "metadata": {},
   "outputs": [],
   "source": [
    "bid = pd.Categorical(d['bed'])\n",
    "d['bid']=bid.codes\n",
    "\n",
    "with pm.Model() as m_8_8:\n",
    "    a = pm.Normal('a', mu=0.5, sd=0.25, shape=2) \n",
    "#     b_water = pm.Normal('b_water', mu=0, sd=0.25)#, shape=len(bid.categories)) \n",
    "#     b_shade = pm.Normal('b_shade', mu=0, sd=0.25)#, shape=len(bid.categories))\n",
    "#     b_water_shade = pm.Normal('b_water_shade', mu=0, sd=0.25)#, shape=len(bid.categories))\n",
    "    mu = (a[(bid)])\n",
    "    sigma = pm.Exponential('sigma', 1)\n",
    "    blooms_std = pm.Normal('blooms_std', mu=mu, sd=sigma, observed=d.blooms_std)\n",
    "    trace_8_8= pm.sample(5000, tune=1000, chains=1)\n",
    "    #prior_8_8 = pm.sample_prior_predictive(samples=1000)"
   ]
  }
 ],
 "metadata": {
  "kernelspec": {
   "display_name": "Python 3",
   "language": "python",
   "name": "python3"
  },
  "language_info": {
   "codemirror_mode": {
    "name": "ipython",
    "version": 3
   },
   "file_extension": ".py",
   "mimetype": "text/x-python",
   "name": "python",
   "nbconvert_exporter": "python",
   "pygments_lexer": "ipython3",
   "version": "3.7.3"
  }
 },
 "nbformat": 4,
 "nbformat_minor": 2
}
