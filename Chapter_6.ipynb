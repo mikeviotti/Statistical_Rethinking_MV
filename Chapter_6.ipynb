{
 "cells": [
  {
   "cell_type": "code",
   "execution_count": 79,
   "metadata": {},
   "outputs": [],
   "source": [
    "%matplotlib inline\n",
    "import pymc3 as pm\n",
    "import numpy as np\n",
    "import pandas as pd\n",
    "import scipy.stats as stats\n",
    "from scipy.interpolate import griddata\n",
    "import matplotlib.pyplot as plt\n",
    "import seaborn as sns\n",
    "import networkx as nx\n",
    "import causalgraphicalmodels as cgm\n",
    "import graphviz as gv\n",
    "import os\n",
    "from theano import *\n",
    "import theano.tensor as T\n",
    "#os.environ[\"PATH\"] += os.pathsep + 'C:/Users/mikev/Anaconda3/envs/stats/Library/bin/graphviz'\n",
    "os.environ[\"PATH\"] += os.pathsep + 'C:/Users/mviotti/AppData/Local/Continuum/anaconda3/envs/stats/Library/bin/graphviz'"
   ]
  },
  {
   "cell_type": "code",
   "execution_count": 2,
   "metadata": {},
   "outputs": [],
   "source": [
    "# I'm going to skip everything about leg length. I get the point - it's just not worth\n",
    "# writing the code, I don't think."
   ]
  },
  {
   "cell_type": "code",
   "execution_count": 3,
   "metadata": {},
   "outputs": [],
   "source": [
    "#R code 6.8\n",
    "d = pd.read_csv('Data/milk.csv', sep=';', header=0)\n",
    "d['k_s'] = (d['kcal.per.g'] - d['kcal.per.g'].mean())/d['kcal.per.g'].std()\n",
    "d['n_s'] = (d['neocortex.perc'] - d['neocortex.perc'].mean())/d['neocortex.perc'].std()\n",
    "d['m_s'] = (np.log(d.mass) - np.log(d.mass).mean())/np.log(d.mass).std()\n",
    "d['f_s'] = (d['perc.fat'] - d['perc.fat'].mean())/d['perc.fat'].std()\n",
    "d['l_s'] = (d['perc.lactose'] - d['perc.lactose'].mean())/d['perc.lactose'].std()"
   ]
  },
  {
   "cell_type": "code",
   "execution_count": 4,
   "metadata": {},
   "outputs": [
    {
     "name": "stderr",
     "output_type": "stream",
     "text": [
      "Auto-assigning NUTS sampler...\n",
      "Initializing NUTS using jitter+adapt_diag...\n",
      "Sequential sampling (1 chains in 1 job)\n",
      "NUTS: [sigma, beta_fat, alpha]\n",
      "100%|████████████████████████████████████████████████████████████████████████████| 2000/2000 [00:01<00:00, 1058.08it/s]\n",
      "Only one chain was sampled, this makes it impossible to run some convergence checks\n"
     ]
    }
   ],
   "source": [
    "#R code 6.9\n",
    "with pm.Model() as m_6_3: #using 6_3 to align with text\n",
    "    alpha = pm.Normal('alpha', mu=0, sd=0.2) \n",
    "    beta_fat = pm.Normal('beta_fat', mu=0, sd=0.5) \n",
    "    mu = pm.Deterministic('mu', alpha + beta_fat*d.f_s)\n",
    "    sigma = pm.Exponential('sigma', 1)\n",
    "    K = pm.Normal('kcalpg', mu=mu, sd=sigma, observed=d.k_s)\n",
    "    trace_6_3 = pm.sample(1000, tune=1000, chains=1) "
   ]
  },
  {
   "cell_type": "code",
   "execution_count": 5,
   "metadata": {},
   "outputs": [
    {
     "name": "stderr",
     "output_type": "stream",
     "text": [
      "Auto-assigning NUTS sampler...\n",
      "Initializing NUTS using jitter+adapt_diag...\n",
      "Sequential sampling (1 chains in 1 job)\n",
      "NUTS: [sigma, beta_lactose, alpha]\n",
      "100%|████████████████████████████████████████████████████████████████████████████| 2000/2000 [00:01<00:00, 1329.34it/s]\n",
      "Only one chain was sampled, this makes it impossible to run some convergence checks\n"
     ]
    }
   ],
   "source": [
    "#R code 6.9 continued\n",
    "with pm.Model() as m_6_4:\n",
    "    alpha = pm.Normal('alpha', mu=0, sd=0.2) \n",
    "    beta_lactose = pm.Normal('beta_lactose', mu=0, sd=0.5) \n",
    "    mu = pm.Deterministic('mu', alpha + beta_lactose*d.l_s)\n",
    "    sigma = pm.Exponential('sigma', 1)\n",
    "    K = pm.Normal('kcalpg', mu=mu, sd=sigma, observed=d.k_s)\n",
    "    trace_6_4 = pm.sample(1000, tune=1000, chains=1) "
   ]
  },
  {
   "cell_type": "code",
   "execution_count": 6,
   "metadata": {},
   "outputs": [
    {
     "data": {
      "text/html": [
       "<div>\n",
       "<style scoped>\n",
       "    .dataframe tbody tr th:only-of-type {\n",
       "        vertical-align: middle;\n",
       "    }\n",
       "\n",
       "    .dataframe tbody tr th {\n",
       "        vertical-align: top;\n",
       "    }\n",
       "\n",
       "    .dataframe thead th {\n",
       "        text-align: right;\n",
       "    }\n",
       "</style>\n",
       "<table border=\"1\" class=\"dataframe\">\n",
       "  <thead>\n",
       "    <tr style=\"text-align: right;\">\n",
       "      <th></th>\n",
       "      <th>mean</th>\n",
       "      <th>sd</th>\n",
       "      <th>mc_error</th>\n",
       "      <th>hpd_5.5</th>\n",
       "      <th>hpd_94.5</th>\n",
       "    </tr>\n",
       "  </thead>\n",
       "  <tbody>\n",
       "    <tr>\n",
       "      <th>alpha</th>\n",
       "      <td>-0.00</td>\n",
       "      <td>0.08</td>\n",
       "      <td>0.0</td>\n",
       "      <td>-0.13</td>\n",
       "      <td>0.14</td>\n",
       "    </tr>\n",
       "    <tr>\n",
       "      <th>beta_fat</th>\n",
       "      <td>0.86</td>\n",
       "      <td>0.09</td>\n",
       "      <td>0.0</td>\n",
       "      <td>0.73</td>\n",
       "      <td>1.01</td>\n",
       "    </tr>\n",
       "    <tr>\n",
       "      <th>sigma</th>\n",
       "      <td>0.49</td>\n",
       "      <td>0.07</td>\n",
       "      <td>0.0</td>\n",
       "      <td>0.38</td>\n",
       "      <td>0.59</td>\n",
       "    </tr>\n",
       "  </tbody>\n",
       "</table>\n",
       "</div>"
      ],
      "text/plain": [
       "          mean    sd  mc_error  hpd_5.5  hpd_94.5\n",
       "alpha    -0.00  0.08       0.0    -0.13      0.14\n",
       "beta_fat  0.86  0.09       0.0     0.73      1.01\n",
       "sigma     0.49  0.07       0.0     0.38      0.59"
      ]
     },
     "execution_count": 6,
     "metadata": {},
     "output_type": "execute_result"
    }
   ],
   "source": [
    "varnames = ['alpha', 'beta_fat','sigma']\n",
    "pm.summary(trace_6_3, var_names = varnames, alpha = 0.11).round(2)"
   ]
  },
  {
   "cell_type": "code",
   "execution_count": 7,
   "metadata": {},
   "outputs": [
    {
     "data": {
      "text/html": [
       "<div>\n",
       "<style scoped>\n",
       "    .dataframe tbody tr th:only-of-type {\n",
       "        vertical-align: middle;\n",
       "    }\n",
       "\n",
       "    .dataframe tbody tr th {\n",
       "        vertical-align: top;\n",
       "    }\n",
       "\n",
       "    .dataframe thead th {\n",
       "        text-align: right;\n",
       "    }\n",
       "</style>\n",
       "<table border=\"1\" class=\"dataframe\">\n",
       "  <thead>\n",
       "    <tr style=\"text-align: right;\">\n",
       "      <th></th>\n",
       "      <th>mean</th>\n",
       "      <th>sd</th>\n",
       "      <th>mc_error</th>\n",
       "      <th>hpd_5.5</th>\n",
       "      <th>hpd_94.5</th>\n",
       "    </tr>\n",
       "  </thead>\n",
       "  <tbody>\n",
       "    <tr>\n",
       "      <th>alpha</th>\n",
       "      <td>-0.00</td>\n",
       "      <td>0.07</td>\n",
       "      <td>0.0</td>\n",
       "      <td>-0.12</td>\n",
       "      <td>0.11</td>\n",
       "    </tr>\n",
       "    <tr>\n",
       "      <th>beta_lactose</th>\n",
       "      <td>-0.90</td>\n",
       "      <td>0.08</td>\n",
       "      <td>0.0</td>\n",
       "      <td>-1.02</td>\n",
       "      <td>-0.78</td>\n",
       "    </tr>\n",
       "    <tr>\n",
       "      <th>sigma</th>\n",
       "      <td>0.41</td>\n",
       "      <td>0.06</td>\n",
       "      <td>0.0</td>\n",
       "      <td>0.33</td>\n",
       "      <td>0.51</td>\n",
       "    </tr>\n",
       "  </tbody>\n",
       "</table>\n",
       "</div>"
      ],
      "text/plain": [
       "              mean    sd  mc_error  hpd_5.5  hpd_94.5\n",
       "alpha        -0.00  0.07       0.0    -0.12      0.11\n",
       "beta_lactose -0.90  0.08       0.0    -1.02     -0.78\n",
       "sigma         0.41  0.06       0.0     0.33      0.51"
      ]
     },
     "execution_count": 7,
     "metadata": {},
     "output_type": "execute_result"
    }
   ],
   "source": [
    "varnames = ['alpha', 'beta_lactose','sigma']\n",
    "pm.summary(trace_6_4, var_names = varnames, alpha = 0.11).round(2)"
   ]
  },
  {
   "cell_type": "code",
   "execution_count": 8,
   "metadata": {},
   "outputs": [
    {
     "name": "stderr",
     "output_type": "stream",
     "text": [
      "Auto-assigning NUTS sampler...\n",
      "Initializing NUTS using jitter+adapt_diag...\n",
      "Sequential sampling (1 chains in 1 job)\n",
      "NUTS: [sigma, beta_fat, beta_lactose, alpha]\n",
      "100%|█████████████████████████████████████████████████████████████████████████████| 2000/2000 [00:03<00:00, 629.27it/s]\n",
      "Only one chain was sampled, this makes it impossible to run some convergence checks\n"
     ]
    },
    {
     "data": {
      "text/html": [
       "<div>\n",
       "<style scoped>\n",
       "    .dataframe tbody tr th:only-of-type {\n",
       "        vertical-align: middle;\n",
       "    }\n",
       "\n",
       "    .dataframe tbody tr th {\n",
       "        vertical-align: top;\n",
       "    }\n",
       "\n",
       "    .dataframe thead th {\n",
       "        text-align: right;\n",
       "    }\n",
       "</style>\n",
       "<table border=\"1\" class=\"dataframe\">\n",
       "  <thead>\n",
       "    <tr style=\"text-align: right;\">\n",
       "      <th></th>\n",
       "      <th>mean</th>\n",
       "      <th>sd</th>\n",
       "      <th>mc_error</th>\n",
       "      <th>hpd_5.5</th>\n",
       "      <th>hpd_94.5</th>\n",
       "    </tr>\n",
       "  </thead>\n",
       "  <tbody>\n",
       "    <tr>\n",
       "      <th>alpha</th>\n",
       "      <td>0.00</td>\n",
       "      <td>0.08</td>\n",
       "      <td>0.00</td>\n",
       "      <td>-0.13</td>\n",
       "      <td>0.11</td>\n",
       "    </tr>\n",
       "    <tr>\n",
       "      <th>beta_lactose</th>\n",
       "      <td>-0.66</td>\n",
       "      <td>0.20</td>\n",
       "      <td>0.01</td>\n",
       "      <td>-0.95</td>\n",
       "      <td>-0.34</td>\n",
       "    </tr>\n",
       "    <tr>\n",
       "      <th>beta_fat</th>\n",
       "      <td>0.26</td>\n",
       "      <td>0.20</td>\n",
       "      <td>0.01</td>\n",
       "      <td>-0.05</td>\n",
       "      <td>0.56</td>\n",
       "    </tr>\n",
       "    <tr>\n",
       "      <th>sigma</th>\n",
       "      <td>0.42</td>\n",
       "      <td>0.05</td>\n",
       "      <td>0.00</td>\n",
       "      <td>0.33</td>\n",
       "      <td>0.50</td>\n",
       "    </tr>\n",
       "  </tbody>\n",
       "</table>\n",
       "</div>"
      ],
      "text/plain": [
       "              mean    sd  mc_error  hpd_5.5  hpd_94.5\n",
       "alpha         0.00  0.08      0.00    -0.13      0.11\n",
       "beta_lactose -0.66  0.20      0.01    -0.95     -0.34\n",
       "beta_fat      0.26  0.20      0.01    -0.05      0.56\n",
       "sigma         0.42  0.05      0.00     0.33      0.50"
      ]
     },
     "execution_count": 8,
     "metadata": {},
     "output_type": "execute_result"
    }
   ],
   "source": [
    "#R code 6.10\n",
    "with pm.Model() as m_6_5:\n",
    "    alpha = pm.Normal('alpha', mu=0, sd=0.2) \n",
    "    beta_lactose = pm.Normal('beta_lactose', mu=0, sd=0.5) \n",
    "    beta_fat = pm.Normal('beta_fat', mu=0, sd=0.5) \n",
    "    mu = pm.Deterministic('mu', alpha + beta_lactose*d.l_s + beta_fat*d.f_s)\n",
    "    sigma = pm.Exponential('sigma', 1)\n",
    "    K = pm.Normal('kcalpg', mu=mu, sd=sigma, observed=d.k_s)\n",
    "    trace_6_4 = pm.sample(1000, tune=1000, chains=1) \n",
    "\n",
    "varnames = ['alpha', 'beta_lactose', 'beta_fat', 'sigma']\n",
    "pm.summary(trace_6_4, var_names = varnames, alpha = 0.11).round(2)\n",
    "# Punch line: now each predictor is less valuable than it was in its bivariate model. The cause: the two \n",
    "# predictors are very highly correlated. Once you know one, there is very little value in knowing the other."
   ]
  },
  {
   "cell_type": "code",
   "execution_count": 9,
   "metadata": {},
   "outputs": [
    {
     "data": {
      "image/png": "[encoded data removed]",
      "text/plain": [
       "<Figure size 540x540 with 12 Axes>"
      ]
     },
     "metadata": {
      "needs_background": "light"
     },
     "output_type": "display_data"
    }
   ],
   "source": [
    "#R code 6.11\n",
    "df = d[['kcal.per.g','perc.fat','perc.lactose']]\n",
    "sns.pairplot(df);"
   ]
  },
  {
   "cell_type": "code",
   "execution_count": 10,
   "metadata": {},
   "outputs": [
    {
     "data": {
      "text/plain": [
       "-0.9416373456839282"
      ]
     },
     "execution_count": 10,
     "metadata": {},
     "output_type": "execute_result"
    }
   ],
   "source": [
    "#R code 6.12\n",
    "d.corr()['perc.fat']['perc.lactose']\n",
    "# very strongly correlated"
   ]
  },
  {
   "cell_type": "code",
   "execution_count": 11,
   "metadata": {},
   "outputs": [],
   "source": [
    "#R code 6.14\n",
    "\n",
    "N = 100 # number of plants\n",
    "h_0 = stats.norm.rvs(loc=10, scale=2, size = N) #simulate initial heights\n",
    "treatment = np.repeat([0,1], [N/2]) #treat half the plants\n",
    "fungus = stats.binom.rvs(size = N, n=1, p=(0.5 -  treatment*0.4)) # fungus results\n",
    "h_1 = h_0 + stats.norm.rvs(size=N, loc=(5-3*fungus)) #final height\n",
    "d = pd.DataFrame({'h_0': h_0,\n",
    "                  'h_1': h_1,\n",
    "                  'treatment':treatment,\n",
    "                  'fungus': fungus})\n",
    "\n",
    "#this 'data' will inform our priors for the next model"
   ]
  },
  {
   "cell_type": "code",
   "execution_count": 12,
   "metadata": {},
   "outputs": [
    {
     "name": "stderr",
     "output_type": "stream",
     "text": [
      "Auto-assigning NUTS sampler...\n",
      "Initializing NUTS using jitter+adapt_diag...\n",
      "Sequential sampling (1 chains in 1 job)\n",
      "NUTS: [sigma, proportion]\n",
      "100%|████████████████████████████████████████████████████████████████████████████| 2000/2000 [00:01<00:00, 1994.28it/s]\n",
      "Only one chain was sampled, this makes it impossible to run some convergence checks\n"
     ]
    }
   ],
   "source": [
    "#R code 6.16\n",
    "with pm.Model() as m_6_6:\n",
    "    p = pm.Lognormal('proportion', mu=0, sd=0.25) \n",
    "    mu = pm.Deterministic('mu', p*d.h_0)\n",
    "    sigma = pm.Exponential('sigma', 1)\n",
    "    h_1 = pm.Normal('h_1', mu=mu, sd=sigma, observed=d.h_1)\n",
    "    trace_6_6 = pm.sample(1000, tune=1000, chains=1) "
   ]
  },
  {
   "cell_type": "code",
   "execution_count": 13,
   "metadata": {},
   "outputs": [
    {
     "data": {
      "text/html": [
       "<div>\n",
       "<style scoped>\n",
       "    .dataframe tbody tr th:only-of-type {\n",
       "        vertical-align: middle;\n",
       "    }\n",
       "\n",
       "    .dataframe tbody tr th {\n",
       "        vertical-align: top;\n",
       "    }\n",
       "\n",
       "    .dataframe thead th {\n",
       "        text-align: right;\n",
       "    }\n",
       "</style>\n",
       "<table border=\"1\" class=\"dataframe\">\n",
       "  <thead>\n",
       "    <tr style=\"text-align: right;\">\n",
       "      <th></th>\n",
       "      <th>mean</th>\n",
       "      <th>sd</th>\n",
       "      <th>mc_error</th>\n",
       "      <th>hpd_5.5</th>\n",
       "      <th>hpd_94.5</th>\n",
       "    </tr>\n",
       "  </thead>\n",
       "  <tbody>\n",
       "    <tr>\n",
       "      <th>proportion</th>\n",
       "      <td>1.35</td>\n",
       "      <td>0.02</td>\n",
       "      <td>0.0</td>\n",
       "      <td>1.32</td>\n",
       "      <td>1.38</td>\n",
       "    </tr>\n",
       "    <tr>\n",
       "      <th>sigma</th>\n",
       "      <td>2.13</td>\n",
       "      <td>0.14</td>\n",
       "      <td>0.0</td>\n",
       "      <td>1.91</td>\n",
       "      <td>2.36</td>\n",
       "    </tr>\n",
       "  </tbody>\n",
       "</table>\n",
       "</div>"
      ],
      "text/plain": [
       "            mean    sd  mc_error  hpd_5.5  hpd_94.5\n",
       "proportion  1.35  0.02       0.0     1.32      1.38\n",
       "sigma       2.13  0.14       0.0     1.91      2.36"
      ]
     },
     "execution_count": 13,
     "metadata": {},
     "output_type": "execute_result"
    }
   ],
   "source": [
    "varnames = ['proportion','sigma']\n",
    "pm.summary(trace_6_6, var_names = varnames, alpha = 0.11).round(2)"
   ]
  },
  {
   "cell_type": "code",
   "execution_count": 14,
   "metadata": {},
   "outputs": [
    {
     "name": "stderr",
     "output_type": "stream",
     "text": [
      "Auto-assigning NUTS sampler...\n",
      "Initializing NUTS using jitter+adapt_diag...\n",
      "Sequential sampling (1 chains in 1 job)\n",
      "NUTS: [sigma, beta_fungus, beta_treatment, alpha]\n",
      "100%|█████████████████████████████████████████████████████████████████████████████| 2000/2000 [00:02<00:00, 847.19it/s]\n",
      "Only one chain was sampled, this makes it impossible to run some convergence checks\n"
     ]
    }
   ],
   "source": [
    "#R code 6.17\n",
    "with pm.Model() as m_6_7:\n",
    "    alpha = pm.Lognormal('alpha', mu=0, sd=0.25) #note alpha here is the old p\n",
    "    beta_treatment = pm.Normal('beta_treatment', mu=0, sd=0.5) \n",
    "    beta_fungus = pm.Normal('beta_fungus', mu=0, sd=0.5) \n",
    "    p = pm.Deterministic('proportion', alpha + beta_treatment * d.treatment + beta_fungus * d.fungus)\n",
    "    mu = pm.Deterministic('mu', p*d.h_0)\n",
    "    sigma = pm.Exponential('sigma', 1)\n",
    "    h_1 = pm.Normal('h_1', mu=mu, sd=sigma, observed=d.h_1)\n",
    "    trace_6_7 = pm.sample(1000, tune=1000, chains=1) \n"
   ]
  },
  {
   "cell_type": "code",
   "execution_count": 15,
   "metadata": {},
   "outputs": [
    {
     "data": {
      "text/html": [
       "<div>\n",
       "<style scoped>\n",
       "    .dataframe tbody tr th:only-of-type {\n",
       "        vertical-align: middle;\n",
       "    }\n",
       "\n",
       "    .dataframe tbody tr th {\n",
       "        vertical-align: top;\n",
       "    }\n",
       "\n",
       "    .dataframe thead th {\n",
       "        text-align: right;\n",
       "    }\n",
       "</style>\n",
       "<table border=\"1\" class=\"dataframe\">\n",
       "  <thead>\n",
       "    <tr style=\"text-align: right;\">\n",
       "      <th></th>\n",
       "      <th>mean</th>\n",
       "      <th>sd</th>\n",
       "      <th>mc_error</th>\n",
       "      <th>hpd_5.5</th>\n",
       "      <th>hpd_94.5</th>\n",
       "    </tr>\n",
       "  </thead>\n",
       "  <tbody>\n",
       "    <tr>\n",
       "      <th>alpha</th>\n",
       "      <td>1.46</td>\n",
       "      <td>0.03</td>\n",
       "      <td>0.0</td>\n",
       "      <td>1.41</td>\n",
       "      <td>1.51</td>\n",
       "    </tr>\n",
       "    <tr>\n",
       "      <th>beta_treatment</th>\n",
       "      <td>0.02</td>\n",
       "      <td>0.04</td>\n",
       "      <td>0.0</td>\n",
       "      <td>-0.04</td>\n",
       "      <td>0.07</td>\n",
       "    </tr>\n",
       "    <tr>\n",
       "      <th>beta_fungus</th>\n",
       "      <td>-0.30</td>\n",
       "      <td>0.04</td>\n",
       "      <td>0.0</td>\n",
       "      <td>-0.36</td>\n",
       "      <td>-0.25</td>\n",
       "    </tr>\n",
       "    <tr>\n",
       "      <th>sigma</th>\n",
       "      <td>1.47</td>\n",
       "      <td>0.10</td>\n",
       "      <td>0.0</td>\n",
       "      <td>1.31</td>\n",
       "      <td>1.63</td>\n",
       "    </tr>\n",
       "  </tbody>\n",
       "</table>\n",
       "</div>"
      ],
      "text/plain": [
       "                mean    sd  mc_error  hpd_5.5  hpd_94.5\n",
       "alpha           1.46  0.03       0.0     1.41      1.51\n",
       "beta_treatment  0.02  0.04       0.0    -0.04      0.07\n",
       "beta_fungus    -0.30  0.04       0.0    -0.36     -0.25\n",
       "sigma           1.47  0.10       0.0     1.31      1.63"
      ]
     },
     "execution_count": 15,
     "metadata": {},
     "output_type": "execute_result"
    }
   ],
   "source": [
    "varnames = ['alpha','beta_treatment','beta_fungus','sigma']\n",
    "pm.summary(trace_6_7, var_names = varnames, alpha = 0.11).round(2)\n",
    "# note alpha here is the old p\n",
    "# The surprise here is that the treatment seems to not matter, even though we built the data in such a way that \n",
    "# it should. The reason is that the treatment effect is wrapped into fungus. Fungus is a post-treatment variable."
   ]
  },
  {
   "cell_type": "code",
   "execution_count": 16,
   "metadata": {},
   "outputs": [
    {
     "name": "stderr",
     "output_type": "stream",
     "text": [
      "Auto-assigning NUTS sampler...\n",
      "Initializing NUTS using jitter+adapt_diag...\n",
      "Sequential sampling (1 chains in 1 job)\n",
      "NUTS: [sigma, beta_treatment, alpha]\n",
      "100%|████████████████████████████████████████████████████████████████████████████| 2000/2000 [00:01<00:00, 1097.35it/s]\n",
      "Only one chain was sampled, this makes it impossible to run some convergence checks\n"
     ]
    },
    {
     "data": {
      "text/html": [
       "<div>\n",
       "<style scoped>\n",
       "    .dataframe tbody tr th:only-of-type {\n",
       "        vertical-align: middle;\n",
       "    }\n",
       "\n",
       "    .dataframe tbody tr th {\n",
       "        vertical-align: top;\n",
       "    }\n",
       "\n",
       "    .dataframe thead th {\n",
       "        text-align: right;\n",
       "    }\n",
       "</style>\n",
       "<table border=\"1\" class=\"dataframe\">\n",
       "  <thead>\n",
       "    <tr style=\"text-align: right;\">\n",
       "      <th></th>\n",
       "      <th>mean</th>\n",
       "      <th>sd</th>\n",
       "      <th>mc_error</th>\n",
       "      <th>hpd_5.5</th>\n",
       "      <th>hpd_94.5</th>\n",
       "    </tr>\n",
       "  </thead>\n",
       "  <tbody>\n",
       "    <tr>\n",
       "      <th>alpha</th>\n",
       "      <td>1.27</td>\n",
       "      <td>0.03</td>\n",
       "      <td>0.00</td>\n",
       "      <td>1.23</td>\n",
       "      <td>1.31</td>\n",
       "    </tr>\n",
       "    <tr>\n",
       "      <th>beta_treatment</th>\n",
       "      <td>0.17</td>\n",
       "      <td>0.04</td>\n",
       "      <td>0.00</td>\n",
       "      <td>0.11</td>\n",
       "      <td>0.23</td>\n",
       "    </tr>\n",
       "    <tr>\n",
       "      <th>sigma</th>\n",
       "      <td>1.94</td>\n",
       "      <td>0.14</td>\n",
       "      <td>0.01</td>\n",
       "      <td>1.73</td>\n",
       "      <td>2.17</td>\n",
       "    </tr>\n",
       "  </tbody>\n",
       "</table>\n",
       "</div>"
      ],
      "text/plain": [
       "                mean    sd  mc_error  hpd_5.5  hpd_94.5\n",
       "alpha           1.27  0.03      0.00     1.23      1.31\n",
       "beta_treatment  0.17  0.04      0.00     0.11      0.23\n",
       "sigma           1.94  0.14      0.01     1.73      2.17"
      ]
     },
     "execution_count": 16,
     "metadata": {},
     "output_type": "execute_result"
    }
   ],
   "source": [
    "with pm.Model() as m_6_8:\n",
    "    alpha = pm.Lognormal('alpha', mu=0, sd=0.25) #note alpha here is the old p\n",
    "    beta_treatment = pm.Normal('beta_treatment', mu=0, sd=0.5) \n",
    "    p = pm.Deterministic('proportion', alpha + beta_treatment * d.treatment)\n",
    "    mu = pm.Deterministic('mu', p*d.h_0)\n",
    "    sigma = pm.Exponential('sigma', 1)\n",
    "    h_1 = pm.Normal('h_1', mu=mu, sd=sigma, observed=d.h_1)\n",
    "    trace_6_8 = pm.sample(1000, tune=1000, chains=1) \n",
    "    \n",
    "varnames = ['alpha','beta_treatment','sigma']\n",
    "pm.summary(trace_6_8, var_names = varnames, alpha = 0.11).round(2)\n",
    "\n",
    "# Now that we have removed fungus, treatment matters, as it should."
   ]
  },
  {
   "cell_type": "code",
   "execution_count": 17,
   "metadata": {},
   "outputs": [
    {
     "name": "stderr",
     "output_type": "stream",
     "text": [
      "C:\\Users\\mviotti\\AppData\\Local\\Continuum\\anaconda3\\envs\\stats\\lib\\site-packages\\networkx\\drawing\\nx_pylab.py:579: MatplotlibDeprecationWarning: \n",
      "The iterable function was deprecated in Matplotlib 3.1 and will be removed in 3.3. Use np.iterable instead.\n",
      "  if not cb.iterable(width):\n",
      "C:\\Users\\mviotti\\AppData\\Local\\Continuum\\anaconda3\\envs\\stats\\lib\\site-packages\\networkx\\drawing\\nx_pylab.py:676: MatplotlibDeprecationWarning: \n",
      "The iterable function was deprecated in Matplotlib 3.1 and will be removed in 3.3. Use np.iterable instead.\n",
      "  if cb.iterable(node_size):  # many node sizes\n"
     ]
    },
    {
     "data": {
      "image/png": "[encoded data removed]",
      "text/plain": [
       "<Figure size 432x288 with 1 Axes>"
      ]
     },
     "metadata": {},
     "output_type": "display_data"
    }
   ],
   "source": [
    "# R code 6.31\n",
    "# I skipped a lot of code because it mostly came from a simulated data set. The lesson is important, but the code is\n",
    "# nothing especially new. But it looks like DAGs could be very important. So here we go.\n",
    "\n",
    "G1=nx.DiGraph()\n",
    "G1.add_edges_from([(\"S\", \"W\"), (\"S\", \"M\"), (\"S\", \"A\"), (\"A\", \"D\"), (\"A\", \"M\"), (\"M\", \"D\"), (\"W\",\"D\")])\n",
    "nx.draw(G1, with_labels=True, font_weight='bold')\n",
    "plt.show();"
   ]
  },
  {
   "cell_type": "code",
   "execution_count": 18,
   "metadata": {},
   "outputs": [
    {
     "name": "stdout",
     "output_type": "stream",
     "text": [
      "['S', 'W', 'D']\n",
      "['S', 'M', 'D']\n",
      "['S', 'A', 'D']\n",
      "['S', 'A', 'M', 'D']\n"
     ]
    }
   ],
   "source": [
    "for path in nx.all_simple_paths(G1, source=\"S\", target=\"D\"):\n",
    "    print(path)\n",
    "\n",
    "# all_simple_paths takes into account direction of edges."
   ]
  },
  {
   "cell_type": "code",
   "execution_count": 19,
   "metadata": {},
   "outputs": [
    {
     "name": "stdout",
     "output_type": "stream",
     "text": [
      "['S', 'W', 'D']\n",
      "['S', 'M', 'D']\n",
      "['S', 'M', 'A', 'D']\n",
      "['S', 'A', 'D']\n",
      "['S', 'A', 'M', 'D']\n"
     ]
    }
   ],
   "source": [
    "G2=G1.to_undirected()\n",
    "for path in nx.all_simple_paths(G2, source=\"S\", target=\"D\"):\n",
    "    print(path)\n",
    "\n",
    "# to not care about edge directions, conver to an undirected graph and then find paths."
   ]
  },
  {
   "cell_type": "code",
   "execution_count": 32,
   "metadata": {},
   "outputs": [
    {
     "data": {
      "image/svg+xml": [
       "<?xml version=\"1.0\" encoding=\"UTF-8\" standalone=\"no\"?>\r\n",
       "<!DOCTYPE svg PUBLIC \"-//W3C//DTD SVG 1.1//EN\"\r\n",
       " \"http://www.w3.org/Graphics/SVG/1.1/DTD/svg11.dtd\">\r\n",
       "<!-- Generated by graphviz version 2.38.0 (20140413.2041)\r\n",
       " -->\r\n",
       "<!-- Title: %3 Pages: 1 -->\r\n",
       "<svg width=\"162pt\" height=\"260pt\"\r\n",
       " viewBox=\"0.00 0.00 162.00 260.00\" xmlns=\"http://www.w3.org/2000/svg\" xmlns:xlink=\"http://www.w3.org/1999/xlink\">\r\n",
       "<g id=\"graph0\" class=\"graph\" transform=\"scale(1 1) rotate(0) translate(4 256)\">\r\n",
       "<title>%3</title>\r\n",
       "<polygon fill=\"white\" stroke=\"none\" points=\"-4,4 -4,-256 158,-256 158,4 -4,4\"/>\r\n",
       "<!-- X -->\r\n",
       "<g id=\"node1\" class=\"node\"><title>X</title>\r\n",
       "<ellipse fill=\"none\" stroke=\"black\" cx=\"127\" cy=\"-90\" rx=\"27\" ry=\"18\"/>\r\n",
       "<text text-anchor=\"middle\" x=\"127\" y=\"-86.3\" font-family=\"Times New Roman,serif\" font-size=\"14.00\">X</text>\r\n",
       "</g>\r\n",
       "<!-- Y -->\r\n",
       "<g id=\"node2\" class=\"node\"><title>Y</title>\r\n",
       "<ellipse fill=\"none\" stroke=\"black\" cx=\"63\" cy=\"-18\" rx=\"27\" ry=\"18\"/>\r\n",
       "<text text-anchor=\"middle\" x=\"63\" y=\"-14.3\" font-family=\"Times New Roman,serif\" font-size=\"14.00\">Y</text>\r\n",
       "</g>\r\n",
       "<!-- X&#45;&gt;Y -->\r\n",
       "<g id=\"edge7\" class=\"edge\"><title>X&#45;&gt;Y</title>\r\n",
       "<path fill=\"none\" stroke=\"black\" d=\"M113.427,-74.1548C104.688,-64.5957 93.1659,-51.994 83.3422,-41.2493\"/>\r\n",
       "<polygon fill=\"black\" stroke=\"black\" points=\"85.884,-38.8424 76.5532,-33.8238 80.7178,-43.5658 85.884,-38.8424\"/>\r\n",
       "</g>\r\n",
       "<!-- C -->\r\n",
       "<g id=\"node3\" class=\"node\"><title>C</title>\r\n",
       "<ellipse fill=\"none\" stroke=\"black\" cx=\"27\" cy=\"-162\" rx=\"27\" ry=\"18\"/>\r\n",
       "<text text-anchor=\"middle\" x=\"27\" y=\"-158.3\" font-family=\"Times New Roman,serif\" font-size=\"14.00\">C</text>\r\n",
       "</g>\r\n",
       "<!-- C&#45;&gt;Y -->\r\n",
       "<g id=\"edge4\" class=\"edge\"><title>C&#45;&gt;Y</title>\r\n",
       "<path fill=\"none\" stroke=\"black\" d=\"M21.3913,-144.384C16.1441,-126.09 10.3083,-96.0768 19,-72 23.2713,-60.168 31.4611,-49.1113 39.6281,-40.1904\"/>\r\n",
       "<polygon fill=\"black\" stroke=\"black\" points=\"42.2266,-42.5388 46.7002,-32.9347 37.2138,-37.6528 42.2266,-42.5388\"/>\r\n",
       "</g>\r\n",
       "<!-- B -->\r\n",
       "<g id=\"node5\" class=\"node\"><title>B</title>\r\n",
       "<ellipse fill=\"none\" stroke=\"black\" cx=\"55\" cy=\"-90\" rx=\"27\" ry=\"18\"/>\r\n",
       "<text text-anchor=\"middle\" x=\"55\" y=\"-86.3\" font-family=\"Times New Roman,serif\" font-size=\"14.00\">B</text>\r\n",
       "</g>\r\n",
       "<!-- C&#45;&gt;B -->\r\n",
       "<g id=\"edge3\" class=\"edge\"><title>C&#45;&gt;B</title>\r\n",
       "<path fill=\"none\" stroke=\"black\" d=\"M33.6356,-144.411C36.9134,-136.216 40.9442,-126.14 44.6181,-116.955\"/>\r\n",
       "<polygon fill=\"black\" stroke=\"black\" points=\"47.9477,-118.055 48.412,-107.47 41.4484,-115.455 47.9477,-118.055\"/>\r\n",
       "</g>\r\n",
       "<!-- A -->\r\n",
       "<g id=\"node4\" class=\"node\"><title>A</title>\r\n",
       "<ellipse fill=\"none\" stroke=\"black\" cx=\"63\" cy=\"-234\" rx=\"27\" ry=\"18\"/>\r\n",
       "<text text-anchor=\"middle\" x=\"63\" y=\"-230.3\" font-family=\"Times New Roman,serif\" font-size=\"14.00\">A</text>\r\n",
       "</g>\r\n",
       "<!-- A&#45;&gt;C -->\r\n",
       "<g id=\"edge2\" class=\"edge\"><title>A&#45;&gt;C</title>\r\n",
       "<path fill=\"none\" stroke=\"black\" d=\"M54.6504,-216.765C50.2885,-208.283 44.8531,-197.714 39.9587,-188.197\"/>\r\n",
       "<polygon fill=\"black\" stroke=\"black\" points=\"42.9904,-186.439 35.3043,-179.147 36.7654,-189.641 42.9904,-186.439\"/>\r\n",
       "</g>\r\n",
       "<!-- U -->\r\n",
       "<g id=\"node6\" class=\"node\"><title>U</title>\r\n",
       "<ellipse fill=\"none\" stroke=\"black\" cx=\"99\" cy=\"-162\" rx=\"27\" ry=\"18\"/>\r\n",
       "<text text-anchor=\"middle\" x=\"99\" y=\"-158.3\" font-family=\"Times New Roman,serif\" font-size=\"14.00\">U</text>\r\n",
       "</g>\r\n",
       "<!-- A&#45;&gt;U -->\r\n",
       "<g id=\"edge1\" class=\"edge\"><title>A&#45;&gt;U</title>\r\n",
       "<path fill=\"none\" stroke=\"black\" d=\"M71.3496,-216.765C75.7115,-208.283 81.1469,-197.714 86.0413,-188.197\"/>\r\n",
       "<polygon fill=\"black\" stroke=\"black\" points=\"89.2346,-189.641 90.6957,-179.147 83.0096,-186.439 89.2346,-189.641\"/>\r\n",
       "</g>\r\n",
       "<!-- U&#45;&gt;X -->\r\n",
       "<g id=\"edge5\" class=\"edge\"><title>U&#45;&gt;X</title>\r\n",
       "<path fill=\"none\" stroke=\"black\" d=\"M105.636,-144.411C108.913,-136.216 112.944,-126.14 116.618,-116.955\"/>\r\n",
       "<polygon fill=\"black\" stroke=\"black\" points=\"119.948,-118.055 120.412,-107.47 113.448,-115.455 119.948,-118.055\"/>\r\n",
       "</g>\r\n",
       "<!-- U&#45;&gt;B -->\r\n",
       "<g id=\"edge6\" class=\"edge\"><title>U&#45;&gt;B</title>\r\n",
       "<path fill=\"none\" stroke=\"black\" d=\"M89.0157,-145.116C83.5026,-136.345 76.5372,-125.264 70.3473,-115.416\"/>\r\n",
       "<polygon fill=\"black\" stroke=\"black\" points=\"73.2298,-113.425 64.9448,-106.821 67.3033,-117.15 73.2298,-113.425\"/>\r\n",
       "</g>\r\n",
       "</g>\r\n",
       "</svg>\r\n"
      ],
      "text/plain": [
       "<graphviz.dot.Digraph at 0x23f5ab62ba8>"
      ]
     },
     "execution_count": 32,
     "metadata": {},
     "output_type": "execute_result"
    }
   ],
   "source": [
    "#R code 6.30 - backtracking\n",
    "#Let's try using CausalGraphicalModel to draw our DAGs\n",
    "# https://github.com/ijmbarr/causalgraphicalmodels/blob/master/causalgraphicalmodels/cgm.py\n",
    "# http://www.degeneratestate.org/posts/2018/Mar/24/causal-inference-with-python-part-1-potential-outcomes/\n",
    "# http://www.degeneratestate.org/posts/2018/Jul/10/causal-inference-with-python-part-2-causal-graphical-models/\n",
    "DAG = cgm.CausalGraphicalModel(\n",
    "    nodes = [\"A\", \"B\", \"C\", \"U\", \"X\", \"Y\"],\n",
    "    edges = [\n",
    "        (\"X\",\"Y\"),\n",
    "        (\"U\",\"X\"),\n",
    "        (\"U\",\"B\"),\n",
    "        (\"A\",\"U\"),\n",
    "        (\"A\",\"C\"),\n",
    "        (\"C\",\"B\"),\n",
    "        (\"C\",\"Y\")\n",
    "    ])\n",
    "DAG.draw();"
   ]
  },
  {
   "cell_type": "code",
   "execution_count": 34,
   "metadata": {},
   "outputs": [
    {
     "data": {
      "text/plain": [
       "frozenset({frozenset({'A', 'U'}),\n",
       "           frozenset({'C'}),\n",
       "           frozenset({'U'}),\n",
       "           frozenset({'C', 'U'}),\n",
       "           frozenset({'A'}),\n",
       "           frozenset({'A', 'C'}),\n",
       "           frozenset({'A', 'C', 'U'}),\n",
       "           frozenset({'B', 'U'}),\n",
       "           frozenset({'B', 'C'}),\n",
       "           frozenset({'A', 'B', 'C'}),\n",
       "           frozenset({'A', 'B', 'U'}),\n",
       "           frozenset({'B', 'C', 'U'}),\n",
       "           frozenset({'A', 'B', 'C', 'U'})})"
      ]
     },
     "execution_count": 34,
     "metadata": {},
     "output_type": "execute_result"
    }
   ],
   "source": [
    "x = DAG.get_all_backdoor_adjustment_sets(\"X\", \"Y\")\n",
    "x"
   ]
  },
  {
   "cell_type": "code",
   "execution_count": 36,
   "metadata": {},
   "outputs": [],
   "source": [
    "# should generalize this to accept either a DAG or a list of all backdoor adjustment sets\n",
    "\n",
    "def get_shortest_backdoor_adjustment_sets(all_sets):\n",
    "    shortest_sets = []\n",
    "    first_element, *_ = all_sets   # this extracts the first element of the set. I don't understand it.\n",
    "    min_length = len(first_element)\n",
    "    for x in all_sets:\n",
    "        if len(x) < min_length:   # If we've found the shortest set length yet \n",
    "            min_length = len(x)   # Set the length as our new min length\n",
    "            shortest_sets = []    # Clear the shortest sets list\n",
    "            shortest_sets.append(x) # Add the new set to the list\n",
    "        elif len(x) == min_length: # If we've found a set equivalent to our min set length\n",
    "            shortest_sets.append(x) # Just add the set to the list\n",
    "    return shortest_sets       \n",
    "    "
   ]
  },
  {
   "cell_type": "code",
   "execution_count": 37,
   "metadata": {},
   "outputs": [
    {
     "data": {
      "text/plain": [
       "[frozenset({'C'}), frozenset({'A'}), frozenset({'U'})]"
      ]
     },
     "execution_count": 37,
     "metadata": {},
     "output_type": "execute_result"
    }
   ],
   "source": [
    "get_shortest_backdoor_adjustment_sets(x)"
   ]
  },
  {
   "cell_type": "code",
   "execution_count": 74,
   "metadata": {},
   "outputs": [
    {
     "data": {
      "image/svg+xml": [
       "<?xml version=\"1.0\" encoding=\"UTF-8\" standalone=\"no\"?>\r\n",
       "<!DOCTYPE svg PUBLIC \"-//W3C//DTD SVG 1.1//EN\"\r\n",
       " \"http://www.w3.org/Graphics/SVG/1.1/DTD/svg11.dtd\">\r\n",
       "<!-- Generated by graphviz version 2.38.0 (20140413.2041)\r\n",
       " -->\r\n",
       "<!-- Title: %3 Pages: 1 -->\r\n",
       "<svg width=\"180pt\" height=\"260pt\"\r\n",
       " viewBox=\"0.00 0.00 180.00 260.00\" xmlns=\"http://www.w3.org/2000/svg\" xmlns:xlink=\"http://www.w3.org/1999/xlink\">\r\n",
       "<g id=\"graph0\" class=\"graph\" transform=\"scale(1 1) rotate(0) translate(4 256)\">\r\n",
       "<title>%3</title>\r\n",
       "<polygon fill=\"white\" stroke=\"none\" points=\"-4,4 -4,-256 176,-256 176,4 -4,4\"/>\r\n",
       "<!-- S -->\r\n",
       "<g id=\"node1\" class=\"node\"><title>S</title>\r\n",
       "<ellipse fill=\"none\" stroke=\"black\" cx=\"90\" cy=\"-234\" rx=\"27\" ry=\"18\"/>\r\n",
       "<text text-anchor=\"middle\" x=\"90\" y=\"-230.3\" font-family=\"Times New Roman,serif\" font-size=\"14.00\">S</text>\r\n",
       "</g>\r\n",
       "<!-- M -->\r\n",
       "<g id=\"node2\" class=\"node\"><title>M</title>\r\n",
       "<ellipse fill=\"none\" stroke=\"black\" cx=\"99\" cy=\"-90\" rx=\"27\" ry=\"18\"/>\r\n",
       "<text text-anchor=\"middle\" x=\"99\" y=\"-86.3\" font-family=\"Times New Roman,serif\" font-size=\"14.00\">M</text>\r\n",
       "</g>\r\n",
       "<!-- S&#45;&gt;M -->\r\n",
       "<g id=\"edge5\" class=\"edge\"><title>S&#45;&gt;M</title>\r\n",
       "<path fill=\"none\" stroke=\"black\" d=\"M91.0856,-215.871C92.6195,-191.67 95.4373,-147.211 97.2638,-118.393\"/>\r\n",
       "<polygon fill=\"black\" stroke=\"black\" points=\"100.771,-118.391 97.9105,-108.189 93.7849,-117.948 100.771,-118.391\"/>\r\n",
       "</g>\r\n",
       "<!-- W -->\r\n",
       "<g id=\"node4\" class=\"node\"><title>W</title>\r\n",
       "<ellipse fill=\"none\" stroke=\"black\" cx=\"27\" cy=\"-90\" rx=\"27\" ry=\"18\"/>\r\n",
       "<text text-anchor=\"middle\" x=\"27\" y=\"-86.3\" font-family=\"Times New Roman,serif\" font-size=\"14.00\">W</text>\r\n",
       "</g>\r\n",
       "<!-- S&#45;&gt;W -->\r\n",
       "<g id=\"edge4\" class=\"edge\"><title>S&#45;&gt;W</title>\r\n",
       "<path fill=\"none\" stroke=\"black\" d=\"M82.6498,-216.433C71.7907,-191.957 51.3622,-145.912 38.5066,-116.936\"/>\r\n",
       "<polygon fill=\"black\" stroke=\"black\" points=\"41.5581,-115.183 34.3034,-107.462 35.1596,-118.022 41.5581,-115.183\"/>\r\n",
       "</g>\r\n",
       "<!-- A -->\r\n",
       "<g id=\"node5\" class=\"node\"><title>A</title>\r\n",
       "<ellipse fill=\"none\" stroke=\"black\" cx=\"145\" cy=\"-162\" rx=\"27\" ry=\"18\"/>\r\n",
       "<text text-anchor=\"middle\" x=\"145\" y=\"-158.3\" font-family=\"Times New Roman,serif\" font-size=\"14.00\">A</text>\r\n",
       "</g>\r\n",
       "<!-- S&#45;&gt;A -->\r\n",
       "<g id=\"edge3\" class=\"edge\"><title>S&#45;&gt;A</title>\r\n",
       "<path fill=\"none\" stroke=\"black\" d=\"M101.934,-217.811C109.214,-208.546 118.663,-196.52 126.854,-186.094\"/>\r\n",
       "<polygon fill=\"black\" stroke=\"black\" points=\"129.663,-188.185 133.089,-178.159 124.159,-183.86 129.663,-188.185\"/>\r\n",
       "</g>\r\n",
       "<!-- D -->\r\n",
       "<g id=\"node3\" class=\"node\"><title>D</title>\r\n",
       "<ellipse fill=\"none\" stroke=\"black\" cx=\"99\" cy=\"-18\" rx=\"27\" ry=\"18\"/>\r\n",
       "<text text-anchor=\"middle\" x=\"99\" y=\"-14.3\" font-family=\"Times New Roman,serif\" font-size=\"14.00\">D</text>\r\n",
       "</g>\r\n",
       "<!-- M&#45;&gt;D -->\r\n",
       "<g id=\"edge6\" class=\"edge\"><title>M&#45;&gt;D</title>\r\n",
       "<path fill=\"none\" stroke=\"black\" d=\"M99,-71.6966C99,-63.9827 99,-54.7125 99,-46.1124\"/>\r\n",
       "<polygon fill=\"black\" stroke=\"black\" points=\"102.5,-46.1043 99,-36.1043 95.5001,-46.1044 102.5,-46.1043\"/>\r\n",
       "</g>\r\n",
       "<!-- W&#45;&gt;D -->\r\n",
       "<g id=\"edge7\" class=\"edge\"><title>W&#45;&gt;D</title>\r\n",
       "<path fill=\"none\" stroke=\"black\" d=\"M41.5703,-74.8345C51.7499,-64.9376 65.5239,-51.5462 77.0306,-40.3591\"/>\r\n",
       "<polygon fill=\"black\" stroke=\"black\" points=\"79.4741,-42.865 84.2043,-33.3847 74.5945,-37.8461 79.4741,-42.865\"/>\r\n",
       "</g>\r\n",
       "<!-- A&#45;&gt;M -->\r\n",
       "<g id=\"edge1\" class=\"edge\"><title>A&#45;&gt;M</title>\r\n",
       "<path fill=\"none\" stroke=\"black\" d=\"M134.562,-145.116C128.798,-136.345 121.516,-125.264 115.045,-115.416\"/>\r\n",
       "<polygon fill=\"black\" stroke=\"black\" points=\"117.814,-113.256 109.397,-106.821 111.964,-117.1 117.814,-113.256\"/>\r\n",
       "</g>\r\n",
       "<!-- A&#45;&gt;D -->\r\n",
       "<g id=\"edge2\" class=\"edge\"><title>A&#45;&gt;D</title>\r\n",
       "<path fill=\"none\" stroke=\"black\" d=\"M145.481,-143.708C145.442,-125.352 143.792,-95.7703 135,-72 131.122,-61.5153 124.74,-51.0945 118.419,-42.3033\"/>\r\n",
       "<polygon fill=\"black\" stroke=\"black\" points=\"121.042,-39.9693 112.212,-34.1133 115.463,-44.1972 121.042,-39.9693\"/>\r\n",
       "</g>\r\n",
       "</g>\r\n",
       "</svg>\r\n"
      ],
      "text/plain": [
       "<graphviz.dot.Digraph at 0x1e225f272b0>"
      ]
     },
     "execution_count": 74,
     "metadata": {},
     "output_type": "execute_result"
    }
   ],
   "source": [
    "DAG = cgm.CausalGraphicalModel(\n",
    "    nodes = [\"A\", \"S\", \"D\", \"M\", \"W\"],\n",
    "    edges = [\n",
    "        (\"S\",\"A\"),\n",
    "        (\"S\",\"W\"),\n",
    "        (\"S\",\"M\"),\n",
    "        (\"A\",\"M\"),\n",
    "        (\"A\",\"D\"),\n",
    "        (\"M\",\"D\"),\n",
    "        (\"W\",\"D\")\n",
    "    ])\n",
    "DAG.draw()"
   ]
  },
  {
   "cell_type": "code",
   "execution_count": 76,
   "metadata": {},
   "outputs": [
    {
     "data": {
      "text/plain": [
       "frozenset({frozenset({'S'}),\n",
       "           frozenset({'M', 'S'}),\n",
       "           frozenset({'A', 'S'}),\n",
       "           frozenset({'A', 'M'}),\n",
       "           frozenset({'A', 'M', 'S'})})"
      ]
     },
     "execution_count": 76,
     "metadata": {},
     "output_type": "execute_result"
    }
   ],
   "source": [
    "DAG.get_all_backdoor_adjustment_sets(\"W\", \"D\")\n",
    "#It would be nice if I wrote a function to get all non-redundant BDAS. As in, don't return\n",
    "#{M,S} if you've already returned {S}. But that's a problem for another day."
   ]
  },
  {
   "cell_type": "code",
   "execution_count": 77,
   "metadata": {},
   "outputs": [
    {
     "data": {
      "text/plain": [
       "[('S', 'D', {'A', 'M', 'W'}),\n",
       " ('M', 'W', {'S'}),\n",
       " ('M', 'W', {'A', 'S'}),\n",
       " ('W', 'A', {'S'}),\n",
       " ('W', 'A', {'M', 'S'})]"
      ]
     },
     "execution_count": 77,
     "metadata": {},
     "output_type": "execute_result"
    }
   ],
   "source": [
    "DAG.get_all_independence_relationships()"
   ]
  },
  {
   "cell_type": "code",
   "execution_count": 89,
   "metadata": {},
   "outputs": [],
   "source": [
    "#6H1\n",
    "# The motivation is that there will be a correlation between Waffle Houses and divorce\n",
    "# rate if we include age, marriage rate, and divorce rate in our model. See below.\n",
    "\n",
    "d = pd.read_csv('Data/WaffleDivorce.csv', sep=';', header=0)\n",
    "d['age_norm'] = (d.MedianAgeMarriage - d.MedianAgeMarriage.mean())/d.MedianAgeMarriage.std()\n",
    "d['divorce_norm'] = (d.Divorce - d.Divorce.mean())/d.Divorce.std()\n",
    "d['marriage_norm'] = (d.Marriage - d.Marriage.mean())/d.Marriage.std()\n",
    "d['waffles_norm'] = (d.WaffleHouses - d.WaffleHouses.mean())/d.WaffleHouses.std()"
   ]
  },
  {
   "cell_type": "code",
   "execution_count": 47,
   "metadata": {},
   "outputs": [
    {
     "name": "stderr",
     "output_type": "stream",
     "text": [
      "Auto-assigning NUTS sampler...\n",
      "Initializing NUTS using jitter+adapt_diag...\n",
      "Sequential sampling (1 chains in 1 job)\n",
      "NUTS: [sigma, beta_waffles, beta_age, beta_marriage, alpha]\n",
      "100%|█████████████████████████████████████████████████████████████████████████████| 2000/2000 [00:03<00:00, 644.33it/s]\n",
      "Only one chain was sampled, this makes it impossible to run some convergence checks\n"
     ]
    }
   ],
   "source": [
    "with pm.Model() as m_6H1_1:\n",
    "    alpha = pm.Normal('alpha', mu=0, sd=0.2) \n",
    "    beta_marriage = pm.Normal('beta_marriage', mu=0, sd=0.5) \n",
    "    beta_age = pm.Normal('beta_age', mu=0, sd=0.5) \n",
    "    beta_waffles = pm.Normal('beta_waffles', mu=0, sd=0.5)\n",
    "    mu = pm.Deterministic('mu', alpha + beta_marriage*d.marriage_norm \n",
    "                          + beta_age*d.age_norm + beta_waffles*d.waffles_norm)\n",
    "    sigma = pm.Exponential('sigma', 1)\n",
    "    divorce = pm.Normal('divorce', mu=mu, sd=sigma, observed=d.divorce_norm)\n",
    "    trace_6H1_1 = pm.sample(1000, tune=1000, chains=1) \n"
   ]
  },
  {
   "cell_type": "code",
   "execution_count": 48,
   "metadata": {},
   "outputs": [
    {
     "data": {
      "text/html": [
       "<div>\n",
       "<style scoped>\n",
       "    .dataframe tbody tr th:only-of-type {\n",
       "        vertical-align: middle;\n",
       "    }\n",
       "\n",
       "    .dataframe tbody tr th {\n",
       "        vertical-align: top;\n",
       "    }\n",
       "\n",
       "    .dataframe thead th {\n",
       "        text-align: right;\n",
       "    }\n",
       "</style>\n",
       "<table border=\"1\" class=\"dataframe\">\n",
       "  <thead>\n",
       "    <tr style=\"text-align: right;\">\n",
       "      <th></th>\n",
       "      <th>mean</th>\n",
       "      <th>sd</th>\n",
       "      <th>mc_error</th>\n",
       "      <th>hpd_5.5</th>\n",
       "      <th>hpd_94.5</th>\n",
       "    </tr>\n",
       "  </thead>\n",
       "  <tbody>\n",
       "    <tr>\n",
       "      <th>beta_marriage</th>\n",
       "      <td>-0.04</td>\n",
       "      <td>0.16</td>\n",
       "      <td>0.0</td>\n",
       "      <td>-0.27</td>\n",
       "      <td>0.21</td>\n",
       "    </tr>\n",
       "    <tr>\n",
       "      <th>beta_age</th>\n",
       "      <td>-0.57</td>\n",
       "      <td>0.16</td>\n",
       "      <td>0.0</td>\n",
       "      <td>-0.82</td>\n",
       "      <td>-0.32</td>\n",
       "    </tr>\n",
       "    <tr>\n",
       "      <th>beta_waffles</th>\n",
       "      <td>0.18</td>\n",
       "      <td>0.12</td>\n",
       "      <td>0.0</td>\n",
       "      <td>-0.03</td>\n",
       "      <td>0.35</td>\n",
       "    </tr>\n",
       "  </tbody>\n",
       "</table>\n",
       "</div>"
      ],
      "text/plain": [
       "               mean    sd  mc_error  hpd_5.5  hpd_94.5\n",
       "beta_marriage -0.04  0.16       0.0    -0.27      0.21\n",
       "beta_age      -0.57  0.16       0.0    -0.82     -0.32\n",
       "beta_waffles   0.18  0.12       0.0    -0.03      0.35"
      ]
     },
     "execution_count": 48,
     "metadata": {},
     "output_type": "execute_result"
    }
   ],
   "source": [
    "varnames = ['beta_marriage', 'beta_age','beta_waffles']\n",
    "pm.summary(trace_6H1_1, var_names = varnames, alpha = 0.11).round(2)\n",
    "\n",
    "# there is a positive correlation between the number of waffle houses and divorce rate.\n",
    "# the 89th centile is (nearly) entirely positive."
   ]
  },
  {
   "cell_type": "code",
   "execution_count": null,
   "metadata": {},
   "outputs": [],
   "source": [
    "# Based on the DAG, there are several backdoor paths that connect the number of Waffle\n",
    "# Houses (W) to the divorce rate (D). We can close them all by conditioning the model\n",
    "# on Southiness S. We don't want anything else in our model, but it doesn't \n",
    "# actually matter if M and A are in there. Let's check.\n"
   ]
  },
  {
   "cell_type": "code",
   "execution_count": 90,
   "metadata": {},
   "outputs": [
    {
     "data": {
      "text/html": [
       "<div>\n",
       "<style scoped>\n",
       "    .dataframe tbody tr th:only-of-type {\n",
       "        vertical-align: middle;\n",
       "    }\n",
       "\n",
       "    .dataframe tbody tr th {\n",
       "        vertical-align: top;\n",
       "    }\n",
       "\n",
       "    .dataframe thead th {\n",
       "        text-align: right;\n",
       "    }\n",
       "</style>\n",
       "<table border=\"1\" class=\"dataframe\">\n",
       "  <thead>\n",
       "    <tr style=\"text-align: right;\">\n",
       "      <th></th>\n",
       "      <th>Location</th>\n",
       "      <th>Loc</th>\n",
       "      <th>Population</th>\n",
       "      <th>MedianAgeMarriage</th>\n",
       "      <th>Marriage</th>\n",
       "      <th>Marriage SE</th>\n",
       "      <th>Divorce</th>\n",
       "      <th>Divorce SE</th>\n",
       "      <th>WaffleHouses</th>\n",
       "      <th>South</th>\n",
       "      <th>Slaves1860</th>\n",
       "      <th>Population1860</th>\n",
       "      <th>PropSlaves1860</th>\n",
       "      <th>age_norm</th>\n",
       "      <th>divorce_norm</th>\n",
       "      <th>marriage_norm</th>\n",
       "      <th>waffles_norm</th>\n",
       "    </tr>\n",
       "  </thead>\n",
       "  <tbody>\n",
       "    <tr>\n",
       "      <th>0</th>\n",
       "      <td>Alabama</td>\n",
       "      <td>AL</td>\n",
       "      <td>4.78</td>\n",
       "      <td>25.3</td>\n",
       "      <td>20.2</td>\n",
       "      <td>1.27</td>\n",
       "      <td>12.7</td>\n",
       "      <td>0.79</td>\n",
       "      <td>128</td>\n",
       "      <td>1</td>\n",
       "      <td>435080</td>\n",
       "      <td>964201</td>\n",
       "      <td>0.45</td>\n",
       "      <td>-0.606290</td>\n",
       "      <td>1.654205</td>\n",
       "      <td>0.022644</td>\n",
       "      <td>1.454029</td>\n",
       "    </tr>\n",
       "    <tr>\n",
       "      <th>1</th>\n",
       "      <td>Alaska</td>\n",
       "      <td>AK</td>\n",
       "      <td>0.71</td>\n",
       "      <td>25.2</td>\n",
       "      <td>26.0</td>\n",
       "      <td>2.93</td>\n",
       "      <td>12.5</td>\n",
       "      <td>2.05</td>\n",
       "      <td>0</td>\n",
       "      <td>0</td>\n",
       "      <td>0</td>\n",
       "      <td>0</td>\n",
       "      <td>0.00</td>\n",
       "      <td>-0.686699</td>\n",
       "      <td>1.544364</td>\n",
       "      <td>1.549802</td>\n",
       "      <td>-0.491567</td>\n",
       "    </tr>\n",
       "    <tr>\n",
       "      <th>2</th>\n",
       "      <td>Arizona</td>\n",
       "      <td>AZ</td>\n",
       "      <td>6.33</td>\n",
       "      <td>25.8</td>\n",
       "      <td>20.3</td>\n",
       "      <td>0.98</td>\n",
       "      <td>10.8</td>\n",
       "      <td>0.74</td>\n",
       "      <td>18</td>\n",
       "      <td>0</td>\n",
       "      <td>0</td>\n",
       "      <td>0</td>\n",
       "      <td>0.00</td>\n",
       "      <td>-0.204241</td>\n",
       "      <td>0.610716</td>\n",
       "      <td>0.048974</td>\n",
       "      <td>-0.217968</td>\n",
       "    </tr>\n",
       "    <tr>\n",
       "      <th>3</th>\n",
       "      <td>Arkansas</td>\n",
       "      <td>AR</td>\n",
       "      <td>2.92</td>\n",
       "      <td>24.3</td>\n",
       "      <td>26.4</td>\n",
       "      <td>1.70</td>\n",
       "      <td>13.5</td>\n",
       "      <td>1.22</td>\n",
       "      <td>41</td>\n",
       "      <td>1</td>\n",
       "      <td>111115</td>\n",
       "      <td>435450</td>\n",
       "      <td>0.26</td>\n",
       "      <td>-1.410387</td>\n",
       "      <td>2.093569</td>\n",
       "      <td>1.655123</td>\n",
       "      <td>0.131632</td>\n",
       "    </tr>\n",
       "    <tr>\n",
       "      <th>4</th>\n",
       "      <td>California</td>\n",
       "      <td>CA</td>\n",
       "      <td>37.25</td>\n",
       "      <td>26.8</td>\n",
       "      <td>19.1</td>\n",
       "      <td>0.39</td>\n",
       "      <td>8.0</td>\n",
       "      <td>0.24</td>\n",
       "      <td>0</td>\n",
       "      <td>0</td>\n",
       "      <td>0</td>\n",
       "      <td>379994</td>\n",
       "      <td>0.00</td>\n",
       "      <td>0.599857</td>\n",
       "      <td>-0.927058</td>\n",
       "      <td>-0.266989</td>\n",
       "      <td>-0.491567</td>\n",
       "    </tr>\n",
       "  </tbody>\n",
       "</table>\n",
       "</div>"
      ],
      "text/plain": [
       "     Location Loc  Population  MedianAgeMarriage  Marriage  Marriage SE  \\\n",
       "0     Alabama  AL        4.78               25.3      20.2         1.27   \n",
       "1      Alaska  AK        0.71               25.2      26.0         2.93   \n",
       "2     Arizona  AZ        6.33               25.8      20.3         0.98   \n",
       "3    Arkansas  AR        2.92               24.3      26.4         1.70   \n",
       "4  California  CA       37.25               26.8      19.1         0.39   \n",
       "\n",
       "   Divorce  Divorce SE  WaffleHouses  South  Slaves1860  Population1860  \\\n",
       "0     12.7        0.79           128      1      435080          964201   \n",
       "1     12.5        2.05             0      0           0               0   \n",
       "2     10.8        0.74            18      0           0               0   \n",
       "3     13.5        1.22            41      1      111115          435450   \n",
       "4      8.0        0.24             0      0           0          379994   \n",
       "\n",
       "   PropSlaves1860  age_norm  divorce_norm  marriage_norm  waffles_norm  \n",
       "0            0.45 -0.606290      1.654205       0.022644      1.454029  \n",
       "1            0.00 -0.686699      1.544364       1.549802     -0.491567  \n",
       "2            0.00 -0.204241      0.610716       0.048974     -0.217968  \n",
       "3            0.26 -1.410387      2.093569       1.655123      0.131632  \n",
       "4            0.00  0.599857     -0.927058      -0.266989     -0.491567  "
      ]
     },
     "execution_count": 90,
     "metadata": {},
     "output_type": "execute_result"
    }
   ],
   "source": [
    "d.head()"
   ]
  },
  {
   "cell_type": "code",
   "execution_count": 52,
   "metadata": {},
   "outputs": [
    {
     "name": "stderr",
     "output_type": "stream",
     "text": [
      "Auto-assigning NUTS sampler...\n",
      "Initializing NUTS using jitter+adapt_diag...\n",
      "Sequential sampling (1 chains in 1 job)\n",
      "NUTS: [sigma, beta_waffles, alpha_not_south, alpha_south]\n",
      "100%|█████████████████████████████████████████████████████████████████████████████| 2000/2000 [00:02<00:00, 772.16it/s]\n",
      "Only one chain was sampled, this makes it impossible to run some convergence checks\n"
     ]
    }
   ],
   "source": [
    "with pm.Model() as m_6H1_2:\n",
    "    alpha_south = pm.Normal('alpha_south', mu=0, sd=1) \n",
    "    alpha_not_south = pm.Normal('alpha_not_south', mu=0, sd=1)\n",
    "    beta_waffles = pm.Normal('beta_waffles', mu=0, sd=1)\n",
    "    mu = pm.Deterministic('mu', alpha_south*d.South + alpha_not_south*(1-d.South)\n",
    "                         + beta_waffles*d.waffles_norm)\n",
    "    sigma = pm.Exponential('sigma', 1)\n",
    "    divorce = pm.Normal('divorce', mu=mu, sd=sigma, observed=d.divorce_norm)\n",
    "    trace_6H1_2 = pm.sample(1000, tune=1000, chains=1) "
   ]
  },
  {
   "cell_type": "code",
   "execution_count": 53,
   "metadata": {},
   "outputs": [
    {
     "data": {
      "text/html": [
       "<div>\n",
       "<style scoped>\n",
       "    .dataframe tbody tr th:only-of-type {\n",
       "        vertical-align: middle;\n",
       "    }\n",
       "\n",
       "    .dataframe tbody tr th {\n",
       "        vertical-align: top;\n",
       "    }\n",
       "\n",
       "    .dataframe thead th {\n",
       "        text-align: right;\n",
       "    }\n",
       "</style>\n",
       "<table border=\"1\" class=\"dataframe\">\n",
       "  <thead>\n",
       "    <tr style=\"text-align: right;\">\n",
       "      <th></th>\n",
       "      <th>mean</th>\n",
       "      <th>sd</th>\n",
       "      <th>mc_error</th>\n",
       "      <th>hpd_5.5</th>\n",
       "      <th>hpd_94.5</th>\n",
       "    </tr>\n",
       "  </thead>\n",
       "  <tbody>\n",
       "    <tr>\n",
       "      <th>alpha_south</th>\n",
       "      <td>0.470</td>\n",
       "      <td>0.305</td>\n",
       "      <td>0.012</td>\n",
       "      <td>-0.021</td>\n",
       "      <td>0.943</td>\n",
       "    </tr>\n",
       "    <tr>\n",
       "      <th>alpha_not_south</th>\n",
       "      <td>-0.188</td>\n",
       "      <td>0.178</td>\n",
       "      <td>0.006</td>\n",
       "      <td>-0.421</td>\n",
       "      <td>0.140</td>\n",
       "    </tr>\n",
       "    <tr>\n",
       "      <th>beta_waffles</th>\n",
       "      <td>0.045</td>\n",
       "      <td>0.182</td>\n",
       "      <td>0.007</td>\n",
       "      <td>-0.234</td>\n",
       "      <td>0.336</td>\n",
       "    </tr>\n",
       "    <tr>\n",
       "      <th>sigma</th>\n",
       "      <td>0.978</td>\n",
       "      <td>0.108</td>\n",
       "      <td>0.004</td>\n",
       "      <td>0.806</td>\n",
       "      <td>1.139</td>\n",
       "    </tr>\n",
       "  </tbody>\n",
       "</table>\n",
       "</div>"
      ],
      "text/plain": [
       "                  mean     sd  mc_error  hpd_5.5  hpd_94.5\n",
       "alpha_south      0.470  0.305     0.012   -0.021     0.943\n",
       "alpha_not_south -0.188  0.178     0.006   -0.421     0.140\n",
       "beta_waffles     0.045  0.182     0.007   -0.234     0.336\n",
       "sigma            0.978  0.108     0.004    0.806     1.139"
      ]
     },
     "execution_count": 53,
     "metadata": {},
     "output_type": "execute_result"
    }
   ],
   "source": [
    "varnames = ['alpha_south', 'alpha_not_south', 'beta_waffles', 'sigma']\n",
    "pm.summary(trace_6H1_2, varnames, alpha=.11).round(3)\n",
    "\n",
    "# beta_waffles is essentially centered on zero. So no correlation between waffles and divorce, conditioning on south."
   ]
  },
  {
   "cell_type": "code",
   "execution_count": 100,
   "metadata": {},
   "outputs": [
    {
     "name": "stderr",
     "output_type": "stream",
     "text": [
      "Auto-assigning NUTS sampler...\n",
      "Initializing NUTS using jitter+adapt_diag...\n",
      "Sequential sampling (1 chains in 1 job)\n",
      "NUTS: [sigma, beta, alpha, sigma_b, mu_b, sigma_a, mu_a]\n",
      "100%|███████████████████████████████████████████████████████████████████████████| 11000/11000 [00:20<00:00, 528.09it/s]\n",
      "There were 2056 divergences after tuning. Increase `target_accept` or reparameterize.\n",
      "The acceptance probability does not match the target. It is 0.6287693767573527, but should be close to 0.8. Try to increase the number of tuning steps.\n",
      "Only one chain was sampled, this makes it impossible to run some convergence checks\n"
     ]
    }
   ],
   "source": [
    "# Trying it another way. Setting an individual alpha and beta for each category and comparing.\n",
    "# http://people.duke.edu/~ccc14/sta-663-2016/16C_PyMC3.html\n",
    "\n",
    "south_codes = pd.Categorical(d['South']).codes\n",
    "\n",
    "with pm.Model() as m_6H1_3:\n",
    "    # Hyperpriors - just to make setting individual priors easier. This is useful \n",
    "    # when we have loads of categories.\n",
    "    mu_a = pm.Normal('mu_a', mu=0, sd=10)\n",
    "    sigma_a = pm.Exponential('sigma_a', 1)\n",
    "    mu_b = pm.Normal('mu_b', mu=0, sd=10)\n",
    "    sigma_b = pm.Exponential('sigma_b', 1)\n",
    "\n",
    "    # Slopes and intercepts for each category\n",
    "    alpha = pm.Normal('alpha', mu=mu_a, sd=sigma_a, shape=len(set(south_codes)))\n",
    "    beta = pm.Normal('beta', mu=mu_b, sd=sigma_b, shape=len(set(south_codes)))\n",
    "\n",
    "    sigma = pm.Exponential('sigma', 1)\n",
    "\n",
    "    # Model prediction of divorce\n",
    "    mu = alpha[south_codes] + beta[south_codes] * d.waffles_norm\n",
    "\n",
    "    # Data likelihood\n",
    "    divorce = pm.Normal('divorce', mu=mu, sd=sigma, observed=d.divorce_norm)\n",
    "    \n",
    "    trace_6H1_3 = pm.sample(10000, tune=1000, chains=1) \n",
    "#     start = pm.find_MAP()\n",
    "#     step = pm.NUTS(scaling=start)\n",
    "    \n",
    "# with pm.Model() as m_6H1_3:\n",
    "#     alpha = pm.Normal('alpha', mu=0, sd=0.2) \n",
    "#     beta_south = pm.Normal('beta_marriage', mu=0, sd=0.5) \n",
    "#     beta_waffles = pm.Normal('beta_waffles', mu=0, sd=0.5)\n",
    "#     mu = pm.Deterministic('mu', alpha + beta_waffles*d.waffles_norm)\n",
    "    \n",
    "#     divorce = pm.Normal('divorce', mu=mu, sd=sigma, observed=d.divorce_norm)\n",
    "#     trace_6H1_2 = pm.sample(1000, tune=1000, chains=1) "
   ]
  },
  {
   "cell_type": "code",
   "execution_count": 109,
   "metadata": {},
   "outputs": [
    {
     "data": {
      "text/html": [
       "<div>\n",
       "<style scoped>\n",
       "    .dataframe tbody tr th:only-of-type {\n",
       "        vertical-align: middle;\n",
       "    }\n",
       "\n",
       "    .dataframe tbody tr th {\n",
       "        vertical-align: top;\n",
       "    }\n",
       "\n",
       "    .dataframe thead th {\n",
       "        text-align: right;\n",
       "    }\n",
       "</style>\n",
       "<table border=\"1\" class=\"dataframe\">\n",
       "  <thead>\n",
       "    <tr style=\"text-align: right;\">\n",
       "      <th></th>\n",
       "      <th>mean</th>\n",
       "      <th>sd</th>\n",
       "      <th>mc_error</th>\n",
       "      <th>hpd_5.5</th>\n",
       "      <th>hpd_94.5</th>\n",
       "    </tr>\n",
       "  </thead>\n",
       "  <tbody>\n",
       "    <tr>\n",
       "      <th>mu_a</th>\n",
       "      <td>0.238</td>\n",
       "      <td>0.666</td>\n",
       "      <td>0.017</td>\n",
       "      <td>-0.618</td>\n",
       "      <td>1.082</td>\n",
       "    </tr>\n",
       "    <tr>\n",
       "      <th>mu_b</th>\n",
       "      <td>0.390</td>\n",
       "      <td>0.879</td>\n",
       "      <td>0.026</td>\n",
       "      <td>-0.666</td>\n",
       "      <td>1.766</td>\n",
       "    </tr>\n",
       "    <tr>\n",
       "      <th>alpha__0</th>\n",
       "      <td>0.096</td>\n",
       "      <td>0.318</td>\n",
       "      <td>0.011</td>\n",
       "      <td>-0.376</td>\n",
       "      <td>0.616</td>\n",
       "    </tr>\n",
       "    <tr>\n",
       "      <th>alpha__1</th>\n",
       "      <td>0.405</td>\n",
       "      <td>0.318</td>\n",
       "      <td>0.012</td>\n",
       "      <td>-0.091</td>\n",
       "      <td>0.896</td>\n",
       "    </tr>\n",
       "    <tr>\n",
       "      <th>beta__0</th>\n",
       "      <td>0.664</td>\n",
       "      <td>0.695</td>\n",
       "      <td>0.026</td>\n",
       "      <td>-0.359</td>\n",
       "      <td>1.703</td>\n",
       "    </tr>\n",
       "    <tr>\n",
       "      <th>beta__1</th>\n",
       "      <td>0.063</td>\n",
       "      <td>0.190</td>\n",
       "      <td>0.006</td>\n",
       "      <td>-0.263</td>\n",
       "      <td>0.345</td>\n",
       "    </tr>\n",
       "    <tr>\n",
       "      <th>sigma_a</th>\n",
       "      <td>0.623</td>\n",
       "      <td>0.630</td>\n",
       "      <td>0.022</td>\n",
       "      <td>0.035</td>\n",
       "      <td>1.325</td>\n",
       "    </tr>\n",
       "    <tr>\n",
       "      <th>sigma_b</th>\n",
       "      <td>0.896</td>\n",
       "      <td>0.767</td>\n",
       "      <td>0.026</td>\n",
       "      <td>0.049</td>\n",
       "      <td>1.762</td>\n",
       "    </tr>\n",
       "    <tr>\n",
       "      <th>sigma</th>\n",
       "      <td>0.964</td>\n",
       "      <td>0.104</td>\n",
       "      <td>0.003</td>\n",
       "      <td>0.801</td>\n",
       "      <td>1.122</td>\n",
       "    </tr>\n",
       "  </tbody>\n",
       "</table>\n",
       "</div>"
      ],
      "text/plain": [
       "           mean     sd  mc_error  hpd_5.5  hpd_94.5\n",
       "mu_a      0.238  0.666     0.017   -0.618     1.082\n",
       "mu_b      0.390  0.879     0.026   -0.666     1.766\n",
       "alpha__0  0.096  0.318     0.011   -0.376     0.616\n",
       "alpha__1  0.405  0.318     0.012   -0.091     0.896\n",
       "beta__0   0.664  0.695     0.026   -0.359     1.703\n",
       "beta__1   0.063  0.190     0.006   -0.263     0.345\n",
       "sigma_a   0.623  0.630     0.022    0.035     1.325\n",
       "sigma_b   0.896  0.767     0.026    0.049     1.762\n",
       "sigma     0.964  0.104     0.003    0.801     1.122"
      ]
     },
     "execution_count": 109,
     "metadata": {},
     "output_type": "execute_result"
    }
   ],
   "source": [
    "pm.summary(trace_6H1_3, alpha=.11).round(3)"
   ]
  },
  {
   "cell_type": "code",
   "execution_count": 153,
   "metadata": {},
   "outputs": [
    {
     "data": {
      "text/plain": [
       "array([-0.58748967,  0.21603205])"
      ]
     },
     "execution_count": 153,
     "metadata": {},
     "output_type": "execute_result"
    }
   ],
   "source": [
    "mu_pred[0]"
   ]
  },
  {
   "cell_type": "code",
   "execution_count": 157,
   "metadata": {},
   "outputs": [
    {
     "data": {
      "text/plain": [
       "array([0.06747037, 0.85497621, 0.93079399, ..., 0.195612  , 0.05104652,\n",
       "       0.22356136])"
      ]
     },
     "execution_count": 157,
     "metadata": {},
     "output_type": "execute_result"
    }
   ],
   "source": [
    "trace_6H1_3['alpha'][:,0]"
   ]
  },
  {
   "cell_type": "code",
   "execution_count": 159,
   "metadata": {},
   "outputs": [
    {
     "data": {
      "text/plain": [
       "[<matplotlib.lines.Line2D at 0x1e2295a9390>]"
      ]
     },
     "execution_count": 159,
     "metadata": {},
     "output_type": "execute_result"
    },
    {
     "data": {
      "image/png": "[encoded data removed]",
      "text/plain": [
       "<Figure size 432x288 with 1 Axes>"
      ]
     },
     "metadata": {
      "needs_background": "light"
     },
     "output_type": "display_data"
    }
   ],
   "source": [
    "x = np.linspace(-1, 5, 10000)\n",
    "mu_pred = trace_6H1_3['alpha'][:,0] + trace_6H1_3['beta'][:,0] * x[:,None] \n",
    "mu_pred2 = trace_6H1_3['alpha'][:,1] + trace_6H1_3['beta'][:,1] * x[:,None] \n",
    "plt.plot(d.waffles_norm, d.divorce_norm, 'o')\n",
    "plt.plot(x, mu_pred.mean(1))\n",
    "plt.plot(x, mu_pred2.mean(1))"
   ]
  },
  {
   "cell_type": "code",
   "execution_count": 113,
   "metadata": {},
   "outputs": [
    {
     "data": {
      "text/plain": [
       "(10000, 2)"
      ]
     },
     "execution_count": 113,
     "metadata": {},
     "output_type": "execute_result"
    }
   ],
   "source": []
  },
  {
   "cell_type": "code",
   "execution_count": null,
   "metadata": {},
   "outputs": [],
   "source": [
    "x = np.linspace(-1, 5, 10000)\n",
    "\n",
    "mu_pred = trace_5H2['alpha'] + trace_5H2['beta_area'] * x[:,None] \n",
    "mu_hpd = pm.hpd(mu_pred.T)\n",
    "weight_hpd = pm.hpd(stats.norm.rvs(mu_pred, trace_5H2['sigma']).T)\n",
    "\n",
    "f = plt.figure(figsize=(12,5))\n",
    "\n",
    "ax_area = f.add_subplot(121)\n",
    "ax_area.plot(x, mu_pred.mean(1), 'C0')\n",
    "ax_area.fill_between(x, mu_hpd[:,0], mu_hpd[:,1], color='C2', alpha=0.25)\n",
    "ax_area.fill_between(x, weight_hpd[:,0], weight_hpd[:,1], color='C2', alpha=0.25)\n",
    "ax_area.set_xlabel('Area_s')\n",
    "ax_area.set_ylabel('Weight_s')\n",
    "\n",
    "mu_pred = trace_5H2['alpha'] + trace_5H2['beta_size'] * x[:,None] \n",
    "mu_hpd = pm.hpd(mu_pred.T)\n",
    "weight_hpd = pm.hpd(stats.norm.rvs(mu_pred, trace_5H2['sigma']).T)\n",
    "ax_size = f.add_subplot(122)\n",
    "ax_size.plot(x, mu_pred.mean(1), 'C0');  \n",
    "ax_size.fill_between(x, mu_hpd[:,0], mu_hpd[:,1], color='C2', alpha=0.25)\n",
    "ax_size.fill_between(x, weight_hpd[:,0], weight_hpd[:,1], color='C2', alpha=0.25)\n",
    "\n",
    "ax_size.set_xlabel('Size_s')\n",
    "ax_size.set_ylabel('Weight_s');"
   ]
  },
  {
   "cell_type": "code",
   "execution_count": 54,
   "metadata": {},
   "outputs": [
    {
     "name": "stderr",
     "output_type": "stream",
     "text": [
      "Auto-assigning NUTS sampler...\n",
      "Initializing NUTS using jitter+adapt_diag...\n",
      "Sequential sampling (1 chains in 1 job)\n",
      "NUTS: [sigma, mu]\n",
      "100%|██████████████████████████████████████████████████████████████████████████| 11000/11000 [00:07<00:00, 1421.67it/s]\n",
      "Only one chain was sampled, this makes it impossible to run some convergence checks\n"
     ]
    }
   ],
   "source": [
    "# Trying it another way.\n",
    "# https://towardsdatascience.com/hands-on-bayesian-statistics-with-python-pymc3-arviz-499db9a59501\n",
    "\n",
    "south_codes = pd.Categorical(d['South']).codes\n",
    "\n",
    "with pm.Model() as m_6H1_4:\n",
    "    alpha = pm.Normal('alpha', mu=0, sd=1, shape=len(set(south_codes)))\n",
    "    beta = pm.Normal('beta', mu=0, sd=1, shape=len(set(south_codes)))\n",
    "    sigma = pm.HalfNormal('sigma', sd=1)\n",
    "    mu = pm.Deterministic('mu', alpha[south_codes])\n",
    "    # Data likelihood\n",
    "    divorce = pm.Normal('divorce', mu=mu[south_codes], sd=sigma[south_codes], \n",
    "                        observed=d.divorce_norm)\n",
    "    \n",
    "    trace_6H1_4 = pm.sample(10000, tune=1000, chains=1) "
   ]
  },
  {
   "cell_type": "code",
   "execution_count": 55,
   "metadata": {},
   "outputs": [
    {
     "data": {
      "text/html": [
       "<div>\n",
       "<style scoped>\n",
       "    .dataframe tbody tr th:only-of-type {\n",
       "        vertical-align: middle;\n",
       "    }\n",
       "\n",
       "    .dataframe tbody tr th {\n",
       "        vertical-align: top;\n",
       "    }\n",
       "\n",
       "    .dataframe thead th {\n",
       "        text-align: right;\n",
       "    }\n",
       "</style>\n",
       "<table border=\"1\" class=\"dataframe\">\n",
       "  <thead>\n",
       "    <tr style=\"text-align: right;\">\n",
       "      <th></th>\n",
       "      <th>mean</th>\n",
       "      <th>sd</th>\n",
       "      <th>mc_error</th>\n",
       "      <th>hpd_5.5</th>\n",
       "      <th>hpd_94.5</th>\n",
       "    </tr>\n",
       "  </thead>\n",
       "  <tbody>\n",
       "    <tr>\n",
       "      <th>mu__0</th>\n",
       "      <td>-0.206</td>\n",
       "      <td>0.162</td>\n",
       "      <td>0.001</td>\n",
       "      <td>-0.457</td>\n",
       "      <td>0.060</td>\n",
       "    </tr>\n",
       "    <tr>\n",
       "      <th>mu__1</th>\n",
       "      <td>0.514</td>\n",
       "      <td>0.252</td>\n",
       "      <td>0.002</td>\n",
       "      <td>0.130</td>\n",
       "      <td>0.935</td>\n",
       "    </tr>\n",
       "    <tr>\n",
       "      <th>sigma__0</th>\n",
       "      <td>0.987</td>\n",
       "      <td>0.119</td>\n",
       "      <td>0.001</td>\n",
       "      <td>0.793</td>\n",
       "      <td>1.164</td>\n",
       "    </tr>\n",
       "    <tr>\n",
       "      <th>sigma__1</th>\n",
       "      <td>0.945</td>\n",
       "      <td>0.190</td>\n",
       "      <td>0.002</td>\n",
       "      <td>0.665</td>\n",
       "      <td>1.234</td>\n",
       "    </tr>\n",
       "  </tbody>\n",
       "</table>\n",
       "</div>"
      ],
      "text/plain": [
       "           mean     sd  mc_error  hpd_5.5  hpd_94.5\n",
       "mu__0    -0.206  0.162     0.001   -0.457     0.060\n",
       "mu__1     0.514  0.252     0.002    0.130     0.935\n",
       "sigma__0  0.987  0.119     0.001    0.793     1.164\n",
       "sigma__1  0.945  0.190     0.002    0.665     1.234"
      ]
     },
     "execution_count": 55,
     "metadata": {},
     "output_type": "execute_result"
    }
   ],
   "source": [
    "pm.summary(trace_6H1_4, alpha=.11).round(3)\n",
    "# All this shows is that we get different values of mu (mean marriage) for different\n",
    "# values of southiness. It doesn't 'control' for southiness in any way."
   ]
  },
  {
   "cell_type": "code",
   "execution_count": null,
   "metadata": {},
   "outputs": [],
   "source": []
  }
 ],
 "metadata": {
  "kernelspec": {
   "display_name": "Python 3",
   "language": "python",
   "name": "python3"
  },
  "language_info": {
   "codemirror_mode": {
    "name": "ipython",
    "version": 3
   },
   "file_extension": ".py",
   "mimetype": "text/x-python",
   "name": "python",
   "nbconvert_exporter": "python",
   "pygments_lexer": "ipython3",
   "version": "3.7.3"
  }
 },
 "nbformat": 4,
 "nbformat_minor": 2
}
