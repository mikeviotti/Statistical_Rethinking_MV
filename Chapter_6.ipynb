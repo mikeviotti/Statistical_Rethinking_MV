{
 "cells": [
  {
   "cell_type": "code",
   "execution_count": 36,
   "metadata": {},
   "outputs": [],
   "source": [
    "%matplotlib inline\n",
    "import pymc3 as pm\n",
    "import numpy as np\n",
    "import pandas as pd\n",
    "import scipy.stats as stats\n",
    "from scipy.interpolate import griddata\n",
    "import matplotlib.pyplot as plt\n",
    "import seaborn as sns\n",
    "import networkx as nx\n",
    "import causalgraphicalmodels as cgm\n",
    "import graphviz as gv\n",
    "import os\n",
    "os.environ[\"PATH\"] += os.pathsep + 'C:/Users/mikev/Anaconda3/envs/stats/Library/bin/graphviz'"
   ]
  },
  {
   "cell_type": "code",
   "execution_count": 2,
   "metadata": {},
   "outputs": [],
   "source": [
    "# I'm going to skip everything about leg length. I get the point - it's just not worth\n",
    "# writing the code, I don't think."
   ]
  },
  {
   "cell_type": "code",
   "execution_count": 3,
   "metadata": {},
   "outputs": [],
   "source": [
    "#R code 6.8\n",
    "d = pd.read_csv('Data/milk.csv', sep=';', header=0)\n",
    "d['k_s'] = (d['kcal.per.g'] - d['kcal.per.g'].mean())/d['kcal.per.g'].std()\n",
    "d['n_s'] = (d['neocortex.perc'] - d['neocortex.perc'].mean())/d['neocortex.perc'].std()\n",
    "d['m_s'] = (np.log(d.mass) - np.log(d.mass).mean())/np.log(d.mass).std()\n",
    "d['f_s'] = (d['perc.fat'] - d['perc.fat'].mean())/d['perc.fat'].std()\n",
    "d['l_s'] = (d['perc.lactose'] - d['perc.lactose'].mean())/d['perc.lactose'].std()"
   ]
  },
  {
   "cell_type": "code",
   "execution_count": 4,
   "metadata": {},
   "outputs": [
    {
     "name": "stderr",
     "output_type": "stream",
     "text": [
      "Auto-assigning NUTS sampler...\n",
      "Initializing NUTS using jitter+adapt_diag...\n",
      "Sequential sampling (1 chains in 1 job)\n",
      "NUTS: [sigma, beta_fat, alpha]\n",
      "100%|████████████████████████████████████████████████████████████████████████████| 2000/2000 [00:01<00:00, 1390.65it/s]\n",
      "Only one chain was sampled, this makes it impossible to run some convergence checks\n"
     ]
    }
   ],
   "source": [
    "#R code 6.9\n",
    "with pm.Model() as m_6_3: #using 6_3 to align with text\n",
    "    alpha = pm.Normal('alpha', mu=0, sd=0.2) \n",
    "    beta_fat = pm.Normal('beta_fat', mu=0, sd=0.5) \n",
    "    mu = pm.Deterministic('mu', alpha + beta_fat*d.f_s)\n",
    "    sigma = pm.Exponential('sigma', 1)\n",
    "    K = pm.Normal('kcalpg', mu=mu, sd=sigma, observed=d.k_s)\n",
    "    trace_6_3 = pm.sample(1000, tune=1000, chains=1) "
   ]
  },
  {
   "cell_type": "code",
   "execution_count": 5,
   "metadata": {},
   "outputs": [
    {
     "name": "stderr",
     "output_type": "stream",
     "text": [
      "Auto-assigning NUTS sampler...\n",
      "Initializing NUTS using jitter+adapt_diag...\n",
      "Sequential sampling (1 chains in 1 job)\n",
      "NUTS: [sigma, beta_lactose, alpha]\n",
      "100%|████████████████████████████████████████████████████████████████████████████| 2000/2000 [00:01<00:00, 1946.91it/s]\n",
      "Only one chain was sampled, this makes it impossible to run some convergence checks\n"
     ]
    }
   ],
   "source": [
    "#R code 6.9 continued\n",
    "with pm.Model() as m_6_4:\n",
    "    alpha = pm.Normal('alpha', mu=0, sd=0.2) \n",
    "    beta_lactose = pm.Normal('beta_lactose', mu=0, sd=0.5) \n",
    "    mu = pm.Deterministic('mu', alpha + beta_lactose*d.l_s)\n",
    "    sigma = pm.Exponential('sigma', 1)\n",
    "    K = pm.Normal('kcalpg', mu=mu, sd=sigma, observed=d.k_s)\n",
    "    trace_6_4 = pm.sample(1000, tune=1000, chains=1) "
   ]
  },
  {
   "cell_type": "code",
   "execution_count": 6,
   "metadata": {},
   "outputs": [
    {
     "data": {
      "text/html": [
       "<div>\n",
       "<style scoped>\n",
       "    .dataframe tbody tr th:only-of-type {\n",
       "        vertical-align: middle;\n",
       "    }\n",
       "\n",
       "    .dataframe tbody tr th {\n",
       "        vertical-align: top;\n",
       "    }\n",
       "\n",
       "    .dataframe thead th {\n",
       "        text-align: right;\n",
       "    }\n",
       "</style>\n",
       "<table border=\"1\" class=\"dataframe\">\n",
       "  <thead>\n",
       "    <tr style=\"text-align: right;\">\n",
       "      <th></th>\n",
       "      <th>mean</th>\n",
       "      <th>sd</th>\n",
       "      <th>mc_error</th>\n",
       "      <th>hpd_5.5</th>\n",
       "      <th>hpd_94.5</th>\n",
       "    </tr>\n",
       "  </thead>\n",
       "  <tbody>\n",
       "    <tr>\n",
       "      <th>alpha</th>\n",
       "      <td>-0.00</td>\n",
       "      <td>0.08</td>\n",
       "      <td>0.0</td>\n",
       "      <td>-0.14</td>\n",
       "      <td>0.13</td>\n",
       "    </tr>\n",
       "    <tr>\n",
       "      <th>beta_fat</th>\n",
       "      <td>0.86</td>\n",
       "      <td>0.09</td>\n",
       "      <td>0.0</td>\n",
       "      <td>0.72</td>\n",
       "      <td>1.00</td>\n",
       "    </tr>\n",
       "    <tr>\n",
       "      <th>sigma</th>\n",
       "      <td>0.49</td>\n",
       "      <td>0.07</td>\n",
       "      <td>0.0</td>\n",
       "      <td>0.37</td>\n",
       "      <td>0.58</td>\n",
       "    </tr>\n",
       "  </tbody>\n",
       "</table>\n",
       "</div>"
      ],
      "text/plain": [
       "          mean    sd  mc_error  hpd_5.5  hpd_94.5\n",
       "alpha    -0.00  0.08       0.0    -0.14      0.13\n",
       "beta_fat  0.86  0.09       0.0     0.72      1.00\n",
       "sigma     0.49  0.07       0.0     0.37      0.58"
      ]
     },
     "execution_count": 6,
     "metadata": {},
     "output_type": "execute_result"
    }
   ],
   "source": [
    "varnames = ['alpha', 'beta_fat','sigma']\n",
    "pm.summary(trace_6_3, var_names = varnames, alpha = 0.11).round(2)"
   ]
  },
  {
   "cell_type": "code",
   "execution_count": 7,
   "metadata": {},
   "outputs": [
    {
     "data": {
      "text/html": [
       "<div>\n",
       "<style scoped>\n",
       "    .dataframe tbody tr th:only-of-type {\n",
       "        vertical-align: middle;\n",
       "    }\n",
       "\n",
       "    .dataframe tbody tr th {\n",
       "        vertical-align: top;\n",
       "    }\n",
       "\n",
       "    .dataframe thead th {\n",
       "        text-align: right;\n",
       "    }\n",
       "</style>\n",
       "<table border=\"1\" class=\"dataframe\">\n",
       "  <thead>\n",
       "    <tr style=\"text-align: right;\">\n",
       "      <th></th>\n",
       "      <th>mean</th>\n",
       "      <th>sd</th>\n",
       "      <th>mc_error</th>\n",
       "      <th>hpd_5.5</th>\n",
       "      <th>hpd_94.5</th>\n",
       "    </tr>\n",
       "  </thead>\n",
       "  <tbody>\n",
       "    <tr>\n",
       "      <th>alpha</th>\n",
       "      <td>-0.00</td>\n",
       "      <td>0.07</td>\n",
       "      <td>0.0</td>\n",
       "      <td>-0.10</td>\n",
       "      <td>0.11</td>\n",
       "    </tr>\n",
       "    <tr>\n",
       "      <th>beta_lactose</th>\n",
       "      <td>-0.90</td>\n",
       "      <td>0.08</td>\n",
       "      <td>0.0</td>\n",
       "      <td>-1.03</td>\n",
       "      <td>-0.79</td>\n",
       "    </tr>\n",
       "    <tr>\n",
       "      <th>sigma</th>\n",
       "      <td>0.41</td>\n",
       "      <td>0.06</td>\n",
       "      <td>0.0</td>\n",
       "      <td>0.31</td>\n",
       "      <td>0.49</td>\n",
       "    </tr>\n",
       "  </tbody>\n",
       "</table>\n",
       "</div>"
      ],
      "text/plain": [
       "              mean    sd  mc_error  hpd_5.5  hpd_94.5\n",
       "alpha        -0.00  0.07       0.0    -0.10      0.11\n",
       "beta_lactose -0.90  0.08       0.0    -1.03     -0.79\n",
       "sigma         0.41  0.06       0.0     0.31      0.49"
      ]
     },
     "execution_count": 7,
     "metadata": {},
     "output_type": "execute_result"
    }
   ],
   "source": [
    "varnames = ['alpha', 'beta_lactose','sigma']\n",
    "pm.summary(trace_6_4, var_names = varnames, alpha = 0.11).round(2)"
   ]
  },
  {
   "cell_type": "code",
   "execution_count": 8,
   "metadata": {},
   "outputs": [
    {
     "name": "stderr",
     "output_type": "stream",
     "text": [
      "Auto-assigning NUTS sampler...\n",
      "Initializing NUTS using jitter+adapt_diag...\n",
      "Sequential sampling (1 chains in 1 job)\n",
      "NUTS: [sigma, beta_fat, beta_lactose, alpha]\n",
      "100%|█████████████████████████████████████████████████████████████████████████████| 2000/2000 [00:02<00:00, 940.17it/s]\n",
      "Only one chain was sampled, this makes it impossible to run some convergence checks\n"
     ]
    },
    {
     "data": {
      "text/html": [
       "<div>\n",
       "<style scoped>\n",
       "    .dataframe tbody tr th:only-of-type {\n",
       "        vertical-align: middle;\n",
       "    }\n",
       "\n",
       "    .dataframe tbody tr th {\n",
       "        vertical-align: top;\n",
       "    }\n",
       "\n",
       "    .dataframe thead th {\n",
       "        text-align: right;\n",
       "    }\n",
       "</style>\n",
       "<table border=\"1\" class=\"dataframe\">\n",
       "  <thead>\n",
       "    <tr style=\"text-align: right;\">\n",
       "      <th></th>\n",
       "      <th>mean</th>\n",
       "      <th>sd</th>\n",
       "      <th>mc_error</th>\n",
       "      <th>hpd_5.5</th>\n",
       "      <th>hpd_94.5</th>\n",
       "    </tr>\n",
       "  </thead>\n",
       "  <tbody>\n",
       "    <tr>\n",
       "      <th>alpha</th>\n",
       "      <td>0.00</td>\n",
       "      <td>0.07</td>\n",
       "      <td>0.00</td>\n",
       "      <td>-0.11</td>\n",
       "      <td>0.12</td>\n",
       "    </tr>\n",
       "    <tr>\n",
       "      <th>beta_lactose</th>\n",
       "      <td>-0.67</td>\n",
       "      <td>0.18</td>\n",
       "      <td>0.01</td>\n",
       "      <td>-0.98</td>\n",
       "      <td>-0.40</td>\n",
       "    </tr>\n",
       "    <tr>\n",
       "      <th>beta_fat</th>\n",
       "      <td>0.25</td>\n",
       "      <td>0.18</td>\n",
       "      <td>0.01</td>\n",
       "      <td>-0.06</td>\n",
       "      <td>0.53</td>\n",
       "    </tr>\n",
       "    <tr>\n",
       "      <th>sigma</th>\n",
       "      <td>0.41</td>\n",
       "      <td>0.06</td>\n",
       "      <td>0.00</td>\n",
       "      <td>0.33</td>\n",
       "      <td>0.50</td>\n",
       "    </tr>\n",
       "  </tbody>\n",
       "</table>\n",
       "</div>"
      ],
      "text/plain": [
       "              mean    sd  mc_error  hpd_5.5  hpd_94.5\n",
       "alpha         0.00  0.07      0.00    -0.11      0.12\n",
       "beta_lactose -0.67  0.18      0.01    -0.98     -0.40\n",
       "beta_fat      0.25  0.18      0.01    -0.06      0.53\n",
       "sigma         0.41  0.06      0.00     0.33      0.50"
      ]
     },
     "execution_count": 8,
     "metadata": {},
     "output_type": "execute_result"
    }
   ],
   "source": [
    "#R code 6.10\n",
    "with pm.Model() as m_6_5:\n",
    "    alpha = pm.Normal('alpha', mu=0, sd=0.2) \n",
    "    beta_lactose = pm.Normal('beta_lactose', mu=0, sd=0.5) \n",
    "    beta_fat = pm.Normal('beta_fat', mu=0, sd=0.5) \n",
    "    mu = pm.Deterministic('mu', alpha + beta_lactose*d.l_s + beta_fat*d.f_s)\n",
    "    sigma = pm.Exponential('sigma', 1)\n",
    "    K = pm.Normal('kcalpg', mu=mu, sd=sigma, observed=d.k_s)\n",
    "    trace_6_4 = pm.sample(1000, tune=1000, chains=1) \n",
    "\n",
    "varnames = ['alpha', 'beta_lactose', 'beta_fat', 'sigma']\n",
    "pm.summary(trace_6_4, var_names = varnames, alpha = 0.11).round(2)\n",
    "# Punch line: now each predictor is less valuable than it was in its bivariate model. The cause: the two \n",
    "# predictors are very highly correlated. Once you know one, there is very little value in knowing the other."
   ]
  },
  {
   "cell_type": "code",
   "execution_count": 9,
   "metadata": {},
   "outputs": [
    {
     "data": {
      "image/png": "[encoded data removed]",
      "text/plain": [
       "<Figure size 540x540 with 12 Axes>"
      ]
     },
     "metadata": {
      "needs_background": "light"
     },
     "output_type": "display_data"
    }
   ],
   "source": [
    "#R code 6.11\n",
    "df = d[['kcal.per.g','perc.fat','perc.lactose']]\n",
    "sns.pairplot(df);"
   ]
  },
  {
   "cell_type": "code",
   "execution_count": 10,
   "metadata": {},
   "outputs": [
    {
     "data": {
      "text/plain": [
       "-0.9416373456839282"
      ]
     },
     "execution_count": 10,
     "metadata": {},
     "output_type": "execute_result"
    }
   ],
   "source": [
    "#R code 6.12\n",
    "d.corr()['perc.fat']['perc.lactose']\n",
    "# very strongly correlated"
   ]
  },
  {
   "cell_type": "code",
   "execution_count": 11,
   "metadata": {},
   "outputs": [],
   "source": [
    "#R code 6.14\n",
    "\n",
    "N = 100 # number of plants\n",
    "h_0 = stats.norm.rvs(loc=10, scale=2, size = N) #simulate initial heights\n",
    "treatment = np.repeat([0,1], [N/2]) #treat half the plants\n",
    "fungus = stats.binom.rvs(size = N, n=1, p=(0.5 -  treatment*0.4)) # fungus results\n",
    "h_1 = h_0 + stats.norm.rvs(size=N, loc=(5-3*fungus)) #final height\n",
    "d = pd.DataFrame({'h_0': h_0,\n",
    "                  'h_1': h_1,\n",
    "                  'treatment':treatment,\n",
    "                  'fungus': fungus})\n",
    "\n",
    "#this 'data' will inform our priors for the next model"
   ]
  },
  {
   "cell_type": "code",
   "execution_count": 12,
   "metadata": {},
   "outputs": [
    {
     "name": "stderr",
     "output_type": "stream",
     "text": [
      "Auto-assigning NUTS sampler...\n",
      "Initializing NUTS using jitter+adapt_diag...\n",
      "Sequential sampling (1 chains in 1 job)\n",
      "NUTS: [sigma, proportion]\n",
      "100%|████████████████████████████████████████████████████████████████████████████| 2000/2000 [00:00<00:00, 2373.13it/s]\n",
      "Only one chain was sampled, this makes it impossible to run some convergence checks\n"
     ]
    }
   ],
   "source": [
    "#R code 6.16\n",
    "with pm.Model() as m_6_6:\n",
    "    p = pm.Lognormal('proportion', mu=0, sd=0.25) \n",
    "    mu = pm.Deterministic('mu', p*d.h_0)\n",
    "    sigma = pm.Exponential('sigma', 1)\n",
    "    h_1 = pm.Normal('h_1', mu=mu, sd=sigma, observed=d.h_1)\n",
    "    trace_6_6 = pm.sample(1000, tune=1000, chains=1) "
   ]
  },
  {
   "cell_type": "code",
   "execution_count": 13,
   "metadata": {},
   "outputs": [
    {
     "data": {
      "text/html": [
       "<div>\n",
       "<style scoped>\n",
       "    .dataframe tbody tr th:only-of-type {\n",
       "        vertical-align: middle;\n",
       "    }\n",
       "\n",
       "    .dataframe tbody tr th {\n",
       "        vertical-align: top;\n",
       "    }\n",
       "\n",
       "    .dataframe thead th {\n",
       "        text-align: right;\n",
       "    }\n",
       "</style>\n",
       "<table border=\"1\" class=\"dataframe\">\n",
       "  <thead>\n",
       "    <tr style=\"text-align: right;\">\n",
       "      <th></th>\n",
       "      <th>mean</th>\n",
       "      <th>sd</th>\n",
       "      <th>mc_error</th>\n",
       "      <th>hpd_5.5</th>\n",
       "      <th>hpd_94.5</th>\n",
       "    </tr>\n",
       "  </thead>\n",
       "  <tbody>\n",
       "    <tr>\n",
       "      <th>proportion</th>\n",
       "      <td>1.41</td>\n",
       "      <td>0.02</td>\n",
       "      <td>0.0</td>\n",
       "      <td>1.38</td>\n",
       "      <td>1.44</td>\n",
       "    </tr>\n",
       "    <tr>\n",
       "      <th>sigma</th>\n",
       "      <td>1.79</td>\n",
       "      <td>0.12</td>\n",
       "      <td>0.0</td>\n",
       "      <td>1.62</td>\n",
       "      <td>2.02</td>\n",
       "    </tr>\n",
       "  </tbody>\n",
       "</table>\n",
       "</div>"
      ],
      "text/plain": [
       "            mean    sd  mc_error  hpd_5.5  hpd_94.5\n",
       "proportion  1.41  0.02       0.0     1.38      1.44\n",
       "sigma       1.79  0.12       0.0     1.62      2.02"
      ]
     },
     "execution_count": 13,
     "metadata": {},
     "output_type": "execute_result"
    }
   ],
   "source": [
    "varnames = ['proportion','sigma']\n",
    "pm.summary(trace_6_6, var_names = varnames, alpha = 0.11).round(2)"
   ]
  },
  {
   "cell_type": "code",
   "execution_count": 14,
   "metadata": {},
   "outputs": [
    {
     "name": "stderr",
     "output_type": "stream",
     "text": [
      "Auto-assigning NUTS sampler...\n",
      "Initializing NUTS using jitter+adapt_diag...\n",
      "Sequential sampling (1 chains in 1 job)\n",
      "NUTS: [sigma, beta_fungus, beta_treatment, alpha]\n",
      "100%|████████████████████████████████████████████████████████████████████████████| 2000/2000 [00:01<00:00, 1145.24it/s]\n",
      "Only one chain was sampled, this makes it impossible to run some convergence checks\n"
     ]
    }
   ],
   "source": [
    "#R code 6.17\n",
    "with pm.Model() as m_6_7:\n",
    "    alpha = pm.Lognormal('alpha', mu=0, sd=0.25) #note alpha here is the old p\n",
    "    beta_treatment = pm.Normal('beta_treatment', mu=0, sd=0.5) \n",
    "    beta_fungus = pm.Normal('beta_fungus', mu=0, sd=0.5) \n",
    "    p = pm.Deterministic('proportion', alpha + beta_treatment * d.treatment + beta_fungus * d.fungus)\n",
    "    mu = pm.Deterministic('mu', p*d.h_0)\n",
    "    sigma = pm.Exponential('sigma', 1)\n",
    "    h_1 = pm.Normal('h_1', mu=mu, sd=sigma, observed=d.h_1)\n",
    "    trace_6_7 = pm.sample(1000, tune=1000, chains=1) \n"
   ]
  },
  {
   "cell_type": "code",
   "execution_count": 15,
   "metadata": {},
   "outputs": [
    {
     "data": {
      "text/html": [
       "<div>\n",
       "<style scoped>\n",
       "    .dataframe tbody tr th:only-of-type {\n",
       "        vertical-align: middle;\n",
       "    }\n",
       "\n",
       "    .dataframe tbody tr th {\n",
       "        vertical-align: top;\n",
       "    }\n",
       "\n",
       "    .dataframe thead th {\n",
       "        text-align: right;\n",
       "    }\n",
       "</style>\n",
       "<table border=\"1\" class=\"dataframe\">\n",
       "  <thead>\n",
       "    <tr style=\"text-align: right;\">\n",
       "      <th></th>\n",
       "      <th>mean</th>\n",
       "      <th>sd</th>\n",
       "      <th>mc_error</th>\n",
       "      <th>hpd_5.5</th>\n",
       "      <th>hpd_94.5</th>\n",
       "    </tr>\n",
       "  </thead>\n",
       "  <tbody>\n",
       "    <tr>\n",
       "      <th>alpha</th>\n",
       "      <td>1.46</td>\n",
       "      <td>0.02</td>\n",
       "      <td>0.0</td>\n",
       "      <td>1.42</td>\n",
       "      <td>1.50</td>\n",
       "    </tr>\n",
       "    <tr>\n",
       "      <th>beta_treatment</th>\n",
       "      <td>0.03</td>\n",
       "      <td>0.03</td>\n",
       "      <td>0.0</td>\n",
       "      <td>-0.02</td>\n",
       "      <td>0.07</td>\n",
       "    </tr>\n",
       "    <tr>\n",
       "      <th>beta_fungus</th>\n",
       "      <td>-0.25</td>\n",
       "      <td>0.03</td>\n",
       "      <td>0.0</td>\n",
       "      <td>-0.31</td>\n",
       "      <td>-0.20</td>\n",
       "    </tr>\n",
       "    <tr>\n",
       "      <th>sigma</th>\n",
       "      <td>1.35</td>\n",
       "      <td>0.10</td>\n",
       "      <td>0.0</td>\n",
       "      <td>1.19</td>\n",
       "      <td>1.50</td>\n",
       "    </tr>\n",
       "  </tbody>\n",
       "</table>\n",
       "</div>"
      ],
      "text/plain": [
       "                mean    sd  mc_error  hpd_5.5  hpd_94.5\n",
       "alpha           1.46  0.02       0.0     1.42      1.50\n",
       "beta_treatment  0.03  0.03       0.0    -0.02      0.07\n",
       "beta_fungus    -0.25  0.03       0.0    -0.31     -0.20\n",
       "sigma           1.35  0.10       0.0     1.19      1.50"
      ]
     },
     "execution_count": 15,
     "metadata": {},
     "output_type": "execute_result"
    }
   ],
   "source": [
    "varnames = ['alpha','beta_treatment','beta_fungus','sigma']\n",
    "pm.summary(trace_6_7, var_names = varnames, alpha = 0.11).round(2)\n",
    "# note alpha here is the old p\n",
    "# The surprise here is that the treatment seems to not matter, even though we built the data in such a way that \n",
    "# it should. The reason is that the treatment effect is wrapped into fungus. Fungus is a post-treatment variable."
   ]
  },
  {
   "cell_type": "code",
   "execution_count": 16,
   "metadata": {},
   "outputs": [
    {
     "name": "stderr",
     "output_type": "stream",
     "text": [
      "Auto-assigning NUTS sampler...\n",
      "Initializing NUTS using jitter+adapt_diag...\n",
      "Sequential sampling (1 chains in 1 job)\n",
      "NUTS: [sigma, beta_treatment, alpha]\n",
      "100%|████████████████████████████████████████████████████████████████████████████| 2000/2000 [00:01<00:00, 1442.68it/s]\n",
      "Only one chain was sampled, this makes it impossible to run some convergence checks\n"
     ]
    },
    {
     "data": {
      "text/html": [
       "<div>\n",
       "<style scoped>\n",
       "    .dataframe tbody tr th:only-of-type {\n",
       "        vertical-align: middle;\n",
       "    }\n",
       "\n",
       "    .dataframe tbody tr th {\n",
       "        vertical-align: top;\n",
       "    }\n",
       "\n",
       "    .dataframe thead th {\n",
       "        text-align: right;\n",
       "    }\n",
       "</style>\n",
       "<table border=\"1\" class=\"dataframe\">\n",
       "  <thead>\n",
       "    <tr style=\"text-align: right;\">\n",
       "      <th></th>\n",
       "      <th>mean</th>\n",
       "      <th>sd</th>\n",
       "      <th>mc_error</th>\n",
       "      <th>hpd_5.5</th>\n",
       "      <th>hpd_94.5</th>\n",
       "    </tr>\n",
       "  </thead>\n",
       "  <tbody>\n",
       "    <tr>\n",
       "      <th>alpha</th>\n",
       "      <td>1.35</td>\n",
       "      <td>0.02</td>\n",
       "      <td>0.0</td>\n",
       "      <td>1.31</td>\n",
       "      <td>1.39</td>\n",
       "    </tr>\n",
       "    <tr>\n",
       "      <th>beta_treatment</th>\n",
       "      <td>0.12</td>\n",
       "      <td>0.03</td>\n",
       "      <td>0.0</td>\n",
       "      <td>0.08</td>\n",
       "      <td>0.18</td>\n",
       "    </tr>\n",
       "    <tr>\n",
       "      <th>sigma</th>\n",
       "      <td>1.69</td>\n",
       "      <td>0.12</td>\n",
       "      <td>0.0</td>\n",
       "      <td>1.54</td>\n",
       "      <td>1.91</td>\n",
       "    </tr>\n",
       "  </tbody>\n",
       "</table>\n",
       "</div>"
      ],
      "text/plain": [
       "                mean    sd  mc_error  hpd_5.5  hpd_94.5\n",
       "alpha           1.35  0.02       0.0     1.31      1.39\n",
       "beta_treatment  0.12  0.03       0.0     0.08      0.18\n",
       "sigma           1.69  0.12       0.0     1.54      1.91"
      ]
     },
     "execution_count": 16,
     "metadata": {},
     "output_type": "execute_result"
    }
   ],
   "source": [
    "with pm.Model() as m_6_8:\n",
    "    alpha = pm.Lognormal('alpha', mu=0, sd=0.25) #note alpha here is the old p\n",
    "    beta_treatment = pm.Normal('beta_treatment', mu=0, sd=0.5) \n",
    "    p = pm.Deterministic('proportion', alpha + beta_treatment * d.treatment)\n",
    "    mu = pm.Deterministic('mu', p*d.h_0)\n",
    "    sigma = pm.Exponential('sigma', 1)\n",
    "    h_1 = pm.Normal('h_1', mu=mu, sd=sigma, observed=d.h_1)\n",
    "    trace_6_8 = pm.sample(1000, tune=1000, chains=1) \n",
    "    \n",
    "varnames = ['alpha','beta_treatment','sigma']\n",
    "pm.summary(trace_6_8, var_names = varnames, alpha = 0.11).round(2)\n",
    "\n",
    "# Now that we have removed fungus, treatment matters, as it should."
   ]
  },
  {
   "cell_type": "code",
   "execution_count": 17,
   "metadata": {},
   "outputs": [
    {
     "name": "stderr",
     "output_type": "stream",
     "text": [
      "C:\\Users\\mikev\\Anaconda3\\envs\\stats\\lib\\site-packages\\networkx\\drawing\\nx_pylab.py:579: MatplotlibDeprecationWarning: \n",
      "The iterable function was deprecated in Matplotlib 3.1 and will be removed in 3.3. Use np.iterable instead.\n",
      "  if not cb.iterable(width):\n",
      "C:\\Users\\mikev\\Anaconda3\\envs\\stats\\lib\\site-packages\\networkx\\drawing\\nx_pylab.py:676: MatplotlibDeprecationWarning: \n",
      "The iterable function was deprecated in Matplotlib 3.1 and will be removed in 3.3. Use np.iterable instead.\n",
      "  if cb.iterable(node_size):  # many node sizes\n"
     ]
    },
    {
     "data": {
      "image/png": "[encoded data removed]",
      "text/plain": [
       "<Figure size 432x288 with 1 Axes>"
      ]
     },
     "metadata": {},
     "output_type": "display_data"
    }
   ],
   "source": [
    "# R code 6.31\n",
    "# I skipped a lot of code because it mostly came from a simulated data set. The lesson is important, but the code is\n",
    "# nothing especially new. But it looks like DAGs could be very important. So here we go.\n",
    "\n",
    "G1=nx.DiGraph()\n",
    "G1.add_edges_from([(\"S\", \"W\"), (\"S\", \"M\"), (\"S\", \"A\"), (\"A\", \"D\"), (\"A\", \"M\"), (\"M\", \"D\"), (\"W\",\"D\")])\n",
    "nx.draw(G1, with_labels=True, font_weight='bold')\n",
    "plt.show();"
   ]
  },
  {
   "cell_type": "code",
   "execution_count": 18,
   "metadata": {},
   "outputs": [
    {
     "name": "stdout",
     "output_type": "stream",
     "text": [
      "['S', 'W', 'D']\n",
      "['S', 'M', 'D']\n",
      "['S', 'A', 'D']\n",
      "['S', 'A', 'M', 'D']\n"
     ]
    }
   ],
   "source": [
    "for path in nx.all_simple_paths(G1, source=\"S\", target=\"D\"):\n",
    "    print(path)\n",
    "\n",
    "# all_simple_paths takes into account direction of edges."
   ]
  },
  {
   "cell_type": "code",
   "execution_count": 19,
   "metadata": {},
   "outputs": [
    {
     "name": "stdout",
     "output_type": "stream",
     "text": [
      "['S', 'W', 'D']\n",
      "['S', 'M', 'D']\n",
      "['S', 'M', 'A', 'D']\n",
      "['S', 'A', 'D']\n",
      "['S', 'A', 'M', 'D']\n"
     ]
    }
   ],
   "source": [
    "G2=G1.to_undirected()\n",
    "for path in nx.all_simple_paths(G2, source=\"S\", target=\"D\"):\n",
    "    print(path)\n",
    "\n",
    "# to not care about edge directions, conver to an undirected graph and then find paths."
   ]
  },
  {
   "cell_type": "code",
   "execution_count": 29,
   "metadata": {},
   "outputs": [
    {
     "data": {
      "image/svg+xml": [
       "<?xml version=\"1.0\" encoding=\"UTF-8\" standalone=\"no\"?>\r\n",
       "<!DOCTYPE svg PUBLIC \"-//W3C//DTD SVG 1.1//EN\"\r\n",
       " \"http://www.w3.org/Graphics/SVG/1.1/DTD/svg11.dtd\">\r\n",
       "<!-- Generated by graphviz version 2.38.0 (20140413.2041)\r\n",
       " -->\r\n",
       "<!-- Title: %3 Pages: 1 -->\r\n",
       "<svg width=\"161pt\" height=\"260pt\"\r\n",
       " viewBox=\"0.00 0.00 161.00 260.00\" xmlns=\"http://www.w3.org/2000/svg\" xmlns:xlink=\"http://www.w3.org/1999/xlink\">\r\n",
       "<g id=\"graph0\" class=\"graph\" transform=\"scale(1 1) rotate(0) translate(4 256)\">\r\n",
       "<title>%3</title>\r\n",
       "<polygon fill=\"white\" stroke=\"none\" points=\"-4,4 -4,-256 157,-256 157,4 -4,4\"/>\r\n",
       "<!-- U -->\r\n",
       "<g id=\"node1\" class=\"node\"><title>U</title>\r\n",
       "<ellipse fill=\"none\" stroke=\"black\" cx=\"54\" cy=\"-162\" rx=\"27\" ry=\"18\"/>\r\n",
       "<text text-anchor=\"middle\" x=\"54\" y=\"-158.3\" font-family=\"Times New Roman,serif\" font-size=\"14.00\">U</text>\r\n",
       "</g>\r\n",
       "<!-- B -->\r\n",
       "<g id=\"node2\" class=\"node\"><title>B</title>\r\n",
       "<ellipse fill=\"none\" stroke=\"black\" cx=\"99\" cy=\"-90\" rx=\"27\" ry=\"18\"/>\r\n",
       "<text text-anchor=\"middle\" x=\"99\" y=\"-86.3\" font-family=\"Times New Roman,serif\" font-size=\"14.00\">B</text>\r\n",
       "</g>\r\n",
       "<!-- U&#45;&gt;B -->\r\n",
       "<g id=\"edge6\" class=\"edge\"><title>U&#45;&gt;B</title>\r\n",
       "<path fill=\"none\" stroke=\"black\" d=\"M64.2112,-145.116C69.8497,-136.345 76.9734,-125.264 83.3038,-115.416\"/>\r\n",
       "<polygon fill=\"black\" stroke=\"black\" points=\"86.3657,-117.126 88.8292,-106.821 80.4775,-113.34 86.3657,-117.126\"/>\r\n",
       "</g>\r\n",
       "<!-- X -->\r\n",
       "<g id=\"node5\" class=\"node\"><title>X</title>\r\n",
       "<ellipse fill=\"none\" stroke=\"black\" cx=\"27\" cy=\"-90\" rx=\"27\" ry=\"18\"/>\r\n",
       "<text text-anchor=\"middle\" x=\"27\" y=\"-86.3\" font-family=\"Times New Roman,serif\" font-size=\"14.00\">X</text>\r\n",
       "</g>\r\n",
       "<!-- U&#45;&gt;X -->\r\n",
       "<g id=\"edge5\" class=\"edge\"><title>U&#45;&gt;X</title>\r\n",
       "<path fill=\"none\" stroke=\"black\" d=\"M47.6014,-144.411C44.4864,-136.335 40.6663,-126.431 37.1654,-117.355\"/>\r\n",
       "<polygon fill=\"black\" stroke=\"black\" points=\"40.4045,-116.027 33.5403,-107.956 33.8735,-118.546 40.4045,-116.027\"/>\r\n",
       "</g>\r\n",
       "<!-- A -->\r\n",
       "<g id=\"node3\" class=\"node\"><title>A</title>\r\n",
       "<ellipse fill=\"none\" stroke=\"black\" cx=\"90\" cy=\"-234\" rx=\"27\" ry=\"18\"/>\r\n",
       "<text text-anchor=\"middle\" x=\"90\" y=\"-230.3\" font-family=\"Times New Roman,serif\" font-size=\"14.00\">A</text>\r\n",
       "</g>\r\n",
       "<!-- A&#45;&gt;U -->\r\n",
       "<g id=\"edge1\" class=\"edge\"><title>A&#45;&gt;U</title>\r\n",
       "<path fill=\"none\" stroke=\"black\" d=\"M81.6504,-216.765C77.2885,-208.283 71.8531,-197.714 66.9587,-188.197\"/>\r\n",
       "<polygon fill=\"black\" stroke=\"black\" points=\"69.9904,-186.439 62.3043,-179.147 63.7654,-189.641 69.9904,-186.439\"/>\r\n",
       "</g>\r\n",
       "<!-- C -->\r\n",
       "<g id=\"node6\" class=\"node\"><title>C</title>\r\n",
       "<ellipse fill=\"none\" stroke=\"black\" cx=\"126\" cy=\"-162\" rx=\"27\" ry=\"18\"/>\r\n",
       "<text text-anchor=\"middle\" x=\"126\" y=\"-158.3\" font-family=\"Times New Roman,serif\" font-size=\"14.00\">C</text>\r\n",
       "</g>\r\n",
       "<!-- A&#45;&gt;C -->\r\n",
       "<g id=\"edge2\" class=\"edge\"><title>A&#45;&gt;C</title>\r\n",
       "<path fill=\"none\" stroke=\"black\" d=\"M98.3496,-216.765C102.712,-208.283 108.147,-197.714 113.041,-188.197\"/>\r\n",
       "<polygon fill=\"black\" stroke=\"black\" points=\"116.235,-189.641 117.696,-179.147 110.01,-186.439 116.235,-189.641\"/>\r\n",
       "</g>\r\n",
       "<!-- Y -->\r\n",
       "<g id=\"node4\" class=\"node\"><title>Y</title>\r\n",
       "<ellipse fill=\"none\" stroke=\"black\" cx=\"90\" cy=\"-18\" rx=\"27\" ry=\"18\"/>\r\n",
       "<text text-anchor=\"middle\" x=\"90\" y=\"-14.3\" font-family=\"Times New Roman,serif\" font-size=\"14.00\">Y</text>\r\n",
       "</g>\r\n",
       "<!-- X&#45;&gt;Y -->\r\n",
       "<g id=\"edge7\" class=\"edge\"><title>X&#45;&gt;Y</title>\r\n",
       "<path fill=\"none\" stroke=\"black\" d=\"M40.3607,-74.1548C48.8803,-64.6885 60.0854,-52.2384 69.6935,-41.5628\"/>\r\n",
       "<polygon fill=\"black\" stroke=\"black\" points=\"72.5704,-43.5982 76.6586,-33.8238 67.3674,-38.9154 72.5704,-43.5982\"/>\r\n",
       "</g>\r\n",
       "<!-- C&#45;&gt;B -->\r\n",
       "<g id=\"edge3\" class=\"edge\"><title>C&#45;&gt;B</title>\r\n",
       "<path fill=\"none\" stroke=\"black\" d=\"M119.601,-144.411C116.486,-136.335 112.666,-126.431 109.165,-117.355\"/>\r\n",
       "<polygon fill=\"black\" stroke=\"black\" points=\"112.405,-116.027 105.54,-107.956 105.874,-118.546 112.405,-116.027\"/>\r\n",
       "</g>\r\n",
       "<!-- C&#45;&gt;Y -->\r\n",
       "<g id=\"edge4\" class=\"edge\"><title>C&#45;&gt;Y</title>\r\n",
       "<path fill=\"none\" stroke=\"black\" d=\"M131.952,-144.376C137.542,-126.073 143.834,-96.0539 135,-72 130.558,-59.9063 121.998,-48.684 113.526,-39.7087\"/>\r\n",
       "<polygon fill=\"black\" stroke=\"black\" points=\"115.768,-37.0026 106.208,-32.4344 110.833,-41.9669 115.768,-37.0026\"/>\r\n",
       "</g>\r\n",
       "</g>\r\n",
       "</svg>\r\n"
      ],
      "text/plain": [
       "<graphviz.dot.Digraph at 0x1e221ae1d30>"
      ]
     },
     "execution_count": 29,
     "metadata": {},
     "output_type": "execute_result"
    }
   ],
   "source": [
    "#R code 6.30 - backtracking\n",
    "#Let's try using CausalGraphicalModel to draw our DAGs\n",
    "DAG = cgm.CausalGraphicalModel(\n",
    "    nodes = [\"A\", \"B\", \"C\", \"U\", \"X\", \"Y\"],\n",
    "    edges = [\n",
    "        (\"X\",\"Y\"),\n",
    "        (\"U\",\"X\"),\n",
    "        (\"U\",\"B\"),\n",
    "        (\"A\",\"U\"),\n",
    "        (\"A\",\"C\"),\n",
    "        (\"C\",\"B\"),\n",
    "        (\"C\",\"Y\")\n",
    "    ])\n",
    "DAG.draw()"
   ]
  },
  {
   "cell_type": "code",
   "execution_count": 25,
   "metadata": {},
   "outputs": [
    {
     "data": {
      "image/svg+xml": [
       "<?xml version=\"1.0\" encoding=\"UTF-8\" standalone=\"no\"?>\r\n",
       "<!DOCTYPE svg PUBLIC \"-//W3C//DTD SVG 1.1//EN\"\r\n",
       " \"http://www.w3.org/Graphics/SVG/1.1/DTD/svg11.dtd\">\r\n",
       "<!-- Generated by graphviz version 2.38.0 (20140413.2041)\r\n",
       " -->\r\n",
       "<!-- Title: %3 Pages: 1 -->\r\n",
       "<svg width=\"180pt\" height=\"260pt\"\r\n",
       " viewBox=\"0.00 0.00 180.00 260.00\" xmlns=\"http://www.w3.org/2000/svg\" xmlns:xlink=\"http://www.w3.org/1999/xlink\">\r\n",
       "<g id=\"graph0\" class=\"graph\" transform=\"scale(1 1) rotate(0) translate(4 256)\">\r\n",
       "<title>%3</title>\r\n",
       "<polygon fill=\"white\" stroke=\"none\" points=\"-4,4 -4,-256 176,-256 176,4 -4,4\"/>\r\n",
       "<!-- S -->\r\n",
       "<g id=\"node1\" class=\"node\"><title>S</title>\r\n",
       "<ellipse fill=\"none\" stroke=\"black\" cx=\"90\" cy=\"-234\" rx=\"27\" ry=\"18\"/>\r\n",
       "<text text-anchor=\"middle\" x=\"90\" y=\"-230.3\" font-family=\"Times New Roman,serif\" font-size=\"14.00\">S</text>\r\n",
       "</g>\r\n",
       "<!-- M -->\r\n",
       "<g id=\"node2\" class=\"node\"><title>M</title>\r\n",
       "<ellipse fill=\"none\" stroke=\"black\" cx=\"99\" cy=\"-90\" rx=\"27\" ry=\"18\"/>\r\n",
       "<text text-anchor=\"middle\" x=\"99\" y=\"-86.3\" font-family=\"Times New Roman,serif\" font-size=\"14.00\">M</text>\r\n",
       "</g>\r\n",
       "<!-- S&#45;&gt;M -->\r\n",
       "<g id=\"edge5\" class=\"edge\"><title>S&#45;&gt;M</title>\r\n",
       "<path fill=\"none\" stroke=\"black\" d=\"M91.0856,-215.871C92.6195,-191.67 95.4373,-147.211 97.2638,-118.393\"/>\r\n",
       "<polygon fill=\"black\" stroke=\"black\" points=\"100.771,-118.391 97.9105,-108.189 93.7849,-117.948 100.771,-118.391\"/>\r\n",
       "</g>\r\n",
       "<!-- W -->\r\n",
       "<g id=\"node4\" class=\"node\"><title>W</title>\r\n",
       "<ellipse fill=\"none\" stroke=\"black\" cx=\"27\" cy=\"-90\" rx=\"27\" ry=\"18\"/>\r\n",
       "<text text-anchor=\"middle\" x=\"27\" y=\"-86.3\" font-family=\"Times New Roman,serif\" font-size=\"14.00\">W</text>\r\n",
       "</g>\r\n",
       "<!-- S&#45;&gt;W -->\r\n",
       "<g id=\"edge4\" class=\"edge\"><title>S&#45;&gt;W</title>\r\n",
       "<path fill=\"none\" stroke=\"black\" d=\"M82.6498,-216.433C71.7907,-191.957 51.3622,-145.912 38.5066,-116.936\"/>\r\n",
       "<polygon fill=\"black\" stroke=\"black\" points=\"41.5581,-115.183 34.3034,-107.462 35.1596,-118.022 41.5581,-115.183\"/>\r\n",
       "</g>\r\n",
       "<!-- A -->\r\n",
       "<g id=\"node5\" class=\"node\"><title>A</title>\r\n",
       "<ellipse fill=\"none\" stroke=\"black\" cx=\"145\" cy=\"-162\" rx=\"27\" ry=\"18\"/>\r\n",
       "<text text-anchor=\"middle\" x=\"145\" y=\"-158.3\" font-family=\"Times New Roman,serif\" font-size=\"14.00\">A</text>\r\n",
       "</g>\r\n",
       "<!-- S&#45;&gt;A -->\r\n",
       "<g id=\"edge3\" class=\"edge\"><title>S&#45;&gt;A</title>\r\n",
       "<path fill=\"none\" stroke=\"black\" d=\"M101.934,-217.811C109.214,-208.546 118.663,-196.52 126.854,-186.094\"/>\r\n",
       "<polygon fill=\"black\" stroke=\"black\" points=\"129.663,-188.185 133.089,-178.159 124.159,-183.86 129.663,-188.185\"/>\r\n",
       "</g>\r\n",
       "<!-- D -->\r\n",
       "<g id=\"node3\" class=\"node\"><title>D</title>\r\n",
       "<ellipse fill=\"none\" stroke=\"black\" cx=\"99\" cy=\"-18\" rx=\"27\" ry=\"18\"/>\r\n",
       "<text text-anchor=\"middle\" x=\"99\" y=\"-14.3\" font-family=\"Times New Roman,serif\" font-size=\"14.00\">D</text>\r\n",
       "</g>\r\n",
       "<!-- M&#45;&gt;D -->\r\n",
       "<g id=\"edge6\" class=\"edge\"><title>M&#45;&gt;D</title>\r\n",
       "<path fill=\"none\" stroke=\"black\" d=\"M99,-71.6966C99,-63.9827 99,-54.7125 99,-46.1124\"/>\r\n",
       "<polygon fill=\"black\" stroke=\"black\" points=\"102.5,-46.1043 99,-36.1043 95.5001,-46.1044 102.5,-46.1043\"/>\r\n",
       "</g>\r\n",
       "<!-- W&#45;&gt;D -->\r\n",
       "<g id=\"edge7\" class=\"edge\"><title>W&#45;&gt;D</title>\r\n",
       "<path fill=\"none\" stroke=\"black\" d=\"M41.5703,-74.8345C51.7499,-64.9376 65.5239,-51.5462 77.0306,-40.3591\"/>\r\n",
       "<polygon fill=\"black\" stroke=\"black\" points=\"79.4741,-42.865 84.2043,-33.3847 74.5945,-37.8461 79.4741,-42.865\"/>\r\n",
       "</g>\r\n",
       "<!-- A&#45;&gt;M -->\r\n",
       "<g id=\"edge1\" class=\"edge\"><title>A&#45;&gt;M</title>\r\n",
       "<path fill=\"none\" stroke=\"black\" d=\"M134.562,-145.116C128.798,-136.345 121.516,-125.264 115.045,-115.416\"/>\r\n",
       "<polygon fill=\"black\" stroke=\"black\" points=\"117.814,-113.256 109.397,-106.821 111.964,-117.1 117.814,-113.256\"/>\r\n",
       "</g>\r\n",
       "<!-- A&#45;&gt;D -->\r\n",
       "<g id=\"edge2\" class=\"edge\"><title>A&#45;&gt;D</title>\r\n",
       "<path fill=\"none\" stroke=\"black\" d=\"M145.481,-143.708C145.442,-125.352 143.792,-95.7703 135,-72 131.122,-61.5153 124.74,-51.0945 118.419,-42.3033\"/>\r\n",
       "<polygon fill=\"black\" stroke=\"black\" points=\"121.042,-39.9693 112.212,-34.1133 115.463,-44.1972 121.042,-39.9693\"/>\r\n",
       "</g>\r\n",
       "</g>\r\n",
       "</svg>\r\n"
      ],
      "text/plain": [
       "<graphviz.dot.Digraph at 0x1e221ae19e8>"
      ]
     },
     "execution_count": 25,
     "metadata": {},
     "output_type": "execute_result"
    }
   ],
   "source": [
    "\n",
    "DAG = cgm.CausalGraphicalModel(\n",
    "    nodes = [\"A\", \"S\", \"D\", \"M\", \"W\"],\n",
    "    edges = [\n",
    "        (\"S\",\"A\"),\n",
    "        (\"S\",\"W\"),\n",
    "        (\"S\",\"M\"),\n",
    "        (\"A\",\"M\"),\n",
    "        (\"A\",\"D\"),\n",
    "        (\"M\",\"D\"),\n",
    "        (\"W\",\"D\")\n",
    "    ])\n",
    "DAG.draw()"
   ]
  },
  {
   "cell_type": "code",
   "execution_count": 59,
   "metadata": {},
   "outputs": [
    {
     "name": "stdout",
     "output_type": "stream",
     "text": [
      "1\n",
      "3\n",
      "1\n",
      "3\n",
      "2\n",
      "2\n",
      "2\n",
      "4\n",
      "2\n",
      "3\n",
      "2\n",
      "1\n",
      "3\n"
     ]
    }
   ],
   "source": [
    "x = DAG.get_all_backdoor_adjustment_sets(\"X\", \"Y\")"
   ]
  },
  {
   "cell_type": "code",
   "execution_count": 71,
   "metadata": {},
   "outputs": [],
   "source": [
    "# should generalize this to accept either a DAG or a list of all backdoor adjustment sets\n",
    "\n",
    "def get_shortest_backdoor_adjustment_sets(all_sets):\n",
    "    shortest_sets = []\n",
    "    first_element, *_ = all_sets   # this extracts the first element of the set. I don't understand it.\n",
    "    min_length = len(first_element)\n",
    "    for x in all_sets:\n",
    "        if len(x) < min_length:   # If we've found the shortest set length yet \n",
    "            min_length = len(x)   # Set the length as our new min length\n",
    "            shortest_sets = []    # Clear the shortest sets list\n",
    "            shortest_sets.append(x) # Add the new set to the list\n",
    "        elif len(x) == min_length: # If we've found a set equivalent to our min set length\n",
    "            shortest_sets.append(x) # Just add the set to the list\n",
    "    return shortest_sets       \n",
    "    "
   ]
  },
  {
   "cell_type": "code",
   "execution_count": 72,
   "metadata": {},
   "outputs": [
    {
     "data": {
      "text/plain": [
       "[frozenset({'C'}), frozenset({'A'}), frozenset({'U'})]"
      ]
     },
     "execution_count": 72,
     "metadata": {},
     "output_type": "execute_result"
    }
   ],
   "source": [
    "get_shortest_backdoor_adjustment_sets(x)"
   ]
  },
  {
   "cell_type": "code",
   "execution_count": 28,
   "metadata": {},
   "outputs": [
    {
     "data": {
      "text/plain": [
       "frozenset({frozenset({'S'}),\n",
       "           frozenset({'M', 'S'}),\n",
       "           frozenset({'A', 'S'}),\n",
       "           frozenset({'A', 'M'}),\n",
       "           frozenset({'A', 'M', 'S'})})"
      ]
     },
     "execution_count": 28,
     "metadata": {},
     "output_type": "execute_result"
    }
   ],
   "source": [
    "DAG.get_all_backdoor_adjustment_sets(\"W\", \"D\")"
   ]
  }
 ],
 "metadata": {
  "kernelspec": {
   "display_name": "Python 3",
   "language": "python",
   "name": "python3"
  },
  "language_info": {
   "codemirror_mode": {
    "name": "ipython",
    "version": 3
   },
   "file_extension": ".py",
   "mimetype": "text/x-python",
   "name": "python",
   "nbconvert_exporter": "python",
   "pygments_lexer": "ipython3",
   "version": "3.7.3"
  }
 },
 "nbformat": 4,
 "nbformat_minor": 2
}
