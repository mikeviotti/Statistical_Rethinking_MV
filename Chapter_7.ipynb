{
 "cells": [
  {
   "cell_type": "code",
   "execution_count": 1,
   "metadata": {},
   "outputs": [],
   "source": [
    "%matplotlib inline\n",
    "import pymc3 as pm\n",
    "import numpy as np\n",
    "import pandas as pd\n",
    "import scipy.stats as stats\n",
    "from scipy.interpolate import griddata\n",
    "import matplotlib.pyplot as plt\n",
    "import seaborn as sns\n",
    "import networkx as nx\n",
    "\n",
    "# %config InlineBackend.figure_format = 'retina'\n",
    "# plt.style.use(['seaborn-colorblind', 'seaborn-darkgrid'])\n",
    "\n",
    "# Typo - page 194, \"So it's no good\"\n",
    "# Typo - page 196, \"you did this IS (in) earlier chapters\"\n",
    "# Typo - page 203, \"...as a measure __ model performance\" (probably missing the word 'of')\n",
    "# Typo - page 217, in rethinking box: \"[add cite to sub paper?]\"\n",
    "# Typo - page 218, entire overthinking box\n",
    "# Typo - page 219, \"...exist that dominate AIC IS (in) every context\"\n",
    "# Typo - page 219, \"Unfortunately, IT'S (its) generality...\"\n",
    "# Typo - page 221, broken figure link\n",
    "# Typos - page 244, \"IT'S job...IT'S job...\" (two times) both should be its."
   ]
  },
  {
   "cell_type": "code",
   "execution_count": 3,
   "metadata": {},
   "outputs": [
    {
     "data": {
      "text/html": [
       "<div>\n",
       "<style scoped>\n",
       "    .dataframe tbody tr th:only-of-type {\n",
       "        vertical-align: middle;\n",
       "    }\n",
       "\n",
       "    .dataframe tbody tr th {\n",
       "        vertical-align: top;\n",
       "    }\n",
       "\n",
       "    .dataframe thead th {\n",
       "        text-align: right;\n",
       "    }\n",
       "</style>\n",
       "<table border=\"1\" class=\"dataframe\">\n",
       "  <thead>\n",
       "    <tr style=\"text-align: right;\">\n",
       "      <th></th>\n",
       "      <th>species</th>\n",
       "      <th>brainvolcc</th>\n",
       "      <th>masskg</th>\n",
       "    </tr>\n",
       "  </thead>\n",
       "  <tbody>\n",
       "    <tr>\n",
       "      <th>0</th>\n",
       "      <td>afarensis</td>\n",
       "      <td>438</td>\n",
       "      <td>37.0</td>\n",
       "    </tr>\n",
       "    <tr>\n",
       "      <th>1</th>\n",
       "      <td>africanus</td>\n",
       "      <td>452</td>\n",
       "      <td>35.5</td>\n",
       "    </tr>\n",
       "    <tr>\n",
       "      <th>2</th>\n",
       "      <td>habilis</td>\n",
       "      <td>612</td>\n",
       "      <td>34.5</td>\n",
       "    </tr>\n",
       "    <tr>\n",
       "      <th>3</th>\n",
       "      <td>boisei</td>\n",
       "      <td>521</td>\n",
       "      <td>41.5</td>\n",
       "    </tr>\n",
       "    <tr>\n",
       "      <th>4</th>\n",
       "      <td>rudolfensis</td>\n",
       "      <td>752</td>\n",
       "      <td>55.5</td>\n",
       "    </tr>\n",
       "    <tr>\n",
       "      <th>5</th>\n",
       "      <td>ergaster</td>\n",
       "      <td>871</td>\n",
       "      <td>61.0</td>\n",
       "    </tr>\n",
       "    <tr>\n",
       "      <th>6</th>\n",
       "      <td>sapiens</td>\n",
       "      <td>1350</td>\n",
       "      <td>53.5</td>\n",
       "    </tr>\n",
       "  </tbody>\n",
       "</table>\n",
       "</div>"
      ],
      "text/plain": [
       "       species  brainvolcc  masskg\n",
       "0    afarensis         438    37.0\n",
       "1    africanus         452    35.5\n",
       "2      habilis         612    34.5\n",
       "3       boisei         521    41.5\n",
       "4  rudolfensis         752    55.5\n",
       "5     ergaster         871    61.0\n",
       "6      sapiens        1350    53.5"
      ]
     },
     "execution_count": 3,
     "metadata": {},
     "output_type": "execute_result"
    }
   ],
   "source": [
    "# R code 7.1\n",
    "data = {'species':[\"afarensis\",\"africanus\",\"habilis\",\"boisei\",\n",
    "                    \"rudolfensis\",\"ergaster\",\"sapiens\"],\n",
    "        'brainvolcc':[438 , 452 , 612, 521, 752, 871, 1350],\n",
    "        'masskg':[37.0 , 35.5 , 34.5 , 41.5 , 55.5 , 61.0 , 53.5]\n",
    "       }\n",
    "\n",
    "d=pd.DataFrame(data)\n",
    "d"
   ]
  },
  {
   "cell_type": "code",
   "execution_count": 4,
   "metadata": {},
   "outputs": [
    {
     "data": {
      "text/html": [
       "<div>\n",
       "<style scoped>\n",
       "    .dataframe tbody tr th:only-of-type {\n",
       "        vertical-align: middle;\n",
       "    }\n",
       "\n",
       "    .dataframe tbody tr th {\n",
       "        vertical-align: top;\n",
       "    }\n",
       "\n",
       "    .dataframe thead th {\n",
       "        text-align: right;\n",
       "    }\n",
       "</style>\n",
       "<table border=\"1\" class=\"dataframe\">\n",
       "  <thead>\n",
       "    <tr style=\"text-align: right;\">\n",
       "      <th></th>\n",
       "      <th>species</th>\n",
       "      <th>brainvolcc</th>\n",
       "      <th>masskg</th>\n",
       "      <th>mass_std</th>\n",
       "      <th>brain_std</th>\n",
       "    </tr>\n",
       "  </thead>\n",
       "  <tbody>\n",
       "    <tr>\n",
       "      <th>0</th>\n",
       "      <td>afarensis</td>\n",
       "      <td>438</td>\n",
       "      <td>37.0</td>\n",
       "      <td>-0.779467</td>\n",
       "      <td>0.324444</td>\n",
       "    </tr>\n",
       "    <tr>\n",
       "      <th>1</th>\n",
       "      <td>africanus</td>\n",
       "      <td>452</td>\n",
       "      <td>35.5</td>\n",
       "      <td>-0.917020</td>\n",
       "      <td>0.334815</td>\n",
       "    </tr>\n",
       "    <tr>\n",
       "      <th>2</th>\n",
       "      <td>habilis</td>\n",
       "      <td>612</td>\n",
       "      <td>34.5</td>\n",
       "      <td>-1.008722</td>\n",
       "      <td>0.453333</td>\n",
       "    </tr>\n",
       "    <tr>\n",
       "      <th>3</th>\n",
       "      <td>boisei</td>\n",
       "      <td>521</td>\n",
       "      <td>41.5</td>\n",
       "      <td>-0.366808</td>\n",
       "      <td>0.385926</td>\n",
       "    </tr>\n",
       "    <tr>\n",
       "      <th>4</th>\n",
       "      <td>rudolfensis</td>\n",
       "      <td>752</td>\n",
       "      <td>55.5</td>\n",
       "      <td>0.917020</td>\n",
       "      <td>0.557037</td>\n",
       "    </tr>\n",
       "    <tr>\n",
       "      <th>5</th>\n",
       "      <td>ergaster</td>\n",
       "      <td>871</td>\n",
       "      <td>61.0</td>\n",
       "      <td>1.421380</td>\n",
       "      <td>0.645185</td>\n",
       "    </tr>\n",
       "    <tr>\n",
       "      <th>6</th>\n",
       "      <td>sapiens</td>\n",
       "      <td>1350</td>\n",
       "      <td>53.5</td>\n",
       "      <td>0.733616</td>\n",
       "      <td>1.000000</td>\n",
       "    </tr>\n",
       "  </tbody>\n",
       "</table>\n",
       "</div>"
      ],
      "text/plain": [
       "       species  brainvolcc  masskg  mass_std  brain_std\n",
       "0    afarensis         438    37.0 -0.779467   0.324444\n",
       "1    africanus         452    35.5 -0.917020   0.334815\n",
       "2      habilis         612    34.5 -1.008722   0.453333\n",
       "3       boisei         521    41.5 -0.366808   0.385926\n",
       "4  rudolfensis         752    55.5  0.917020   0.557037\n",
       "5     ergaster         871    61.0  1.421380   0.645185\n",
       "6      sapiens        1350    53.5  0.733616   1.000000"
      ]
     },
     "execution_count": 4,
     "metadata": {},
     "output_type": "execute_result"
    }
   ],
   "source": [
    "# R code 7.2\n",
    "d['mass_std']= (d.masskg - d.masskg.mean())/d.masskg.std()\n",
    "d['brain_std'] = d.brainvolcc/max(d.brainvolcc)\n",
    "d"
   ]
  },
  {
   "cell_type": "code",
   "execution_count": 5,
   "metadata": {},
   "outputs": [
    {
     "data": {
      "image/png": "[encoded data removed]",
      "text/plain": [
       "<Figure size 432x288 with 1 Axes>"
      ]
     },
     "metadata": {
      "needs_background": "light"
     },
     "output_type": "display_data"
    }
   ],
   "source": [
    "plt.plot(d.mass_std, d.brain_std, 'o');"
   ]
  },
  {
   "cell_type": "code",
   "execution_count": 6,
   "metadata": {},
   "outputs": [
    {
     "name": "stderr",
     "output_type": "stream",
     "text": [
      "Auto-assigning NUTS sampler...\n",
      "Initializing NUTS using jitter+adapt_diag...\n",
      "Sequential sampling (1 chains in 1 job)\n",
      "NUTS: [sigma, beta_mass, alpha]\n",
      "100%|██████████████████████████████████████████████████████████████████████████| 10500/10500 [00:06<00:00, 1627.33it/s]\n",
      "Only one chain was sampled, this makes it impossible to run some convergence checks\n"
     ]
    }
   ],
   "source": [
    "# R code 7.3\n",
    "# Simple, linear model that compares mass and brain size.\n",
    "with pm.Model() as m_7_1:\n",
    "    alpha = pm.Normal('alpha', mu=0.5, sd=1) \n",
    "    beta_mass = pm.Normal('beta_mass', mu=0, sd=10) \n",
    "    mu = pm.Deterministic('mu', alpha + beta_mass*d.mass_std)\n",
    "    sigma = pm.Lognormal('sigma', mu=0, sd=1)\n",
    "    brain = pm.Normal('brain', mu=mu, sd=sigma, observed=d.brain_std)\n",
    "    trace_7_1 = pm.sample(10000, chains=1) "
   ]
  },
  {
   "cell_type": "code",
   "execution_count": 7,
   "metadata": {},
   "outputs": [
    {
     "data": {
      "text/html": [
       "<div>\n",
       "<style scoped>\n",
       "    .dataframe tbody tr th:only-of-type {\n",
       "        vertical-align: middle;\n",
       "    }\n",
       "\n",
       "    .dataframe tbody tr th {\n",
       "        vertical-align: top;\n",
       "    }\n",
       "\n",
       "    .dataframe thead th {\n",
       "        text-align: right;\n",
       "    }\n",
       "</style>\n",
       "<table border=\"1\" class=\"dataframe\">\n",
       "  <thead>\n",
       "    <tr style=\"text-align: right;\">\n",
       "      <th></th>\n",
       "      <th>mean</th>\n",
       "      <th>sd</th>\n",
       "      <th>mc_error</th>\n",
       "      <th>hpd_5.5</th>\n",
       "      <th>hpd_94.5</th>\n",
       "    </tr>\n",
       "  </thead>\n",
       "  <tbody>\n",
       "    <tr>\n",
       "      <th>alpha</th>\n",
       "      <td>0.53</td>\n",
       "      <td>0.11</td>\n",
       "      <td>0.0</td>\n",
       "      <td>0.35</td>\n",
       "      <td>0.69</td>\n",
       "    </tr>\n",
       "    <tr>\n",
       "      <th>beta_mass</th>\n",
       "      <td>0.17</td>\n",
       "      <td>0.12</td>\n",
       "      <td>0.0</td>\n",
       "      <td>-0.01</td>\n",
       "      <td>0.34</td>\n",
       "    </tr>\n",
       "  </tbody>\n",
       "</table>\n",
       "</div>"
      ],
      "text/plain": [
       "           mean    sd  mc_error  hpd_5.5  hpd_94.5\n",
       "alpha      0.53  0.11       0.0     0.35      0.69\n",
       "beta_mass  0.17  0.12       0.0    -0.01      0.34"
      ]
     },
     "execution_count": 7,
     "metadata": {},
     "output_type": "execute_result"
    }
   ],
   "source": [
    "varnames = ['alpha','beta_mass']\n",
    "pm.summary(trace_7_1, var_names = varnames, alpha = 0.11).round(2)"
   ]
  },
  {
   "cell_type": "code",
   "execution_count": 8,
   "metadata": {},
   "outputs": [
    {
     "name": "stderr",
     "output_type": "stream",
     "text": [
      "Auto-assigning NUTS sampler...\n",
      "Initializing NUTS using jitter+adapt_diag...\n",
      "Sequential sampling (1 chains in 1 job)\n",
      "NUTS: [sigma, beta_mass, alpha]\n",
      "100%|███████████████████████████████████████████████████████████████████████████| 10500/10500 [00:10<00:00, 962.26it/s]\n",
      "There were 6 divergences after tuning. Increase `target_accept` or reparameterize.\n",
      "Only one chain was sampled, this makes it impossible to run some convergence checks\n"
     ]
    }
   ],
   "source": [
    "# R code 7.6\n",
    "# second-degree polynomial\n",
    "\n",
    "with pm.Model() as m_7_2:\n",
    "    alpha = pm.Normal('alpha', mu=0.5, sd=1) \n",
    "    beta_mass = pm.Normal('beta_mass', mu=0, sd=10, shape=2) \n",
    "    mu = pm.Deterministic('mu', alpha + beta_mass[0]*d.mass_std \n",
    "                          + beta_mass[1]*d.mass_std**2)\n",
    "    sigma = pm.Lognormal('sigma', mu=0, sd=1)\n",
    "    brain = pm.Normal('brain', mu=mu, sd=sigma, observed=d.brain_std)\n",
    "    trace_7_2 = pm.sample(10000, chains=1) "
   ]
  },
  {
   "cell_type": "code",
   "execution_count": 9,
   "metadata": {},
   "outputs": [
    {
     "name": "stderr",
     "output_type": "stream",
     "text": [
      "Auto-assigning NUTS sampler...\n",
      "Initializing NUTS using jitter+adapt_diag...\n",
      "Sequential sampling (1 chains in 1 job)\n",
      "NUTS: [sigma, beta_mass, alpha]\n",
      "100%|███████████████████████████████████████████████████████████████████████████| 10500/10500 [00:17<00:00, 609.16it/s]\n",
      "There were 85 divergences after tuning. Increase `target_accept` or reparameterize.\n",
      "Only one chain was sampled, this makes it impossible to run some convergence checks\n"
     ]
    }
   ],
   "source": [
    "with pm.Model() as m_7_3:\n",
    "    alpha = pm.Normal('alpha', mu=0.5, sd=1) \n",
    "    beta_mass = pm.Normal('beta_mass', mu=0, sd=10, shape=3) \n",
    "    mu = pm.Deterministic('mu', alpha + beta_mass[0]*d.mass_std \n",
    "                          + beta_mass[1]*d.mass_std**2 + beta_mass[2]*d.mass_std**3)\n",
    "    sigma = pm.Lognormal('sigma', mu=0, sd=1)\n",
    "    brain = pm.Normal('brain', mu=mu, sd=sigma, observed=d.brain_std)\n",
    "    trace_7_3 = pm.sample(10000, chains=1) "
   ]
  },
  {
   "cell_type": "code",
   "execution_count": 10,
   "metadata": {},
   "outputs": [
    {
     "name": "stderr",
     "output_type": "stream",
     "text": [
      "Auto-assigning NUTS sampler...\n",
      "Initializing NUTS using jitter+adapt_diag...\n",
      "Sequential sampling (1 chains in 1 job)\n",
      "NUTS: [sigma, beta_mass, alpha]\n",
      "100%|███████████████████████████████████████████████████████████████████████████| 10500/10500 [00:31<00:00, 332.22it/s]\n",
      "There were 2104 divergences after tuning. Increase `target_accept` or reparameterize.\n",
      "The acceptance probability does not match the target. It is 0.5206395360039519, but should be close to 0.8. Try to increase the number of tuning steps.\n",
      "Only one chain was sampled, this makes it impossible to run some convergence checks\n"
     ]
    }
   ],
   "source": [
    "with pm.Model() as m_7_4:\n",
    "    alpha = pm.Normal('alpha', mu=0.5, sd=1) \n",
    "    beta_mass = pm.Normal('beta_mass', mu=0, sd=10, shape=4) \n",
    "    mu = pm.Deterministic('mu', alpha + beta_mass[0]*d.mass_std \n",
    "                          + beta_mass[1]*d.mass_std**2 + beta_mass[2]*d.mass_std**3\n",
    "                         + beta_mass[3]*d.mass_std**4)\n",
    "    sigma = pm.Lognormal('sigma', mu=0, sd=1)\n",
    "    brain = pm.Normal('brain', mu=mu, sd=sigma, observed=d.brain_std)\n",
    "    trace_7_4 = pm.sample(10000, chains=1) "
   ]
  },
  {
   "cell_type": "code",
   "execution_count": 11,
   "metadata": {},
   "outputs": [
    {
     "name": "stderr",
     "output_type": "stream",
     "text": [
      "Auto-assigning NUTS sampler...\n",
      "Initializing NUTS using jitter+adapt_diag...\n",
      "Sequential sampling (1 chains in 1 job)\n",
      "NUTS: [sigma, beta_mass, alpha]\n",
      "100%|███████████████████████████████████████████████████████████████████████████| 10500/10500 [01:07<00:00, 155.65it/s]\n",
      "There were 2387 divergences after tuning. Increase `target_accept` or reparameterize.\n",
      "The acceptance probability does not match the target. It is 0.5221367187710766, but should be close to 0.8. Try to increase the number of tuning steps.\n",
      "Only one chain was sampled, this makes it impossible to run some convergence checks\n"
     ]
    }
   ],
   "source": [
    "with pm.Model() as m_7_5:\n",
    "    alpha = pm.Normal('alpha', mu=0.5, sd=1) \n",
    "    beta_mass = pm.Normal('beta_mass', mu=0, sd=10, shape=5) \n",
    "    mu = pm.Deterministic('mu', alpha + beta_mass[0]*d.mass_std \n",
    "                          + beta_mass[1]*d.mass_std**2 + beta_mass[2]*d.mass_std**3\n",
    "                         + beta_mass[3]*d.mass_std**4 +beta_mass[4]*d.mass_std**5)\n",
    "    sigma = pm.Lognormal('sigma', mu=0, sd=1)\n",
    "    brain = pm.Normal('brain', mu=mu, sd=sigma, observed=d.brain_std)\n",
    "    trace_7_5 = pm.sample(10000, chains=1) "
   ]
  },
  {
   "cell_type": "code",
   "execution_count": 12,
   "metadata": {},
   "outputs": [
    {
     "name": "stderr",
     "output_type": "stream",
     "text": [
      "Auto-assigning NUTS sampler...\n",
      "Initializing NUTS using jitter+adapt_diag...\n",
      "Sequential sampling (1 chains in 1 job)\n",
      "NUTS: [beta_mass, alpha]\n",
      "100%|████████████████████████████████████████████████████████████████████████████| 10500/10500 [10:46<00:00, 11.80it/s]\n",
      "The chain reached the maximum tree depth. Increase max_treedepth, increase target_accept or reparameterize.\n",
      "Only one chain was sampled, this makes it impossible to run some convergence checks\n"
     ]
    }
   ],
   "source": [
    "# R code 7.8 - sigma = 0.001 (forced)\n",
    "with pm.Model() as m_7_6:\n",
    "    alpha = pm.Normal('alpha', mu=0.5, sd=1) \n",
    "    beta_mass = pm.Normal('beta_mass', mu=0, sd=10, shape=6) \n",
    "    mu = pm.Deterministic('mu', alpha + beta_mass[0]*d.mass_std \n",
    "                          + beta_mass[1]*d.mass_std**2 + beta_mass[2]*d.mass_std**3\n",
    "                         + beta_mass[3]*d.mass_std**4 +beta_mass[4]*d.mass_std**5\n",
    "                         + beta_mass[5]*d.mass_std**6)\n",
    "    sigma = 0.001\n",
    "    brain = pm.Normal('brain', mu=mu, sd=sigma, observed=d.brain_std)\n",
    "    trace_7_6 = pm.sample(10000, chains=1) "
   ]
  },
  {
   "cell_type": "code",
   "execution_count": 13,
   "metadata": {},
   "outputs": [
    {
     "data": {
      "text/plain": [
       "(10000,)"
      ]
     },
     "execution_count": 13,
     "metadata": {},
     "output_type": "execute_result"
    }
   ],
   "source": [
    "trace_7_1['mu'].shape  # >(10000, 7) one row for each posterior sample, one column for each\n",
    "# piece of data\n",
    "\n",
    "trace_7_1['mu'].mean(1).shape # > (10000,) this calculates the mean mu for each sample.\n",
    "\n",
    "trace_7_1['beta_mass'].shape # (10000, )\n",
    "trace_7_2['beta_mass'].shape # (10000, 2)\n",
    "trace_7_2['beta_mass'][0].shape # (2, )\n",
    "trace_7_2['beta_mass'][:,0].shape # (10000, )\n"
   ]
  },
  {
   "cell_type": "code",
   "execution_count": 14,
   "metadata": {},
   "outputs": [
    {
     "data": {
      "image/png": "[encoded data removed]",
      "text/plain": [
       "<Figure size 864x864 with 6 Axes>"
      ]
     },
     "metadata": {
      "needs_background": "light"
     },
     "output_type": "display_data"
    }
   ],
   "source": [
    "x=np.linspace(-1.2,1.6,10000)\n",
    "f = plt.figure(figsize=(12,12))\n",
    "\n",
    "ax1=f.add_subplot(321)\n",
    "ax1.plot(d.mass_std, d.brain_std, 'o')\n",
    "mu_pred = trace_7_1['alpha'] + trace_7_1['beta_mass'] * x[:,None]\n",
    "ax1.plot(x, mu_pred.mean(1), 'C0')\n",
    "mu_hpd = pm.hpd(mu_pred.T)\n",
    "ax1.fill_between(x, mu_hpd[:,0], mu_hpd[:,1], color='C2', alpha=0.25)\n",
    "\n",
    "ax2=f.add_subplot(322)\n",
    "ax2.plot(d.mass_std, d.brain_std, 'o')\n",
    "mu_pred = (trace_7_2['alpha'] + trace_7_2['beta_mass'][:,0]* x[:,None] \n",
    "           + trace_7_2['beta_mass'][:,1] * x[:,None]**2)\n",
    "ax2.plot(x, mu_pred.mean(1), 'C0')\n",
    "mu_hpd = pm.hpd(mu_pred.T)\n",
    "ax2.fill_between(x, mu_hpd[:,0], mu_hpd[:,1], color='C2', alpha=0.25)\n",
    "\n",
    "ax3=f.add_subplot(323)\n",
    "ax3.plot(d.mass_std, d.brain_std, 'o')\n",
    "mu_pred = (trace_7_3['alpha'] + trace_7_3['beta_mass'][:,0]* x[:,None] \n",
    "           + trace_7_3['beta_mass'][:,1] * x[:,None]**2 \n",
    "           + trace_7_3['beta_mass'][:,2] * x[:,None]**3)\n",
    "ax3.plot(x, mu_pred.mean(1), 'C0')\n",
    "mu_hpd = pm.hpd(mu_pred.T)\n",
    "ax3.fill_between(x, mu_hpd[:,0], mu_hpd[:,1], color='C2', alpha=0.25)\n",
    "\n",
    "ax4=f.add_subplot(324)\n",
    "ax4.plot(d.mass_std, d.brain_std, 'o')\n",
    "mu_pred = (trace_7_4['alpha'] + trace_7_4['beta_mass'][:,0]* x[:,None] \n",
    "           + trace_7_4['beta_mass'][:,1] * x[:,None]**2 \n",
    "           + trace_7_4['beta_mass'][:,2] * x[:,None]**3\n",
    "           + trace_7_4['beta_mass'][:,3] * x[:,None]**4)\n",
    "ax4.plot(x, mu_pred.mean(1), 'C0')\n",
    "mu_hpd = pm.hpd(mu_pred.T)\n",
    "ax4.fill_between(x, mu_hpd[:,0], mu_hpd[:,1], color='C2', alpha=0.25)\n",
    "\n",
    "ax5=f.add_subplot(325)\n",
    "ax5.plot(d.mass_std, d.brain_std, 'o')\n",
    "mu_pred = (trace_7_5['alpha'] + trace_7_5['beta_mass'][:,0]* x[:,None] \n",
    "           + trace_7_5['beta_mass'][:,1] * x[:,None]**2 \n",
    "           + trace_7_5['beta_mass'][:,2] * x[:,None]**3\n",
    "           + trace_7_5['beta_mass'][:,3] * x[:,None]**4\n",
    "           + trace_7_5['beta_mass'][:,4] * x[:,None]**5)\n",
    "ax5.plot(x, mu_pred.mean(1), 'C0')\n",
    "mu_hpd = pm.hpd(mu_pred.T)\n",
    "ax5.fill_between(x, mu_hpd[:,0], mu_hpd[:,1], color='C2', alpha=0.25)\n",
    "\n",
    "ax6=f.add_subplot(326)\n",
    "ax6.plot(d.mass_std, d.brain_std, 'o')\n",
    "mu_pred = (trace_7_6['alpha'] + trace_7_6['beta_mass'][:,0]* x[:,None] \n",
    "           + trace_7_6['beta_mass'][:,1] * x[:,None]**2 \n",
    "           + trace_7_6['beta_mass'][:,2] * x[:,None]**3\n",
    "           + trace_7_6['beta_mass'][:,3] * x[:,None]**4\n",
    "           + trace_7_6['beta_mass'][:,4] * x[:,None]**5\n",
    "           + trace_7_6['beta_mass'][:,5] * x[:,None]**6)\n",
    "ax6.plot(x, mu_pred.mean(1), 'C0')\n",
    "mu_hpd = pm.hpd(mu_pred.T)\n",
    "ax6.fill_between(x, mu_hpd[:,0], mu_hpd[:,1], color='C2', alpha=0.25);\n",
    "\n",
    "# Overfitting is bad. There's something wrong with the sixth graph, probably having to do\n",
    "# with the sigma value and how PyMC3 differs from R, but I'm not going to worry about it."
   ]
  },
  {
   "cell_type": "code",
   "execution_count": 15,
   "metadata": {},
   "outputs": [
    {
     "name": "stderr",
     "output_type": "stream",
     "text": [
      "Auto-assigning NUTS sampler...\n",
      "Initializing NUTS using jitter+adapt_diag...\n",
      "Sequential sampling (1 chains in 1 job)\n",
      "NUTS: [sigma, alpha]\n",
      "100%|██████████████████████████████████████████████████████████████████████████| 10500/10500 [00:05<00:00, 1956.22it/s]\n",
      "Only one chain was sampled, this makes it impossible to run some convergence checks\n"
     ]
    }
   ],
   "source": [
    "# R code 7.11\n",
    "with pm.Model() as m_7_7:\n",
    "    alpha = pm.Normal('alpha', mu=0.5, sd=1) \n",
    "    mu = pm.Deterministic('mu', alpha)\n",
    "    sigma = pm.Lognormal('sigma', mu=0, sd=1)\n",
    "    brain = pm.Normal('brain', mu=mu, sd=sigma, observed=d.brain_std)\n",
    "    trace_7_7 = pm.sample(10000, chains=1) "
   ]
  },
  {
   "cell_type": "code",
   "execution_count": 16,
   "metadata": {},
   "outputs": [
    {
     "data": {
      "image/png": "[encoded data removed]",
      "text/plain": [
       "<Figure size 432x288 with 1 Axes>"
      ]
     },
     "metadata": {
      "needs_background": "light"
     },
     "output_type": "display_data"
    }
   ],
   "source": [
    "# Figure 7.4\n",
    "x=np.linspace(-1.2,1.6,10000)\n",
    "\n",
    "plt.plot(d.mass_std, d.brain_std, 'o')\n",
    "mu_pred = trace_7_7['alpha'] + 0* x[:,None] # there has to be a better way to do this part.\n",
    "plt.plot(x, mu_pred.mean(1), 'C0')\n",
    "mu_hpd = pm.hpd(mu_pred.T, alpha=0.11)\n",
    "plt.fill_between(x, mu_hpd[:,0], mu_hpd[:,1], color='C2', alpha=0.25);"
   ]
  },
  {
   "cell_type": "code",
   "execution_count": 18,
   "metadata": {},
   "outputs": [
    {
     "name": "stderr",
     "output_type": "stream",
     "text": [
      "C:\\Users\\mikev\\Anaconda3\\envs\\stats\\lib\\site-packages\\pymc3\\stats.py:168: FutureWarning: arrays to stack must be passed as a \"sequence\" type such as list or tuple. Support for non-sequence iterables such as generators is deprecated as of NumPy 1.16 and will raise an error in the future.\n",
      "  return np.stack(logp)\n",
      "C:\\Users\\mikev\\Anaconda3\\envs\\stats\\lib\\site-packages\\pymc3\\stats.py:219: UserWarning: For one or more samples the posterior variance of the\n",
      "        log predictive densities exceeds 0.4. This could be indication of\n",
      "        WAIC starting to fail see http://arxiv.org/abs/1507.04544 for details\n",
      "        \n",
      "  \"\"\")\n"
     ]
    },
    {
     "data": {
      "text/plain": [
       "1.6256988820056804"
      ]
     },
     "execution_count": 18,
     "metadata": {},
     "output_type": "execute_result"
    }
   ],
   "source": [
    "# R code 7.14\n",
    "\n",
    "waic_7_1 = pm.waic(trace_7_1, m_7_1)\n",
    "waic_7_1.WAIC"
   ]
  },
  {
   "cell_type": "code",
   "execution_count": 2,
   "metadata": {},
   "outputs": [],
   "source": [
    "# R code 7.20\n",
    "# I think this part is going to be important to understand.\n",
    "d1 = pd.read_csv('Data/cars.csv', sep=',', header=0)"
   ]
  },
  {
   "cell_type": "code",
   "execution_count": 4,
   "metadata": {
    "scrolled": true
   },
   "outputs": [
    {
     "name": "stderr",
     "output_type": "stream",
     "text": [
      "Auto-assigning NUTS sampler...\n",
      "Initializing NUTS using jitter+adapt_diag...\n",
      "Sequential sampling (1 chains in 1 job)\n",
      "NUTS: [sigma, beta, alpha]\n",
      "100%|█████████████████████████████████████████████████████████████████████████████| 1500/1500 [00:01<00:00, 771.11it/s]\n",
      "The acceptance probability does not match the target. It is 0.8800798843894991, but should be close to 0.8. Try to increase the number of tuning steps.\n",
      "Only one chain was sampled, this makes it impossible to run some convergence checks\n"
     ]
    }
   ],
   "source": [
    "# Creating the model - standard stuff.\n",
    "with pm.Model() as m_7_8:\n",
    "    alpha = pm.Normal('alpha', mu=0, sd=100) \n",
    "    beta = pm.Normal('beta', mu=0, sd=10)\n",
    "    mu = pm.Deterministic('mu', alpha + beta*d1.speed)\n",
    "    sigma = pm.Lognormal('sigma', mu=0, sd=1)\n",
    "    distance = pm.Normal('distance', mu=mu, sd=sigma, observed=d1.dist)\n",
    "    trace_7_8 = pm.sample(1000, chains=1) "
   ]
  },
  {
   "cell_type": "code",
   "execution_count": 24,
   "metadata": {},
   "outputs": [
    {
     "data": {
      "image/png": "[encoded data removed]",
      "text/plain": [
       "<Figure size 432x288 with 1 Axes>"
      ]
     },
     "metadata": {
      "needs_background": "light"
     },
     "output_type": "display_data"
    }
   ],
   "source": [
    "# Let's visualize the data and prediction.\n",
    "\n",
    "mu_mean = trace_7_8['mu']\n",
    "mu_hpd = pm.hpd(mu_mean, alpha=0.03)\n",
    "x = np.linspace(4, 25, 1000)\n",
    "plt.plot(d1.speed, d1.dist, 'o')\n",
    "plt.plot(x, trace_7_8['alpha'].mean() + trace_7_8['beta'].mean()*x)\n",
    "\n",
    "idx = np.argsort(d1.speed)\n",
    "plt.fill_between(d1.speed, mu_hpd[:,0][idx], mu_hpd[:,1][idx], color='C2', alpha=0.25)\n",
    "\n",
    "plt.xlabel('Speed', fontsize=14)\n",
    "plt.ylabel('Distance', fontsize=14);\n"
   ]
  },
  {
   "cell_type": "code",
   "execution_count": 5,
   "metadata": {},
   "outputs": [],
   "source": [
    "# R code 7.21\n",
    "# https://github.com/aloctavodia/Statistical-Rethinking-with-Python-and-PyMC3/blob/master/Chp_06.ipynb\n",
    "n_samples = 1000\n",
    "n_observations = d1.shape[0]\n",
    "logp = np.zeros((n_observations, n_samples))\n",
    "\n",
    "# What we're going to do now is, for each sample from the posterior, work out the log \n",
    "# likelihood of each observation in the initial data set. That is, we're measuring how\n",
    "# consistent the initial data set is with the model. We know the answer is \"pretty\n",
    "# good,\" because that's why the model came up with the coefficients it did. But now \n",
    "# we're quantifying \"pretty good.\"\n",
    "\n",
    "for s in range(0,n_samples): # for each sample from the posterior we're checking\n",
    "    mu = trace_7_8['alpha'][s] + trace_7_8['beta'][s] * d1['speed'] # returns a 50x1 array, one column for each data point, of the predicted distance given the speed\n",
    "    p_ = stats.norm.logpdf(d1['dist'], loc=mu, scale=trace_7_8['sigma'][s]) # this is the way of getting the log value of the prediction. It must be a distribution, because everything in this world is a distribution.\n",
    "    logp[:,s] = p_ # we end up with each row being a data point, and each column being a sample"
   ]
  },
  {
   "cell_type": "code",
   "execution_count": 29,
   "metadata": {},
   "outputs": [],
   "source": [
    "# R code 7.22\n",
    "\n",
    "from scipy.special import logsumexp\n",
    "\n",
    "n_cases = d1.shape[0] # number of rows in d1, e.g. number of data points\n",
    "lppd = np.zeros((n_cases)) # I still don't understand why we have to fill this thing with zeros - maybe it's cleaner than just doing append\n",
    "for a in range(1, n_cases):\n",
    "    lppd[a,] = logsumexp(logp[a,]) - np.log(n_samples) # We have to do the averaging on the log scale. Not sure why - probably some computer science reason."
   ]
  },
  {
   "cell_type": "code",
   "execution_count": 38,
   "metadata": {},
   "outputs": [],
   "source": [
    "# R code 7.23\n",
    "# Now computing the penalty term.\n",
    "pWAIC = np.zeros((n_cases))\n",
    "for a in range(1, n_cases):\n",
    "    pWAIC[a] = np.var(logp[a]) # This just computes the variance of each row in logp."
   ]
  },
  {
   "cell_type": "code",
   "execution_count": 40,
   "metadata": {},
   "outputs": [
    {
     "data": {
      "text/plain": [
       "412.28444236306524"
      ]
     },
     "execution_count": 40,
     "metadata": {},
     "output_type": "execute_result"
    }
   ],
   "source": [
    "# R code 7.24\n",
    "# Computing WAIC:\n",
    "WAIC = -2*(lppd.sum() - pWAIC.sum())\n",
    "WAIC"
   ]
  },
  {
   "cell_type": "code",
   "execution_count": 43,
   "metadata": {},
   "outputs": [
    {
     "data": {
      "text/plain": [
       "15.763785032373228"
      ]
     },
     "execution_count": 43,
     "metadata": {},
     "output_type": "execute_result"
    }
   ],
   "source": [
    "# R code 7.25\n",
    "# There will be variance in the above result due to sampling from the posterior, but the variance is\n",
    "# smaller than the standard error of WAIC itself, as shown below:\n",
    "WAIC_vector = -2*(lppd - pWAIC)\n",
    "np.sqrt(n_cases*np.var(WAIC_vector))"
   ]
  },
  {
   "cell_type": "code",
   "execution_count": 48,
   "metadata": {},
   "outputs": [
    {
     "data": {
      "text/plain": [
       "419.7608691103378"
      ]
     },
     "execution_count": 48,
     "metadata": {},
     "output_type": "execute_result"
    }
   ],
   "source": [
    "# All of the above stuff was an exercise, as we can get everything we need from a PyMC3 method easily:\n",
    "cars_waic = pm.waic(trace_7_8, m_7_8)\n",
    "cars_waic.WAIC\n",
    "# The fact that this number differs from the one above isn't concerning. Absolute WAIC isn't important. \n",
    "# We only care about the WAIC scores for competing models."
   ]
  },
  {
   "cell_type": "code",
   "execution_count": 49,
   "metadata": {},
   "outputs": [
    {
     "name": "stderr",
     "output_type": "stream",
     "text": [
      "Auto-assigning NUTS sampler...\n",
      "Initializing NUTS using jitter+adapt_diag...\n",
      "Sequential sampling (1 chains in 1 job)\n",
      "NUTS: [sigma, proportion]\n",
      "100%|████████████████████████████████████████████████████████████████████████████| 2000/2000 [00:00<00:00, 2307.65it/s]\n",
      "Only one chain was sampled, this makes it impossible to run some convergence checks\n",
      "Auto-assigning NUTS sampler...\n",
      "Initializing NUTS using jitter+adapt_diag...\n",
      "Sequential sampling (1 chains in 1 job)\n",
      "NUTS: [sigma, beta_fungus, beta_treatment, alpha]\n",
      "100%|████████████████████████████████████████████████████████████████████████████| 2000/2000 [00:01<00:00, 1202.23it/s]\n",
      "Only one chain was sampled, this makes it impossible to run some convergence checks\n",
      "Auto-assigning NUTS sampler...\n",
      "Initializing NUTS using jitter+adapt_diag...\n",
      "Sequential sampling (1 chains in 1 job)\n",
      "NUTS: [sigma, beta_treatment, alpha]\n",
      "100%|████████████████████████████████████████████████████████████████████████████| 2000/2000 [00:01<00:00, 1565.43it/s]\n",
      "Only one chain was sampled, this makes it impossible to run some convergence checks\n"
     ]
    }
   ],
   "source": [
    "# Bringing lots of code from chapter 6 to help with the next bit\n",
    "\n",
    "#R code 6.14\n",
    "\n",
    "N = 100 # number of plants\n",
    "h_0 = stats.norm.rvs(loc=10, scale=2, size = N) #simulate initial heights\n",
    "treatment = np.repeat([0,1], [N/2]) #treat half the plants\n",
    "fungus = stats.binom.rvs(size = N, n=1, p=(0.5 -  treatment*0.4)) # fungus results\n",
    "h_1 = h_0 + stats.norm.rvs(size=N, loc=(5-3*fungus)) #final height\n",
    "d = pd.DataFrame({'h_0': h_0,\n",
    "                  'h_1': h_1,\n",
    "                  'treatment':treatment,\n",
    "                  'fungus': fungus})\n",
    "\n",
    "#this 'data' will inform our priors for the next model\n",
    "\n",
    "#R code 6.16\n",
    "with pm.Model() as m_6_6:\n",
    "    p = pm.Lognormal('proportion', mu=0, sd=0.25) \n",
    "    mu = pm.Deterministic('mu', p*d.h_0)\n",
    "    sigma = pm.Exponential('sigma', 1)\n",
    "    h_1 = pm.Normal('h_1', mu=mu, sd=sigma, observed=d.h_1)\n",
    "    trace_6_6 = pm.sample(1000, tune=1000, chains=1) \n",
    "    \n",
    "#R code 6.17\n",
    "with pm.Model() as m_6_7:\n",
    "    alpha = pm.Lognormal('alpha', mu=0, sd=0.25) #note alpha here is the old p\n",
    "    beta_treatment = pm.Normal('beta_treatment', mu=0, sd=0.5) \n",
    "    beta_fungus = pm.Normal('beta_fungus', mu=0, sd=0.5) \n",
    "    p = pm.Deterministic('proportion', alpha + beta_treatment * d.treatment + beta_fungus * d.fungus)\n",
    "    mu = pm.Deterministic('mu', p*d.h_0)\n",
    "    sigma = pm.Exponential('sigma', 1)\n",
    "    h_1 = pm.Normal('h_1', mu=mu, sd=sigma, observed=d.h_1)\n",
    "    trace_6_7 = pm.sample(1000, tune=1000, chains=1) \n",
    "\n",
    "with pm.Model() as m_6_8:\n",
    "    alpha = pm.Lognormal('alpha', mu=0, sd=0.25) #note alpha here is the old p\n",
    "    beta_treatment = pm.Normal('beta_treatment', mu=0, sd=0.5) \n",
    "    p = pm.Deterministic('proportion', alpha + beta_treatment * d.treatment)\n",
    "    mu = pm.Deterministic('mu', p*d.h_0)\n",
    "    sigma = pm.Exponential('sigma', 1)\n",
    "    h_1 = pm.Normal('h_1', mu=mu, sd=sigma, observed=d.h_1)\n",
    "    trace_6_8 = pm.sample(1000, tune=1000, chains=1) "
   ]
  },
  {
   "cell_type": "code",
   "execution_count": 51,
   "metadata": {},
   "outputs": [
    {
     "name": "stderr",
     "output_type": "stream",
     "text": [
      "C:\\Users\\mikev\\Anaconda3\\envs\\stats\\lib\\site-packages\\pymc3\\stats.py:168: FutureWarning: arrays to stack must be passed as a \"sequence\" type such as list or tuple. Support for non-sequence iterables such as generators is deprecated as of NumPy 1.16 and will raise an error in the future.\n",
      "  return np.stack(logp)\n",
      "C:\\Users\\mikev\\Anaconda3\\envs\\stats\\lib\\site-packages\\pymc3\\stats.py:168: FutureWarning: arrays to stack must be passed as a \"sequence\" type such as list or tuple. Support for non-sequence iterables such as generators is deprecated as of NumPy 1.16 and will raise an error in the future.\n",
      "  return np.stack(logp)\n",
      "C:\\Users\\mikev\\Anaconda3\\envs\\stats\\lib\\site-packages\\pymc3\\stats.py:168: FutureWarning: arrays to stack must be passed as a \"sequence\" type such as list or tuple. Support for non-sequence iterables such as generators is deprecated as of NumPy 1.16 and will raise an error in the future.\n",
      "  return np.stack(logp)\n"
     ]
    },
    {
     "data": {
      "text/html": [
       "<div>\n",
       "<style scoped>\n",
       "    .dataframe tbody tr th:only-of-type {\n",
       "        vertical-align: middle;\n",
       "    }\n",
       "\n",
       "    .dataframe tbody tr th {\n",
       "        vertical-align: top;\n",
       "    }\n",
       "\n",
       "    .dataframe thead th {\n",
       "        text-align: right;\n",
       "    }\n",
       "</style>\n",
       "<table border=\"1\" class=\"dataframe\">\n",
       "  <thead>\n",
       "    <tr style=\"text-align: right;\">\n",
       "      <th></th>\n",
       "      <th>WAIC</th>\n",
       "      <th>pWAIC</th>\n",
       "      <th>dWAIC</th>\n",
       "      <th>weight</th>\n",
       "      <th>SE</th>\n",
       "      <th>dSE</th>\n",
       "      <th>var_warn</th>\n",
       "    </tr>\n",
       "  </thead>\n",
       "  <tbody>\n",
       "    <tr>\n",
       "      <th>treatment and fungus</th>\n",
       "      <td>349.86</td>\n",
       "      <td>3.56</td>\n",
       "      <td>0</td>\n",
       "      <td>1</td>\n",
       "      <td>13.78</td>\n",
       "      <td>0</td>\n",
       "      <td>0</td>\n",
       "    </tr>\n",
       "    <tr>\n",
       "      <th>treatment only</th>\n",
       "      <td>401.06</td>\n",
       "      <td>2.49</td>\n",
       "      <td>51.2</td>\n",
       "      <td>0</td>\n",
       "      <td>12.26</td>\n",
       "      <td>11.91</td>\n",
       "      <td>0</td>\n",
       "    </tr>\n",
       "    <tr>\n",
       "      <th>only height dependency</th>\n",
       "      <td>408.72</td>\n",
       "      <td>1.91</td>\n",
       "      <td>58.86</td>\n",
       "      <td>0</td>\n",
       "      <td>12.55</td>\n",
       "      <td>12.93</td>\n",
       "      <td>0</td>\n",
       "    </tr>\n",
       "  </tbody>\n",
       "</table>\n",
       "</div>"
      ],
      "text/plain": [
       "                          WAIC pWAIC  dWAIC weight     SE    dSE var_warn\n",
       "treatment and fungus    349.86  3.56      0      1  13.78      0        0\n",
       "treatment only          401.06  2.49   51.2      0  12.26  11.91        0\n",
       "only height dependency  408.72  1.91  58.86      0  12.55  12.93        0"
      ]
     },
     "execution_count": 51,
     "metadata": {},
     "output_type": "execute_result"
    }
   ],
   "source": [
    "# R code 7.26 and 7.27\n",
    "\n",
    "m_6_6.name = 'only height dependency'\n",
    "m_6_7.name = 'treatment and fungus'\n",
    "m_6_8.name = 'treatment only'\n",
    "df_comp_WAIC = pm.compare({m_6_6: trace_6_6, m_6_7: trace_6_7, m_6_8: trace_6_8})\n",
    "df_comp_WAIC"
   ]
  },
  {
   "cell_type": "code",
   "execution_count": 52,
   "metadata": {},
   "outputs": [
    {
     "data": {
      "image/png": "[encoded data removed]",
      "text/plain": [
       "<Figure size 432x216 with 1 Axes>"
      ]
     },
     "metadata": {
      "needs_background": "light"
     },
     "output_type": "display_data"
    }
   ],
   "source": [
    "# R code 7.30\n",
    "\n",
    "pm.compareplot(df_comp_WAIC);"
   ]
  },
  {
   "cell_type": "code",
   "execution_count": 57,
   "metadata": {},
   "outputs": [
    {
     "data": {
      "text/html": [
       "<div>\n",
       "<style scoped>\n",
       "    .dataframe tbody tr th:only-of-type {\n",
       "        vertical-align: middle;\n",
       "    }\n",
       "\n",
       "    .dataframe tbody tr th {\n",
       "        vertical-align: top;\n",
       "    }\n",
       "\n",
       "    .dataframe thead th {\n",
       "        text-align: right;\n",
       "    }\n",
       "</style>\n",
       "<table border=\"1\" class=\"dataframe\">\n",
       "  <thead>\n",
       "    <tr style=\"text-align: right;\">\n",
       "      <th></th>\n",
       "      <th>name</th>\n",
       "      <th>genus</th>\n",
       "      <th>species</th>\n",
       "      <th>subspecies</th>\n",
       "      <th>spp_id</th>\n",
       "      <th>genus_id</th>\n",
       "      <th>social_learning</th>\n",
       "      <th>research_effort</th>\n",
       "      <th>brain</th>\n",
       "      <th>body</th>\n",
       "      <th>group_size</th>\n",
       "      <th>gestation</th>\n",
       "      <th>weaning</th>\n",
       "      <th>longevity</th>\n",
       "      <th>sex_maturity</th>\n",
       "      <th>maternal_investment</th>\n",
       "    </tr>\n",
       "  </thead>\n",
       "  <tbody>\n",
       "    <tr>\n",
       "      <th>0</th>\n",
       "      <td>Allenopithecus_nigroviridis</td>\n",
       "      <td>Allenopithecus</td>\n",
       "      <td>nigroviridis</td>\n",
       "      <td>NaN</td>\n",
       "      <td>1</td>\n",
       "      <td>1</td>\n",
       "      <td>0.0</td>\n",
       "      <td>6.0</td>\n",
       "      <td>58.02</td>\n",
       "      <td>4655.00</td>\n",
       "      <td>40.0</td>\n",
       "      <td>NaN</td>\n",
       "      <td>106.15</td>\n",
       "      <td>276.0</td>\n",
       "      <td>NaN</td>\n",
       "      <td>NaN</td>\n",
       "    </tr>\n",
       "    <tr>\n",
       "      <th>1</th>\n",
       "      <td>Allocebus_trichotis</td>\n",
       "      <td>Allocebus</td>\n",
       "      <td>trichotis</td>\n",
       "      <td>NaN</td>\n",
       "      <td>2</td>\n",
       "      <td>2</td>\n",
       "      <td>0.0</td>\n",
       "      <td>6.0</td>\n",
       "      <td>NaN</td>\n",
       "      <td>78.09</td>\n",
       "      <td>1.0</td>\n",
       "      <td>NaN</td>\n",
       "      <td>NaN</td>\n",
       "      <td>NaN</td>\n",
       "      <td>NaN</td>\n",
       "      <td>NaN</td>\n",
       "    </tr>\n",
       "    <tr>\n",
       "      <th>2</th>\n",
       "      <td>Alouatta_belzebul</td>\n",
       "      <td>Alouatta</td>\n",
       "      <td>belzebul</td>\n",
       "      <td>NaN</td>\n",
       "      <td>3</td>\n",
       "      <td>3</td>\n",
       "      <td>0.0</td>\n",
       "      <td>15.0</td>\n",
       "      <td>52.84</td>\n",
       "      <td>6395.00</td>\n",
       "      <td>7.4</td>\n",
       "      <td>NaN</td>\n",
       "      <td>NaN</td>\n",
       "      <td>NaN</td>\n",
       "      <td>NaN</td>\n",
       "      <td>NaN</td>\n",
       "    </tr>\n",
       "    <tr>\n",
       "      <th>3</th>\n",
       "      <td>Alouatta_caraya</td>\n",
       "      <td>Alouatta</td>\n",
       "      <td>caraya</td>\n",
       "      <td>NaN</td>\n",
       "      <td>4</td>\n",
       "      <td>3</td>\n",
       "      <td>0.0</td>\n",
       "      <td>45.0</td>\n",
       "      <td>52.63</td>\n",
       "      <td>5383.00</td>\n",
       "      <td>8.9</td>\n",
       "      <td>185.92</td>\n",
       "      <td>323.16</td>\n",
       "      <td>243.6</td>\n",
       "      <td>1276.72</td>\n",
       "      <td>509.08</td>\n",
       "    </tr>\n",
       "    <tr>\n",
       "      <th>4</th>\n",
       "      <td>Alouatta_guariba</td>\n",
       "      <td>Alouatta</td>\n",
       "      <td>guariba</td>\n",
       "      <td>NaN</td>\n",
       "      <td>5</td>\n",
       "      <td>3</td>\n",
       "      <td>0.0</td>\n",
       "      <td>37.0</td>\n",
       "      <td>51.70</td>\n",
       "      <td>5175.00</td>\n",
       "      <td>7.4</td>\n",
       "      <td>NaN</td>\n",
       "      <td>NaN</td>\n",
       "      <td>NaN</td>\n",
       "      <td>NaN</td>\n",
       "      <td>NaN</td>\n",
       "    </tr>\n",
       "  </tbody>\n",
       "</table>\n",
       "</div>"
      ],
      "text/plain": [
       "                          name           genus       species subspecies  \\\n",
       "0  Allenopithecus_nigroviridis  Allenopithecus  nigroviridis        NaN   \n",
       "1          Allocebus_trichotis       Allocebus     trichotis        NaN   \n",
       "2            Alouatta_belzebul        Alouatta      belzebul        NaN   \n",
       "3              Alouatta_caraya        Alouatta        caraya        NaN   \n",
       "4             Alouatta_guariba        Alouatta       guariba        NaN   \n",
       "\n",
       "   spp_id  genus_id  social_learning  research_effort  brain     body  \\\n",
       "0       1         1              0.0              6.0  58.02  4655.00   \n",
       "1       2         2              0.0              6.0    NaN    78.09   \n",
       "2       3         3              0.0             15.0  52.84  6395.00   \n",
       "3       4         3              0.0             45.0  52.63  5383.00   \n",
       "4       5         3              0.0             37.0  51.70  5175.00   \n",
       "\n",
       "   group_size  gestation  weaning  longevity  sex_maturity  \\\n",
       "0        40.0        NaN   106.15      276.0           NaN   \n",
       "1         1.0        NaN      NaN        NaN           NaN   \n",
       "2         7.4        NaN      NaN        NaN           NaN   \n",
       "3         8.9     185.92   323.16      243.6       1276.72   \n",
       "4         7.4        NaN      NaN        NaN           NaN   \n",
       "\n",
       "   maternal_investment  \n",
       "0                  NaN  \n",
       "1                  NaN  \n",
       "2                  NaN  \n",
       "3               509.08  \n",
       "4                  NaN  "
      ]
     },
     "execution_count": 57,
     "metadata": {},
     "output_type": "execute_result"
    }
   ],
   "source": [
    "# R code 7.33\n",
    "\n",
    "d2 = pd.read_csv('Data/primates301.csv', sep=';', header=0)\n",
    "d2.head()"
   ]
  }
 ],
 "metadata": {
  "kernelspec": {
   "display_name": "Python 3",
   "language": "python",
   "name": "python3"
  },
  "language_info": {
   "codemirror_mode": {
    "name": "ipython",
    "version": 3
   },
   "file_extension": ".py",
   "mimetype": "text/x-python",
   "name": "python",
   "nbconvert_exporter": "python",
   "pygments_lexer": "ipython3",
   "version": "3.7.3"
  }
 },
 "nbformat": 4,
 "nbformat_minor": 2
}
