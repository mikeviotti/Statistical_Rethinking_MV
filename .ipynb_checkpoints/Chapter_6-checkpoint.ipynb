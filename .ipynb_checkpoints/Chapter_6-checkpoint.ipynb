{
 "cells": [
  {
   "cell_type": "code",
   "execution_count": 1,
   "metadata": {},
   "outputs": [],
   "source": [
    "%matplotlib inline\n",
    "import pymc3 as pm\n",
    "import numpy as np\n",
    "import pandas as pd\n",
    "import scipy.stats as stats\n",
    "from scipy.interpolate import griddata\n",
    "import matplotlib.pyplot as plt\n",
    "import seaborn as sns\n",
    "import networkx as nx\n",
    "import causalgraphicalmodels as cgm\n",
    "import graphviz as gv\n",
    "import os\n",
    "from theano import *\n",
    "import theano.tensor as T\n",
    "#os.environ[\"PATH\"] += os.pathsep + 'C:/Users/mikev/Anaconda3/envs/stats/Library/bin/graphviz'\n",
    "os.environ[\"PATH\"] += os.pathsep + 'C:/Users/mviotti/AppData/Local/Continuum/anaconda3/envs/stats/Library/bin/graphviz'"
   ]
  },
  {
   "cell_type": "code",
   "execution_count": 2,
   "metadata": {},
   "outputs": [],
   "source": [
    "# I'm going to skip everything about leg length. I get the point - it's just not worth\n",
    "# writing the code, I don't think."
   ]
  },
  {
   "cell_type": "code",
   "execution_count": 3,
   "metadata": {},
   "outputs": [],
   "source": [
    "#R code 6.8\n",
    "d = pd.read_csv('Data/milk.csv', sep=';', header=0)\n",
    "d['k_s'] = (d['kcal.per.g'] - d['kcal.per.g'].mean())/d['kcal.per.g'].std()\n",
    "d['n_s'] = (d['neocortex.perc'] - d['neocortex.perc'].mean())/d['neocortex.perc'].std()\n",
    "d['m_s'] = (np.log(d.mass) - np.log(d.mass).mean())/np.log(d.mass).std()\n",
    "d['f_s'] = (d['perc.fat'] - d['perc.fat'].mean())/d['perc.fat'].std()\n",
    "d['l_s'] = (d['perc.lactose'] - d['perc.lactose'].mean())/d['perc.lactose'].std()"
   ]
  },
  {
   "cell_type": "code",
   "execution_count": 4,
   "metadata": {},
   "outputs": [
    {
     "name": "stderr",
     "output_type": "stream",
     "text": [
      "Auto-assigning NUTS sampler...\n",
      "Initializing NUTS using jitter+adapt_diag...\n",
      "Sequential sampling (1 chains in 1 job)\n",
      "NUTS: [sigma, beta_fat, alpha]\n",
      "100%|████████████████████████████████████████████████████████████████████████████| 2000/2000 [00:01<00:00, 1137.52it/s]\n",
      "Only one chain was sampled, this makes it impossible to run some convergence checks\n"
     ]
    }
   ],
   "source": [
    "#R code 6.9\n",
    "with pm.Model() as m_6_3: #using 6_3 to align with text\n",
    "    alpha = pm.Normal('alpha', mu=0, sd=0.2) \n",
    "    beta_fat = pm.Normal('beta_fat', mu=0, sd=0.5) \n",
    "    mu = pm.Deterministic('mu', alpha + beta_fat*d.f_s)\n",
    "    sigma = pm.Exponential('sigma', 1)\n",
    "    K = pm.Normal('kcalpg', mu=mu, sd=sigma, observed=d.k_s)\n",
    "    trace_6_3 = pm.sample(1000, tune=1000, chains=1) "
   ]
  },
  {
   "cell_type": "code",
   "execution_count": 5,
   "metadata": {},
   "outputs": [
    {
     "name": "stderr",
     "output_type": "stream",
     "text": [
      "Auto-assigning NUTS sampler...\n",
      "Initializing NUTS using jitter+adapt_diag...\n",
      "Sequential sampling (1 chains in 1 job)\n",
      "NUTS: [sigma, beta_lactose, alpha]\n",
      "100%|████████████████████████████████████████████████████████████████████████████| 2000/2000 [00:01<00:00, 1536.83it/s]\n",
      "Only one chain was sampled, this makes it impossible to run some convergence checks\n"
     ]
    }
   ],
   "source": [
    "#R code 6.9 continued\n",
    "with pm.Model() as m_6_4:\n",
    "    alpha = pm.Normal('alpha', mu=0, sd=0.2) \n",
    "    beta_lactose = pm.Normal('beta_lactose', mu=0, sd=0.5) \n",
    "    mu = pm.Deterministic('mu', alpha + beta_lactose*d.l_s)\n",
    "    sigma = pm.Exponential('sigma', 1)\n",
    "    K = pm.Normal('kcalpg', mu=mu, sd=sigma, observed=d.k_s)\n",
    "    trace_6_4 = pm.sample(1000, tune=1000, chains=1) "
   ]
  },
  {
   "cell_type": "code",
   "execution_count": 6,
   "metadata": {},
   "outputs": [
    {
     "data": {
      "text/html": [
       "<div>\n",
       "<style scoped>\n",
       "    .dataframe tbody tr th:only-of-type {\n",
       "        vertical-align: middle;\n",
       "    }\n",
       "\n",
       "    .dataframe tbody tr th {\n",
       "        vertical-align: top;\n",
       "    }\n",
       "\n",
       "    .dataframe thead th {\n",
       "        text-align: right;\n",
       "    }\n",
       "</style>\n",
       "<table border=\"1\" class=\"dataframe\">\n",
       "  <thead>\n",
       "    <tr style=\"text-align: right;\">\n",
       "      <th></th>\n",
       "      <th>mean</th>\n",
       "      <th>sd</th>\n",
       "      <th>mc_error</th>\n",
       "      <th>hpd_5.5</th>\n",
       "      <th>hpd_94.5</th>\n",
       "    </tr>\n",
       "  </thead>\n",
       "  <tbody>\n",
       "    <tr>\n",
       "      <th>alpha</th>\n",
       "      <td>-0.00</td>\n",
       "      <td>0.08</td>\n",
       "      <td>0.0</td>\n",
       "      <td>-0.13</td>\n",
       "      <td>0.13</td>\n",
       "    </tr>\n",
       "    <tr>\n",
       "      <th>beta_fat</th>\n",
       "      <td>0.86</td>\n",
       "      <td>0.10</td>\n",
       "      <td>0.0</td>\n",
       "      <td>0.70</td>\n",
       "      <td>1.01</td>\n",
       "    </tr>\n",
       "    <tr>\n",
       "      <th>sigma</th>\n",
       "      <td>0.49</td>\n",
       "      <td>0.07</td>\n",
       "      <td>0.0</td>\n",
       "      <td>0.37</td>\n",
       "      <td>0.60</td>\n",
       "    </tr>\n",
       "  </tbody>\n",
       "</table>\n",
       "</div>"
      ],
      "text/plain": [
       "          mean    sd  mc_error  hpd_5.5  hpd_94.5\n",
       "alpha    -0.00  0.08       0.0    -0.13      0.13\n",
       "beta_fat  0.86  0.10       0.0     0.70      1.01\n",
       "sigma     0.49  0.07       0.0     0.37      0.60"
      ]
     },
     "execution_count": 6,
     "metadata": {},
     "output_type": "execute_result"
    }
   ],
   "source": [
    "varnames = ['alpha', 'beta_fat','sigma']\n",
    "pm.summary(trace_6_3, var_names = varnames, alpha = 0.11).round(2)"
   ]
  },
  {
   "cell_type": "code",
   "execution_count": 7,
   "metadata": {},
   "outputs": [
    {
     "data": {
      "text/html": [
       "<div>\n",
       "<style scoped>\n",
       "    .dataframe tbody tr th:only-of-type {\n",
       "        vertical-align: middle;\n",
       "    }\n",
       "\n",
       "    .dataframe tbody tr th {\n",
       "        vertical-align: top;\n",
       "    }\n",
       "\n",
       "    .dataframe thead th {\n",
       "        text-align: right;\n",
       "    }\n",
       "</style>\n",
       "<table border=\"1\" class=\"dataframe\">\n",
       "  <thead>\n",
       "    <tr style=\"text-align: right;\">\n",
       "      <th></th>\n",
       "      <th>mean</th>\n",
       "      <th>sd</th>\n",
       "      <th>mc_error</th>\n",
       "      <th>hpd_5.5</th>\n",
       "      <th>hpd_94.5</th>\n",
       "    </tr>\n",
       "  </thead>\n",
       "  <tbody>\n",
       "    <tr>\n",
       "      <th>alpha</th>\n",
       "      <td>0.01</td>\n",
       "      <td>0.07</td>\n",
       "      <td>0.0</td>\n",
       "      <td>-0.11</td>\n",
       "      <td>0.13</td>\n",
       "    </tr>\n",
       "    <tr>\n",
       "      <th>beta_lactose</th>\n",
       "      <td>-0.90</td>\n",
       "      <td>0.07</td>\n",
       "      <td>0.0</td>\n",
       "      <td>-1.02</td>\n",
       "      <td>-0.79</td>\n",
       "    </tr>\n",
       "    <tr>\n",
       "      <th>sigma</th>\n",
       "      <td>0.41</td>\n",
       "      <td>0.06</td>\n",
       "      <td>0.0</td>\n",
       "      <td>0.32</td>\n",
       "      <td>0.49</td>\n",
       "    </tr>\n",
       "  </tbody>\n",
       "</table>\n",
       "</div>"
      ],
      "text/plain": [
       "              mean    sd  mc_error  hpd_5.5  hpd_94.5\n",
       "alpha         0.01  0.07       0.0    -0.11      0.13\n",
       "beta_lactose -0.90  0.07       0.0    -1.02     -0.79\n",
       "sigma         0.41  0.06       0.0     0.32      0.49"
      ]
     },
     "execution_count": 7,
     "metadata": {},
     "output_type": "execute_result"
    }
   ],
   "source": [
    "varnames = ['alpha', 'beta_lactose','sigma']\n",
    "pm.summary(trace_6_4, var_names = varnames, alpha = 0.11).round(2)"
   ]
  },
  {
   "cell_type": "code",
   "execution_count": 8,
   "metadata": {},
   "outputs": [
    {
     "name": "stderr",
     "output_type": "stream",
     "text": [
      "Auto-assigning NUTS sampler...\n",
      "Initializing NUTS using jitter+adapt_diag...\n",
      "Sequential sampling (1 chains in 1 job)\n",
      "NUTS: [sigma, beta_fat, beta_lactose, alpha]\n",
      "100%|█████████████████████████████████████████████████████████████████████████████| 2000/2000 [00:03<00:00, 626.29it/s]\n",
      "Only one chain was sampled, this makes it impossible to run some convergence checks\n"
     ]
    },
    {
     "data": {
      "text/html": [
       "<div>\n",
       "<style scoped>\n",
       "    .dataframe tbody tr th:only-of-type {\n",
       "        vertical-align: middle;\n",
       "    }\n",
       "\n",
       "    .dataframe tbody tr th {\n",
       "        vertical-align: top;\n",
       "    }\n",
       "\n",
       "    .dataframe thead th {\n",
       "        text-align: right;\n",
       "    }\n",
       "</style>\n",
       "<table border=\"1\" class=\"dataframe\">\n",
       "  <thead>\n",
       "    <tr style=\"text-align: right;\">\n",
       "      <th></th>\n",
       "      <th>mean</th>\n",
       "      <th>sd</th>\n",
       "      <th>mc_error</th>\n",
       "      <th>hpd_5.5</th>\n",
       "      <th>hpd_94.5</th>\n",
       "    </tr>\n",
       "  </thead>\n",
       "  <tbody>\n",
       "    <tr>\n",
       "      <th>alpha</th>\n",
       "      <td>-0.00</td>\n",
       "      <td>0.07</td>\n",
       "      <td>0.00</td>\n",
       "      <td>-0.12</td>\n",
       "      <td>0.10</td>\n",
       "    </tr>\n",
       "    <tr>\n",
       "      <th>beta_lactose</th>\n",
       "      <td>-0.67</td>\n",
       "      <td>0.21</td>\n",
       "      <td>0.01</td>\n",
       "      <td>-1.00</td>\n",
       "      <td>-0.33</td>\n",
       "    </tr>\n",
       "    <tr>\n",
       "      <th>beta_fat</th>\n",
       "      <td>0.25</td>\n",
       "      <td>0.21</td>\n",
       "      <td>0.01</td>\n",
       "      <td>-0.07</td>\n",
       "      <td>0.60</td>\n",
       "    </tr>\n",
       "    <tr>\n",
       "      <th>sigma</th>\n",
       "      <td>0.42</td>\n",
       "      <td>0.06</td>\n",
       "      <td>0.00</td>\n",
       "      <td>0.32</td>\n",
       "      <td>0.50</td>\n",
       "    </tr>\n",
       "  </tbody>\n",
       "</table>\n",
       "</div>"
      ],
      "text/plain": [
       "              mean    sd  mc_error  hpd_5.5  hpd_94.5\n",
       "alpha        -0.00  0.07      0.00    -0.12      0.10\n",
       "beta_lactose -0.67  0.21      0.01    -1.00     -0.33\n",
       "beta_fat      0.25  0.21      0.01    -0.07      0.60\n",
       "sigma         0.42  0.06      0.00     0.32      0.50"
      ]
     },
     "execution_count": 8,
     "metadata": {},
     "output_type": "execute_result"
    }
   ],
   "source": [
    "#R code 6.10\n",
    "with pm.Model() as m_6_5:\n",
    "    alpha = pm.Normal('alpha', mu=0, sd=0.2) \n",
    "    beta_lactose = pm.Normal('beta_lactose', mu=0, sd=0.5) \n",
    "    beta_fat = pm.Normal('beta_fat', mu=0, sd=0.5) \n",
    "    mu = pm.Deterministic('mu', alpha + beta_lactose*d.l_s + beta_fat*d.f_s)\n",
    "    sigma = pm.Exponential('sigma', 1)\n",
    "    K = pm.Normal('kcalpg', mu=mu, sd=sigma, observed=d.k_s)\n",
    "    trace_6_4 = pm.sample(1000, tune=1000, chains=1) \n",
    "\n",
    "varnames = ['alpha', 'beta_lactose', 'beta_fat', 'sigma']\n",
    "pm.summary(trace_6_4, var_names = varnames, alpha = 0.11).round(2)\n",
    "# Punch line: now each predictor is less valuable than it was in its bivariate model. The cause: the two \n",
    "# predictors are very highly correlated. Once you know one, there is very little value in knowing the other."
   ]
  },
  {
   "cell_type": "code",
   "execution_count": 9,
   "metadata": {},
   "outputs": [
    {
     "data": {
      "image/png": "[encoded data removed]",
      "text/plain": [
       "<Figure size 540x540 with 12 Axes>"
      ]
     },
     "metadata": {
      "needs_background": "light"
     },
     "output_type": "display_data"
    }
   ],
   "source": [
    "#R code 6.11\n",
    "df = d[['kcal.per.g','perc.fat','perc.lactose']]\n",
    "sns.pairplot(df);"
   ]
  },
  {
   "cell_type": "code",
   "execution_count": 10,
   "metadata": {},
   "outputs": [
    {
     "data": {
      "text/plain": [
       "-0.9416373456839282"
      ]
     },
     "execution_count": 10,
     "metadata": {},
     "output_type": "execute_result"
    }
   ],
   "source": [
    "#R code 6.12\n",
    "d.corr()['perc.fat']['perc.lactose']\n",
    "# very strongly correlated"
   ]
  },
  {
   "cell_type": "code",
   "execution_count": 11,
   "metadata": {},
   "outputs": [],
   "source": [
    "#R code 6.14\n",
    "\n",
    "N = 100 # number of plants\n",
    "h_0 = stats.norm.rvs(loc=10, scale=2, size = N) #simulate initial heights\n",
    "treatment = np.repeat([0,1], [N/2]) #treat half the plants\n",
    "fungus = stats.binom.rvs(size = N, n=1, p=(0.5 -  treatment*0.4)) # fungus results\n",
    "h_1 = h_0 + stats.norm.rvs(size=N, loc=(5-3*fungus)) #final height\n",
    "d = pd.DataFrame({'h_0': h_0,\n",
    "                  'h_1': h_1,\n",
    "                  'treatment':treatment,\n",
    "                  'fungus': fungus})\n",
    "\n",
    "#this 'data' will inform our priors for the next model"
   ]
  },
  {
   "cell_type": "code",
   "execution_count": 12,
   "metadata": {},
   "outputs": [
    {
     "name": "stderr",
     "output_type": "stream",
     "text": [
      "Auto-assigning NUTS sampler...\n",
      "Initializing NUTS using jitter+adapt_diag...\n",
      "Sequential sampling (1 chains in 1 job)\n",
      "NUTS: [sigma, proportion]\n",
      "100%|████████████████████████████████████████████████████████████████████████████| 2000/2000 [00:01<00:00, 1849.93it/s]\n",
      "Only one chain was sampled, this makes it impossible to run some convergence checks\n"
     ]
    }
   ],
   "source": [
    "#R code 6.16\n",
    "with pm.Model() as m_6_6:\n",
    "    p = pm.Lognormal('proportion', mu=0, sd=0.25) \n",
    "    mu = pm.Deterministic('mu', p*d.h_0)\n",
    "    sigma = pm.Exponential('sigma', 1)\n",
    "    h_1 = pm.Normal('h_1', mu=mu, sd=sigma, observed=d.h_1)\n",
    "    trace_6_6 = pm.sample(1000, tune=1000, chains=1) "
   ]
  },
  {
   "cell_type": "code",
   "execution_count": 13,
   "metadata": {},
   "outputs": [
    {
     "data": {
      "text/html": [
       "<div>\n",
       "<style scoped>\n",
       "    .dataframe tbody tr th:only-of-type {\n",
       "        vertical-align: middle;\n",
       "    }\n",
       "\n",
       "    .dataframe tbody tr th {\n",
       "        vertical-align: top;\n",
       "    }\n",
       "\n",
       "    .dataframe thead th {\n",
       "        text-align: right;\n",
       "    }\n",
       "</style>\n",
       "<table border=\"1\" class=\"dataframe\">\n",
       "  <thead>\n",
       "    <tr style=\"text-align: right;\">\n",
       "      <th></th>\n",
       "      <th>mean</th>\n",
       "      <th>sd</th>\n",
       "      <th>mc_error</th>\n",
       "      <th>hpd_5.5</th>\n",
       "      <th>hpd_94.5</th>\n",
       "    </tr>\n",
       "  </thead>\n",
       "  <tbody>\n",
       "    <tr>\n",
       "      <th>proportion</th>\n",
       "      <td>1.39</td>\n",
       "      <td>0.02</td>\n",
       "      <td>0.0</td>\n",
       "      <td>1.36</td>\n",
       "      <td>1.42</td>\n",
       "    </tr>\n",
       "    <tr>\n",
       "      <th>sigma</th>\n",
       "      <td>1.94</td>\n",
       "      <td>0.14</td>\n",
       "      <td>0.0</td>\n",
       "      <td>1.71</td>\n",
       "      <td>2.14</td>\n",
       "    </tr>\n",
       "  </tbody>\n",
       "</table>\n",
       "</div>"
      ],
      "text/plain": [
       "            mean    sd  mc_error  hpd_5.5  hpd_94.5\n",
       "proportion  1.39  0.02       0.0     1.36      1.42\n",
       "sigma       1.94  0.14       0.0     1.71      2.14"
      ]
     },
     "execution_count": 13,
     "metadata": {},
     "output_type": "execute_result"
    }
   ],
   "source": [
    "varnames = ['proportion','sigma']\n",
    "pm.summary(trace_6_6, var_names = varnames, alpha = 0.11).round(2)"
   ]
  },
  {
   "cell_type": "code",
   "execution_count": 14,
   "metadata": {},
   "outputs": [
    {
     "name": "stderr",
     "output_type": "stream",
     "text": [
      "Auto-assigning NUTS sampler...\n",
      "Initializing NUTS using jitter+adapt_diag...\n",
      "Sequential sampling (1 chains in 1 job)\n",
      "NUTS: [sigma, beta_fungus, beta_treatment, alpha]\n",
      "100%|█████████████████████████████████████████████████████████████████████████████| 2000/2000 [00:02<00:00, 866.92it/s]\n",
      "Only one chain was sampled, this makes it impossible to run some convergence checks\n"
     ]
    }
   ],
   "source": [
    "#R code 6.17\n",
    "with pm.Model() as m_6_7:\n",
    "    alpha = pm.Lognormal('alpha', mu=0, sd=0.25) #note alpha here is the old p\n",
    "    beta_treatment = pm.Normal('beta_treatment', mu=0, sd=0.5) \n",
    "    beta_fungus = pm.Normal('beta_fungus', mu=0, sd=0.5) \n",
    "    p = pm.Deterministic('proportion', alpha + beta_treatment * d.treatment + beta_fungus * d.fungus)\n",
    "    mu = pm.Deterministic('mu', p*d.h_0)\n",
    "    sigma = pm.Exponential('sigma', 1)\n",
    "    h_1 = pm.Normal('h_1', mu=mu, sd=sigma, observed=d.h_1)\n",
    "    trace_6_7 = pm.sample(1000, tune=1000, chains=1) \n"
   ]
  },
  {
   "cell_type": "code",
   "execution_count": 15,
   "metadata": {},
   "outputs": [
    {
     "data": {
      "text/html": [
       "<div>\n",
       "<style scoped>\n",
       "    .dataframe tbody tr th:only-of-type {\n",
       "        vertical-align: middle;\n",
       "    }\n",
       "\n",
       "    .dataframe tbody tr th {\n",
       "        vertical-align: top;\n",
       "    }\n",
       "\n",
       "    .dataframe thead th {\n",
       "        text-align: right;\n",
       "    }\n",
       "</style>\n",
       "<table border=\"1\" class=\"dataframe\">\n",
       "  <thead>\n",
       "    <tr style=\"text-align: right;\">\n",
       "      <th></th>\n",
       "      <th>mean</th>\n",
       "      <th>sd</th>\n",
       "      <th>mc_error</th>\n",
       "      <th>hpd_5.5</th>\n",
       "      <th>hpd_94.5</th>\n",
       "    </tr>\n",
       "  </thead>\n",
       "  <tbody>\n",
       "    <tr>\n",
       "      <th>alpha</th>\n",
       "      <td>1.48</td>\n",
       "      <td>0.02</td>\n",
       "      <td>0.0</td>\n",
       "      <td>1.44</td>\n",
       "      <td>1.51</td>\n",
       "    </tr>\n",
       "    <tr>\n",
       "      <th>beta_treatment</th>\n",
       "      <td>0.03</td>\n",
       "      <td>0.03</td>\n",
       "      <td>0.0</td>\n",
       "      <td>-0.01</td>\n",
       "      <td>0.08</td>\n",
       "    </tr>\n",
       "    <tr>\n",
       "      <th>beta_fungus</th>\n",
       "      <td>-0.31</td>\n",
       "      <td>0.03</td>\n",
       "      <td>0.0</td>\n",
       "      <td>-0.35</td>\n",
       "      <td>-0.26</td>\n",
       "    </tr>\n",
       "    <tr>\n",
       "      <th>sigma</th>\n",
       "      <td>1.19</td>\n",
       "      <td>0.08</td>\n",
       "      <td>0.0</td>\n",
       "      <td>1.05</td>\n",
       "      <td>1.31</td>\n",
       "    </tr>\n",
       "  </tbody>\n",
       "</table>\n",
       "</div>"
      ],
      "text/plain": [
       "                mean    sd  mc_error  hpd_5.5  hpd_94.5\n",
       "alpha           1.48  0.02       0.0     1.44      1.51\n",
       "beta_treatment  0.03  0.03       0.0    -0.01      0.08\n",
       "beta_fungus    -0.31  0.03       0.0    -0.35     -0.26\n",
       "sigma           1.19  0.08       0.0     1.05      1.31"
      ]
     },
     "execution_count": 15,
     "metadata": {},
     "output_type": "execute_result"
    }
   ],
   "source": [
    "varnames = ['alpha','beta_treatment','beta_fungus','sigma']\n",
    "pm.summary(trace_6_7, var_names = varnames, alpha = 0.11).round(2)\n",
    "# note alpha here is the old p\n",
    "# The surprise here is that the treatment seems to not matter, even though we built the data in such a way that \n",
    "# it should. The reason is that the treatment effect is wrapped into fungus. Fungus is a post-treatment variable."
   ]
  },
  {
   "cell_type": "code",
   "execution_count": 16,
   "metadata": {},
   "outputs": [
    {
     "name": "stderr",
     "output_type": "stream",
     "text": [
      "Auto-assigning NUTS sampler...\n",
      "Initializing NUTS using jitter+adapt_diag...\n",
      "Sequential sampling (1 chains in 1 job)\n",
      "NUTS: [sigma, beta_treatment, alpha]\n",
      "100%|████████████████████████████████████████████████████████████████████████████| 2000/2000 [00:01<00:00, 1005.89it/s]\n",
      "Only one chain was sampled, this makes it impossible to run some convergence checks\n"
     ]
    },
    {
     "data": {
      "text/html": [
       "<div>\n",
       "<style scoped>\n",
       "    .dataframe tbody tr th:only-of-type {\n",
       "        vertical-align: middle;\n",
       "    }\n",
       "\n",
       "    .dataframe tbody tr th {\n",
       "        vertical-align: top;\n",
       "    }\n",
       "\n",
       "    .dataframe thead th {\n",
       "        text-align: right;\n",
       "    }\n",
       "</style>\n",
       "<table border=\"1\" class=\"dataframe\">\n",
       "  <thead>\n",
       "    <tr style=\"text-align: right;\">\n",
       "      <th></th>\n",
       "      <th>mean</th>\n",
       "      <th>sd</th>\n",
       "      <th>mc_error</th>\n",
       "      <th>hpd_5.5</th>\n",
       "      <th>hpd_94.5</th>\n",
       "    </tr>\n",
       "  </thead>\n",
       "  <tbody>\n",
       "    <tr>\n",
       "      <th>alpha</th>\n",
       "      <td>1.33</td>\n",
       "      <td>0.02</td>\n",
       "      <td>0.0</td>\n",
       "      <td>1.29</td>\n",
       "      <td>1.37</td>\n",
       "    </tr>\n",
       "    <tr>\n",
       "      <th>beta_treatment</th>\n",
       "      <td>0.15</td>\n",
       "      <td>0.04</td>\n",
       "      <td>0.0</td>\n",
       "      <td>0.09</td>\n",
       "      <td>0.20</td>\n",
       "    </tr>\n",
       "    <tr>\n",
       "      <th>sigma</th>\n",
       "      <td>1.81</td>\n",
       "      <td>0.13</td>\n",
       "      <td>0.0</td>\n",
       "      <td>1.61</td>\n",
       "      <td>2.02</td>\n",
       "    </tr>\n",
       "  </tbody>\n",
       "</table>\n",
       "</div>"
      ],
      "text/plain": [
       "                mean    sd  mc_error  hpd_5.5  hpd_94.5\n",
       "alpha           1.33  0.02       0.0     1.29      1.37\n",
       "beta_treatment  0.15  0.04       0.0     0.09      0.20\n",
       "sigma           1.81  0.13       0.0     1.61      2.02"
      ]
     },
     "execution_count": 16,
     "metadata": {},
     "output_type": "execute_result"
    }
   ],
   "source": [
    "with pm.Model() as m_6_8:\n",
    "    alpha = pm.Lognormal('alpha', mu=0, sd=0.25) #note alpha here is the old p\n",
    "    beta_treatment = pm.Normal('beta_treatment', mu=0, sd=0.5) \n",
    "    p = pm.Deterministic('proportion', alpha + beta_treatment * d.treatment)\n",
    "    mu = pm.Deterministic('mu', p*d.h_0)\n",
    "    sigma = pm.Exponential('sigma', 1)\n",
    "    h_1 = pm.Normal('h_1', mu=mu, sd=sigma, observed=d.h_1)\n",
    "    trace_6_8 = pm.sample(1000, tune=1000, chains=1) \n",
    "    \n",
    "varnames = ['alpha','beta_treatment','sigma']\n",
    "pm.summary(trace_6_8, var_names = varnames, alpha = 0.11).round(2)\n",
    "\n",
    "# Now that we have removed fungus, treatment matters, as it should."
   ]
  },
  {
   "cell_type": "code",
   "execution_count": 17,
   "metadata": {},
   "outputs": [
    {
     "name": "stderr",
     "output_type": "stream",
     "text": [
      "C:\\Users\\mviotti\\AppData\\Local\\Continuum\\anaconda3\\envs\\stats\\lib\\site-packages\\networkx\\drawing\\nx_pylab.py:579: MatplotlibDeprecationWarning: \n",
      "The iterable function was deprecated in Matplotlib 3.1 and will be removed in 3.3. Use np.iterable instead.\n",
      "  if not cb.iterable(width):\n",
      "C:\\Users\\mviotti\\AppData\\Local\\Continuum\\anaconda3\\envs\\stats\\lib\\site-packages\\networkx\\drawing\\nx_pylab.py:676: MatplotlibDeprecationWarning: \n",
      "The iterable function was deprecated in Matplotlib 3.1 and will be removed in 3.3. Use np.iterable instead.\n",
      "  if cb.iterable(node_size):  # many node sizes\n"
     ]
    },
    {
     "data": {
      "image/png": "[encoded data removed]",
      "text/plain": [
       "<Figure size 432x288 with 1 Axes>"
      ]
     },
     "metadata": {},
     "output_type": "display_data"
    }
   ],
   "source": [
    "# R code 6.31\n",
    "# I skipped a lot of code because it mostly came from a simulated data set. The lesson is important, but the code is\n",
    "# nothing especially new. But it looks like DAGs could be very important. So here we go.\n",
    "\n",
    "G1=nx.DiGraph()\n",
    "G1.add_edges_from([(\"S\", \"W\"), (\"S\", \"M\"), (\"S\", \"A\"), (\"A\", \"D\"), (\"A\", \"M\"), (\"M\", \"D\"), (\"W\",\"D\")])\n",
    "nx.draw(G1, with_labels=True, font_weight='bold')\n",
    "plt.show();"
   ]
  },
  {
   "cell_type": "code",
   "execution_count": 18,
   "metadata": {},
   "outputs": [
    {
     "name": "stdout",
     "output_type": "stream",
     "text": [
      "['S', 'W', 'D']\n",
      "['S', 'M', 'D']\n",
      "['S', 'A', 'D']\n",
      "['S', 'A', 'M', 'D']\n"
     ]
    }
   ],
   "source": [
    "for path in nx.all_simple_paths(G1, source=\"S\", target=\"D\"):\n",
    "    print(path)\n",
    "\n",
    "# all_simple_paths takes into account direction of edges."
   ]
  },
  {
   "cell_type": "code",
   "execution_count": 19,
   "metadata": {},
   "outputs": [
    {
     "name": "stdout",
     "output_type": "stream",
     "text": [
      "['S', 'W', 'D']\n",
      "['S', 'M', 'D']\n",
      "['S', 'M', 'A', 'D']\n",
      "['S', 'A', 'D']\n",
      "['S', 'A', 'M', 'D']\n"
     ]
    }
   ],
   "source": [
    "G2=G1.to_undirected()\n",
    "for path in nx.all_simple_paths(G2, source=\"S\", target=\"D\"):\n",
    "    print(path)\n",
    "\n",
    "# to not care about edge directions, conver to an undirected graph and then find paths."
   ]
  },
  {
   "cell_type": "code",
   "execution_count": 20,
   "metadata": {},
   "outputs": [],
   "source": [
    "#R code 6.30 - backtracking\n",
    "#Let's try using CausalGraphicalModel to draw our DAGs\n",
    "# https://github.com/ijmbarr/causalgraphicalmodels/blob/master/causalgraphicalmodels/cgm.py\n",
    "# http://www.degeneratestate.org/posts/2018/Mar/24/causal-inference-with-python-part-1-potential-outcomes/\n",
    "# http://www.degeneratestate.org/posts/2018/Jul/10/causal-inference-with-python-part-2-causal-graphical-models/\n",
    "DAG = cgm.CausalGraphicalModel(\n",
    "    nodes = [\"A\", \"B\", \"C\", \"U\", \"X\", \"Y\"],\n",
    "    edges = [\n",
    "        (\"X\",\"Y\"),\n",
    "        (\"U\",\"X\"),\n",
    "        (\"U\",\"B\"),\n",
    "        (\"A\",\"U\"),\n",
    "        (\"A\",\"C\"),\n",
    "        (\"C\",\"B\"),\n",
    "        (\"C\",\"Y\")\n",
    "    ])\n",
    "DAG.draw();"
   ]
  },
  {
   "cell_type": "code",
   "execution_count": 21,
   "metadata": {},
   "outputs": [
    {
     "data": {
      "text/plain": [
       "frozenset({frozenset({'C'}),\n",
       "           frozenset({'B', 'U'}),\n",
       "           frozenset({'C', 'U'}),\n",
       "           frozenset({'A'}),\n",
       "           frozenset({'A', 'C'}),\n",
       "           frozenset({'U'}),\n",
       "           frozenset({'A', 'U'}),\n",
       "           frozenset({'A', 'C', 'U'}),\n",
       "           frozenset({'B', 'C'}),\n",
       "           frozenset({'A', 'B', 'U'}),\n",
       "           frozenset({'A', 'B', 'C'}),\n",
       "           frozenset({'B', 'C', 'U'}),\n",
       "           frozenset({'A', 'B', 'C', 'U'})})"
      ]
     },
     "execution_count": 21,
     "metadata": {},
     "output_type": "execute_result"
    }
   ],
   "source": [
    "x = DAG.get_all_backdoor_adjustment_sets(\"X\", \"Y\")\n",
    "x"
   ]
  },
  {
   "cell_type": "code",
   "execution_count": 22,
   "metadata": {},
   "outputs": [],
   "source": [
    "# should generalize this to accept either a DAG or a list of all backdoor adjustment sets\n",
    "\n",
    "def get_shortest_backdoor_adjustment_sets(all_sets):\n",
    "    shortest_sets = []\n",
    "    first_element, *_ = all_sets   # this extracts the first element of the set. I don't understand it.\n",
    "    min_length = len(first_element)\n",
    "    for x in all_sets:\n",
    "        if len(x) < min_length:   # If we've found the shortest set length yet \n",
    "            min_length = len(x)   # Set the length as our new min length\n",
    "            shortest_sets = []    # Clear the shortest sets list\n",
    "            shortest_sets.append(x) # Add the new set to the list\n",
    "        elif len(x) == min_length: # If we've found a set equivalent to our min set length\n",
    "            shortest_sets.append(x) # Just add the set to the list\n",
    "    return shortest_sets       \n",
    "    "
   ]
  },
  {
   "cell_type": "code",
   "execution_count": 23,
   "metadata": {},
   "outputs": [
    {
     "data": {
      "text/plain": [
       "[frozenset({'C'}), frozenset({'A'}), frozenset({'U'})]"
      ]
     },
     "execution_count": 23,
     "metadata": {},
     "output_type": "execute_result"
    }
   ],
   "source": [
    "get_shortest_backdoor_adjustment_sets(x)"
   ]
  },
  {
   "cell_type": "code",
   "execution_count": 24,
   "metadata": {},
   "outputs": [
    {
     "data": {
      "image/svg+xml": [
       "<?xml version=\"1.0\" encoding=\"UTF-8\" standalone=\"no\"?>\r\n",
       "<!DOCTYPE svg PUBLIC \"-//W3C//DTD SVG 1.1//EN\"\r\n",
       " \"http://www.w3.org/Graphics/SVG/1.1/DTD/svg11.dtd\">\r\n",
       "<!-- Generated by graphviz version 2.38.0 (20140413.2041)\r\n",
       " -->\r\n",
       "<!-- Title: %3 Pages: 1 -->\r\n",
       "<svg width=\"180pt\" height=\"260pt\"\r\n",
       " viewBox=\"0.00 0.00 180.00 260.00\" xmlns=\"http://www.w3.org/2000/svg\" xmlns:xlink=\"http://www.w3.org/1999/xlink\">\r\n",
       "<g id=\"graph0\" class=\"graph\" transform=\"scale(1 1) rotate(0) translate(4 256)\">\r\n",
       "<title>%3</title>\r\n",
       "<polygon fill=\"white\" stroke=\"none\" points=\"-4,4 -4,-256 176,-256 176,4 -4,4\"/>\r\n",
       "<!-- S -->\r\n",
       "<g id=\"node1\" class=\"node\"><title>S</title>\r\n",
       "<ellipse fill=\"none\" stroke=\"black\" cx=\"90\" cy=\"-234\" rx=\"27\" ry=\"18\"/>\r\n",
       "<text text-anchor=\"middle\" x=\"90\" y=\"-230.3\" font-family=\"Times New Roman,serif\" font-size=\"14.00\">S</text>\r\n",
       "</g>\r\n",
       "<!-- M -->\r\n",
       "<g id=\"node2\" class=\"node\"><title>M</title>\r\n",
       "<ellipse fill=\"none\" stroke=\"black\" cx=\"99\" cy=\"-90\" rx=\"27\" ry=\"18\"/>\r\n",
       "<text text-anchor=\"middle\" x=\"99\" y=\"-86.3\" font-family=\"Times New Roman,serif\" font-size=\"14.00\">M</text>\r\n",
       "</g>\r\n",
       "<!-- S&#45;&gt;M -->\r\n",
       "<g id=\"edge5\" class=\"edge\"><title>S&#45;&gt;M</title>\r\n",
       "<path fill=\"none\" stroke=\"black\" d=\"M91.0856,-215.871C92.6195,-191.67 95.4373,-147.211 97.2638,-118.393\"/>\r\n",
       "<polygon fill=\"black\" stroke=\"black\" points=\"100.771,-118.391 97.9105,-108.189 93.7849,-117.948 100.771,-118.391\"/>\r\n",
       "</g>\r\n",
       "<!-- W -->\r\n",
       "<g id=\"node3\" class=\"node\"><title>W</title>\r\n",
       "<ellipse fill=\"none\" stroke=\"black\" cx=\"27\" cy=\"-90\" rx=\"27\" ry=\"18\"/>\r\n",
       "<text text-anchor=\"middle\" x=\"27\" y=\"-86.3\" font-family=\"Times New Roman,serif\" font-size=\"14.00\">W</text>\r\n",
       "</g>\r\n",
       "<!-- S&#45;&gt;W -->\r\n",
       "<g id=\"edge4\" class=\"edge\"><title>S&#45;&gt;W</title>\r\n",
       "<path fill=\"none\" stroke=\"black\" d=\"M82.6498,-216.433C71.7907,-191.957 51.3622,-145.912 38.5066,-116.936\"/>\r\n",
       "<polygon fill=\"black\" stroke=\"black\" points=\"41.5581,-115.183 34.3034,-107.462 35.1596,-118.022 41.5581,-115.183\"/>\r\n",
       "</g>\r\n",
       "<!-- A -->\r\n",
       "<g id=\"node4\" class=\"node\"><title>A</title>\r\n",
       "<ellipse fill=\"none\" stroke=\"black\" cx=\"145\" cy=\"-162\" rx=\"27\" ry=\"18\"/>\r\n",
       "<text text-anchor=\"middle\" x=\"145\" y=\"-158.3\" font-family=\"Times New Roman,serif\" font-size=\"14.00\">A</text>\r\n",
       "</g>\r\n",
       "<!-- S&#45;&gt;A -->\r\n",
       "<g id=\"edge3\" class=\"edge\"><title>S&#45;&gt;A</title>\r\n",
       "<path fill=\"none\" stroke=\"black\" d=\"M101.934,-217.811C109.214,-208.546 118.663,-196.52 126.854,-186.094\"/>\r\n",
       "<polygon fill=\"black\" stroke=\"black\" points=\"129.663,-188.185 133.089,-178.159 124.159,-183.86 129.663,-188.185\"/>\r\n",
       "</g>\r\n",
       "<!-- D -->\r\n",
       "<g id=\"node5\" class=\"node\"><title>D</title>\r\n",
       "<ellipse fill=\"none\" stroke=\"black\" cx=\"99\" cy=\"-18\" rx=\"27\" ry=\"18\"/>\r\n",
       "<text text-anchor=\"middle\" x=\"99\" y=\"-14.3\" font-family=\"Times New Roman,serif\" font-size=\"14.00\">D</text>\r\n",
       "</g>\r\n",
       "<!-- M&#45;&gt;D -->\r\n",
       "<g id=\"edge6\" class=\"edge\"><title>M&#45;&gt;D</title>\r\n",
       "<path fill=\"none\" stroke=\"black\" d=\"M99,-71.6966C99,-63.9827 99,-54.7125 99,-46.1124\"/>\r\n",
       "<polygon fill=\"black\" stroke=\"black\" points=\"102.5,-46.1043 99,-36.1043 95.5001,-46.1044 102.5,-46.1043\"/>\r\n",
       "</g>\r\n",
       "<!-- W&#45;&gt;D -->\r\n",
       "<g id=\"edge7\" class=\"edge\"><title>W&#45;&gt;D</title>\r\n",
       "<path fill=\"none\" stroke=\"black\" d=\"M41.5703,-74.8345C51.7499,-64.9376 65.5239,-51.5462 77.0306,-40.3591\"/>\r\n",
       "<polygon fill=\"black\" stroke=\"black\" points=\"79.4741,-42.865 84.2043,-33.3847 74.5945,-37.8461 79.4741,-42.865\"/>\r\n",
       "</g>\r\n",
       "<!-- A&#45;&gt;M -->\r\n",
       "<g id=\"edge1\" class=\"edge\"><title>A&#45;&gt;M</title>\r\n",
       "<path fill=\"none\" stroke=\"black\" d=\"M134.562,-145.116C128.798,-136.345 121.516,-125.264 115.045,-115.416\"/>\r\n",
       "<polygon fill=\"black\" stroke=\"black\" points=\"117.814,-113.256 109.397,-106.821 111.964,-117.1 117.814,-113.256\"/>\r\n",
       "</g>\r\n",
       "<!-- A&#45;&gt;D -->\r\n",
       "<g id=\"edge2\" class=\"edge\"><title>A&#45;&gt;D</title>\r\n",
       "<path fill=\"none\" stroke=\"black\" d=\"M145.481,-143.708C145.442,-125.352 143.792,-95.7703 135,-72 131.122,-61.5153 124.74,-51.0945 118.419,-42.3033\"/>\r\n",
       "<polygon fill=\"black\" stroke=\"black\" points=\"121.042,-39.9693 112.212,-34.1133 115.463,-44.1972 121.042,-39.9693\"/>\r\n",
       "</g>\r\n",
       "</g>\r\n",
       "</svg>\r\n"
      ],
      "text/plain": [
       "<graphviz.dot.Digraph at 0x224dc08e4e0>"
      ]
     },
     "execution_count": 24,
     "metadata": {},
     "output_type": "execute_result"
    }
   ],
   "source": [
    "DAG = cgm.CausalGraphicalModel(\n",
    "    nodes = [\"A\", \"S\", \"D\", \"M\", \"W\"],\n",
    "    edges = [\n",
    "        (\"S\",\"A\"),\n",
    "        (\"S\",\"W\"),\n",
    "        (\"S\",\"M\"),\n",
    "        (\"A\",\"M\"),\n",
    "        (\"A\",\"D\"),\n",
    "        (\"M\",\"D\"),\n",
    "        (\"W\",\"D\")\n",
    "    ])\n",
    "DAG.draw()"
   ]
  },
  {
   "cell_type": "code",
   "execution_count": 25,
   "metadata": {},
   "outputs": [
    {
     "data": {
      "text/plain": [
       "frozenset({frozenset({'S'}),\n",
       "           frozenset({'M', 'S'}),\n",
       "           frozenset({'A', 'M'}),\n",
       "           frozenset({'A', 'S'}),\n",
       "           frozenset({'A', 'M', 'S'})})"
      ]
     },
     "execution_count": 25,
     "metadata": {},
     "output_type": "execute_result"
    }
   ],
   "source": [
    "DAG.get_all_backdoor_adjustment_sets(\"W\", \"D\")\n",
    "#It would be nice if I wrote a function to get all non-redundant BDAS. As in, don't return\n",
    "#{M,S} if you've already returned {S}. But that's a problem for another day."
   ]
  },
  {
   "cell_type": "code",
   "execution_count": 26,
   "metadata": {},
   "outputs": [
    {
     "data": {
      "text/plain": [
       "[('S', 'D', {'A', 'M', 'W'}),\n",
       " ('M', 'W', {'S'}),\n",
       " ('M', 'W', {'A', 'S'}),\n",
       " ('W', 'A', {'S'}),\n",
       " ('W', 'A', {'M', 'S'})]"
      ]
     },
     "execution_count": 26,
     "metadata": {},
     "output_type": "execute_result"
    }
   ],
   "source": [
    "DAG.get_all_independence_relationships()"
   ]
  },
  {
   "cell_type": "code",
   "execution_count": 27,
   "metadata": {},
   "outputs": [],
   "source": [
    "#6H1\n",
    "# The motivation is that there will be a correlation between Waffle Houses and divorce\n",
    "# rate if we include age, marriage rate, and divorce rate in our model. See below.\n",
    "\n",
    "d = pd.read_csv('Data/WaffleDivorce.csv', sep=';', header=0)\n",
    "d['age_norm'] = (d.MedianAgeMarriage - d.MedianAgeMarriage.mean())/d.MedianAgeMarriage.std()\n",
    "d['divorce_norm'] = (d.Divorce - d.Divorce.mean())/d.Divorce.std()\n",
    "d['marriage_norm'] = (d.Marriage - d.Marriage.mean())/d.Marriage.std()\n",
    "d['waffles_norm'] = (d.WaffleHouses - d.WaffleHouses.mean())/d.WaffleHouses.std()"
   ]
  },
  {
   "cell_type": "code",
   "execution_count": 28,
   "metadata": {},
   "outputs": [
    {
     "name": "stderr",
     "output_type": "stream",
     "text": [
      "Auto-assigning NUTS sampler...\n",
      "Initializing NUTS using jitter+adapt_diag...\n",
      "Sequential sampling (1 chains in 1 job)\n",
      "NUTS: [sigma, beta_waffles, beta_age, beta_marriage, alpha]\n",
      "100%|█████████████████████████████████████████████████████████████████████████████| 2000/2000 [00:02<00:00, 836.28it/s]\n",
      "Only one chain was sampled, this makes it impossible to run some convergence checks\n"
     ]
    }
   ],
   "source": [
    "with pm.Model() as m_6H1_1:\n",
    "    alpha = pm.Normal('alpha', mu=0, sd=0.2) \n",
    "    beta_marriage = pm.Normal('beta_marriage', mu=0, sd=0.5) \n",
    "    beta_age = pm.Normal('beta_age', mu=0, sd=0.5) \n",
    "    beta_waffles = pm.Normal('beta_waffles', mu=0, sd=0.5)\n",
    "    mu = pm.Deterministic('mu', alpha + beta_marriage*d.marriage_norm \n",
    "                          + beta_age*d.age_norm + beta_waffles*d.waffles_norm)\n",
    "    sigma = pm.Exponential('sigma', 1)\n",
    "    divorce = pm.Normal('divorce', mu=mu, sd=sigma, observed=d.divorce_norm)\n",
    "    trace_6H1_1 = pm.sample(1000, tune=1000, chains=1) \n"
   ]
  },
  {
   "cell_type": "code",
   "execution_count": 29,
   "metadata": {},
   "outputs": [
    {
     "data": {
      "text/html": [
       "<div>\n",
       "<style scoped>\n",
       "    .dataframe tbody tr th:only-of-type {\n",
       "        vertical-align: middle;\n",
       "    }\n",
       "\n",
       "    .dataframe tbody tr th {\n",
       "        vertical-align: top;\n",
       "    }\n",
       "\n",
       "    .dataframe thead th {\n",
       "        text-align: right;\n",
       "    }\n",
       "</style>\n",
       "<table border=\"1\" class=\"dataframe\">\n",
       "  <thead>\n",
       "    <tr style=\"text-align: right;\">\n",
       "      <th></th>\n",
       "      <th>mean</th>\n",
       "      <th>sd</th>\n",
       "      <th>mc_error</th>\n",
       "      <th>hpd_5.5</th>\n",
       "      <th>hpd_94.5</th>\n",
       "    </tr>\n",
       "  </thead>\n",
       "  <tbody>\n",
       "    <tr>\n",
       "      <th>beta_marriage</th>\n",
       "      <td>-0.04</td>\n",
       "      <td>0.15</td>\n",
       "      <td>0.01</td>\n",
       "      <td>-0.30</td>\n",
       "      <td>0.20</td>\n",
       "    </tr>\n",
       "    <tr>\n",
       "      <th>beta_age</th>\n",
       "      <td>-0.57</td>\n",
       "      <td>0.16</td>\n",
       "      <td>0.01</td>\n",
       "      <td>-0.81</td>\n",
       "      <td>-0.31</td>\n",
       "    </tr>\n",
       "    <tr>\n",
       "      <th>beta_waffles</th>\n",
       "      <td>0.18</td>\n",
       "      <td>0.11</td>\n",
       "      <td>0.00</td>\n",
       "      <td>-0.03</td>\n",
       "      <td>0.33</td>\n",
       "    </tr>\n",
       "  </tbody>\n",
       "</table>\n",
       "</div>"
      ],
      "text/plain": [
       "               mean    sd  mc_error  hpd_5.5  hpd_94.5\n",
       "beta_marriage -0.04  0.15      0.01    -0.30      0.20\n",
       "beta_age      -0.57  0.16      0.01    -0.81     -0.31\n",
       "beta_waffles   0.18  0.11      0.00    -0.03      0.33"
      ]
     },
     "execution_count": 29,
     "metadata": {},
     "output_type": "execute_result"
    }
   ],
   "source": [
    "varnames = ['beta_marriage', 'beta_age','beta_waffles']\n",
    "pm.summary(trace_6H1_1, var_names = varnames, alpha = 0.11).round(2)\n",
    "\n",
    "# there is a positive correlation between the number of waffle houses and divorce rate.\n",
    "# the 89th centile is (nearly) entirely positive."
   ]
  },
  {
   "cell_type": "code",
   "execution_count": 30,
   "metadata": {},
   "outputs": [],
   "source": [
    "# Based on the DAG, there are several backdoor paths that connect the number of Waffle\n",
    "# Houses (W) to the divorce rate (D). We can close them all by conditioning the model\n",
    "# on Southiness S. We don't want anything else in our model, but it doesn't \n",
    "# actually matter if M and A are in there. But we'll leave them out."
   ]
  },
  {
   "cell_type": "code",
   "execution_count": 32,
   "metadata": {},
   "outputs": [
    {
     "name": "stderr",
     "output_type": "stream",
     "text": [
      "Auto-assigning NUTS sampler...\n",
      "Initializing NUTS using jitter+adapt_diag...\n",
      "Sequential sampling (1 chains in 1 job)\n",
      "NUTS: [sigma, beta_waffles, alpha_not_south, alpha_south]\n",
      "100%|████████████████████████████████████████████████████████████████████████████| 2000/2000 [00:01<00:00, 1107.78it/s]\n",
      "Only one chain was sampled, this makes it impossible to run some convergence checks\n"
     ]
    }
   ],
   "source": [
    "with pm.Model() as m_6H1_2:\n",
    "    alpha_south = pm.Normal('alpha_south', mu=0, sd=1) \n",
    "    alpha_not_south = pm.Normal('alpha_not_south', mu=0, sd=1)\n",
    "    beta_waffles = pm.Normal('beta_waffles', mu=0, sd=1)\n",
    "    mu = pm.Deterministic('mu', alpha_south*d.South + alpha_not_south*(1-d.South)\n",
    "                         + beta_waffles*d.waffles_norm)\n",
    "    sigma = pm.Exponential('sigma', 1)\n",
    "    divorce = pm.Normal('divorce', mu=mu, sd=sigma, observed=d.divorce_norm)\n",
    "    trace_6H1_2 = pm.sample(1000, tune=1000, chains=1) "
   ]
  },
  {
   "cell_type": "code",
   "execution_count": 38,
   "metadata": {},
   "outputs": [
    {
     "data": {
      "text/html": [
       "<div>\n",
       "<style scoped>\n",
       "    .dataframe tbody tr th:only-of-type {\n",
       "        vertical-align: middle;\n",
       "    }\n",
       "\n",
       "    .dataframe tbody tr th {\n",
       "        vertical-align: top;\n",
       "    }\n",
       "\n",
       "    .dataframe thead th {\n",
       "        text-align: right;\n",
       "    }\n",
       "</style>\n",
       "<table border=\"1\" class=\"dataframe\">\n",
       "  <thead>\n",
       "    <tr style=\"text-align: right;\">\n",
       "      <th></th>\n",
       "      <th>mean</th>\n",
       "      <th>sd</th>\n",
       "      <th>mc_error</th>\n",
       "      <th>hpd_5.5</th>\n",
       "      <th>hpd_94.5</th>\n",
       "    </tr>\n",
       "  </thead>\n",
       "  <tbody>\n",
       "    <tr>\n",
       "      <th>alpha_south</th>\n",
       "      <td>0.466</td>\n",
       "      <td>0.313</td>\n",
       "      <td>0.012</td>\n",
       "      <td>-0.073</td>\n",
       "      <td>0.925</td>\n",
       "    </tr>\n",
       "    <tr>\n",
       "      <th>alpha_not_south</th>\n",
       "      <td>-0.179</td>\n",
       "      <td>0.172</td>\n",
       "      <td>0.006</td>\n",
       "      <td>-0.440</td>\n",
       "      <td>0.105</td>\n",
       "    </tr>\n",
       "    <tr>\n",
       "      <th>beta_waffles</th>\n",
       "      <td>0.050</td>\n",
       "      <td>0.184</td>\n",
       "      <td>0.006</td>\n",
       "      <td>-0.283</td>\n",
       "      <td>0.300</td>\n",
       "    </tr>\n",
       "    <tr>\n",
       "      <th>sigma</th>\n",
       "      <td>0.966</td>\n",
       "      <td>0.097</td>\n",
       "      <td>0.004</td>\n",
       "      <td>0.807</td>\n",
       "      <td>1.112</td>\n",
       "    </tr>\n",
       "  </tbody>\n",
       "</table>\n",
       "</div>"
      ],
      "text/plain": [
       "                  mean     sd  mc_error  hpd_5.5  hpd_94.5\n",
       "alpha_south      0.466  0.313     0.012   -0.073     0.925\n",
       "alpha_not_south -0.179  0.172     0.006   -0.440     0.105\n",
       "beta_waffles     0.050  0.184     0.006   -0.283     0.300\n",
       "sigma            0.966  0.097     0.004    0.807     1.112"
      ]
     },
     "execution_count": 38,
     "metadata": {},
     "output_type": "execute_result"
    }
   ],
   "source": [
    "varnames = ['alpha_south', 'alpha_not_south', 'beta_waffles', 'sigma']\n",
    "pm.summary(trace_6H1_2, varnames, alpha=.11).round(3)\n",
    "\n",
    "# beta_waffles is essentially centered on zero. So no correlation between waffles and divorce, conditioning on south."
   ]
  },
  {
   "cell_type": "code",
   "execution_count": 40,
   "metadata": {},
   "outputs": [
    {
     "data": {
      "image/png": "[encoded data removed]",
      "text/plain": [
       "<Figure size 432x216 with 1 Axes>"
      ]
     },
     "metadata": {
      "needs_background": "light"
     },
     "output_type": "display_data"
    }
   ],
   "source": [
    "# Verifying the same thing with a forest plot\n",
    "pm.forestplot(trace_6H1_2, var_names=varnames, credible_interval=0.89, \n",
    "              linewidth=1, figsize=(6,3));"
   ]
  },
  {
   "cell_type": "code",
   "execution_count": 37,
   "metadata": {},
   "outputs": [
    {
     "name": "stderr",
     "output_type": "stream",
     "text": [
      "Auto-assigning NUTS sampler...\n",
      "Initializing NUTS using jitter+adapt_diag...\n",
      "Sequential sampling (1 chains in 1 job)\n",
      "NUTS: [sigma, mu]\n",
      "100%|██████████████████████████████████████████████████████████████████████████| 11000/11000 [00:07<00:00, 1536.54it/s]\n",
      "Only one chain was sampled, this makes it impossible to run some convergence checks\n"
     ]
    }
   ],
   "source": [
    "# Trying it another way.\n",
    "# https://towardsdatascience.com/hands-on-bayesian-statistics-with-python-pymc3-arviz-499db9a59501\n",
    "\n",
    "south_codes = pd.Categorical(d['South']).codes\n",
    "\n",
    "with pm.Model() as m_6H1_4:\n",
    "\n",
    "    mu = pm.Normal('mu', mu=0, sd=1, shape=len(set(south_codes)))\n",
    "    sigma = pm.HalfNormal('sigma', sd=1, shape=len(set(south_codes)))\n",
    "\n",
    "    # Data likelihood\n",
    "    divorce = pm.Normal('divorce', mu=mu[south_codes], sd=sigma[south_codes], \n",
    "                        observed=d.divorce_norm)\n",
    "    \n",
    "    trace_6H1_4 = pm.sample(10000, tune=1000, chains=1) "
   ]
  },
  {
   "cell_type": "code",
   "execution_count": null,
   "metadata": {},
   "outputs": [],
   "source": [
    "pm.summary(trace_6H1_4, alpha=.11).round(3)\n",
    "# All this shows is that we get different values of mu (mean marriage) for different\n",
    "# values of southiness. It doesn't 'control' for southiness in any way."
   ]
  },
  {
   "cell_type": "code",
   "execution_count": null,
   "metadata": {},
   "outputs": [],
   "source": [
    "# Trying it another way. Setting an individual alpha and beta for each category and comparing.\n",
    "# http://people.duke.edu/~ccc14/sta-663-2016/16C_PyMC3.html\n",
    "\n",
    "south_codes = pd.Categorical(d['South']).codes\n",
    "\n",
    "with pm.Model() as m_6H1_3:\n",
    "    # Hyperpriors - just to make setting individual priors easier. This is useful \n",
    "    # when we have loads of categories.\n",
    "    mu_a = pm.Normal('mu_a', mu=0, sd=10)\n",
    "    sigma_a = pm.Exponential('sigma_a', 1)\n",
    "    mu_b = pm.Normal('mu_b', mu=0, sd=10)\n",
    "    sigma_b = pm.Exponential('sigma_b', 1)\n",
    "\n",
    "    # Slopes and intercepts for each category\n",
    "    alpha = pm.Normal('alpha', mu=mu_a, sd=sigma_a, shape=len(set(south_codes)))\n",
    "    beta = pm.Normal('beta', mu=mu_b, sd=sigma_b, shape=len(set(south_codes)))\n",
    "\n",
    "    sigma = pm.Exponential('sigma', 1)\n",
    "\n",
    "    # Model prediction of divorce\n",
    "    mu = alpha[south_codes] + beta[south_codes] * d.waffles_norm\n",
    "\n",
    "    # Data likelihood\n",
    "    divorce = pm.Normal('divorce', mu=mu, sd=sigma, observed=d.divorce_norm)\n",
    "    \n",
    "    trace_6H1_3 = pm.sample(10000, tune=1000, chains=1) \n"
   ]
  },
  {
   "cell_type": "code",
   "execution_count": null,
   "metadata": {},
   "outputs": [],
   "source": [
    "x = np.linspace(-1, 5, 10000)\n",
    "mu_pred = trace_6H1_3['alpha'][:,0] + trace_6H1_3['beta'][:,0] * x[:,None] \n",
    "mu_pred2 = trace_6H1_3['alpha'][:,1] + trace_6H1_3['beta'][:,1] * x[:,None] \n",
    "plt.plot(d.waffles_norm, d.divorce_norm, 'o')\n",
    "plt.plot(x, mu_pred.mean(1))\n",
    "plt.plot(x, mu_pred2.mean(1))"
   ]
  },
  {
   "cell_type": "code",
   "execution_count": 41,
   "metadata": {},
   "outputs": [
    {
     "data": {
      "text/plain": [
       "[('S', 'D', {'A', 'M', 'W'}),\n",
       " ('M', 'W', {'S'}),\n",
       " ('M', 'W', {'A', 'S'}),\n",
       " ('W', 'A', {'S'}),\n",
       " ('W', 'A', {'M', 'S'})]"
      ]
     },
     "execution_count": 41,
     "metadata": {},
     "output_type": "execute_result"
    }
   ],
   "source": [
    "#6H2\n",
    "DAG.get_all_independence_relationships()\n",
    "# Line 1 says southiness and divorce rate are independent, given we condition on everything\n",
    "# else. I could see this being untrue. If it's untrue, and there is a correlation, we need\n",
    "# to add a link from S -> D.\n",
    "\n",
    "# Lines 2 and 3 correspond to the previous problem, so I'm not going to do them again.\n",
    "\n",
    "# Lines 4 and 5 involve conditioning on S, and I'm having trouble with that. I think\n",
    "# I'm going to move on until I better understand how to work with categorical variables\n",
    "# in PyMC3."
   ]
  }
 ],
 "metadata": {
  "kernelspec": {
   "display_name": "Python 3",
   "language": "python",
   "name": "python3"
  },
  "language_info": {
   "codemirror_mode": {
    "name": "ipython",
    "version": 3
   },
   "file_extension": ".py",
   "mimetype": "text/x-python",
   "name": "python",
   "nbconvert_exporter": "python",
   "pygments_lexer": "ipython3",
   "version": "3.7.3"
  }
 },
 "nbformat": 4,
 "nbformat_minor": 2
}
