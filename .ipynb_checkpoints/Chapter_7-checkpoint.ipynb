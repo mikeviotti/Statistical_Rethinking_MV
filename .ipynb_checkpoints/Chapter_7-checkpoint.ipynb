{
 "cells": [
  {
   "cell_type": "code",
   "execution_count": 1,
   "metadata": {},
   "outputs": [],
   "source": [
    "%matplotlib inline\n",
    "import pymc3 as pm\n",
    "import numpy as np\n",
    "import pandas as pd\n",
    "import scipy.stats as stats\n",
    "from scipy.interpolate import griddata\n",
    "import matplotlib.pyplot as plt\n",
    "import seaborn as sns\n",
    "import networkx as nx\n",
    "\n",
    "# %config InlineBackend.figure_format = 'retina'\n",
    "# plt.style.use(['seaborn-colorblind', 'seaborn-darkgrid'])\n",
    "\n",
    "# Typo - page 194, \"So it's no good\"\n",
    "# Typo - page 196, \"you did this IS (in) earlier chapters\"\n",
    "# Typo - page 203, \"...as a measure __ model performance\" (probably missing the word 'of')\n",
    "# Typo - page 217, in rethinking box: \"[add cite to sub paper?]\"\n",
    "# Typo - page 218, entire overthinking box\n",
    "# Typo - page 219, \"...exist that dominate AIC IS (in) every context\"\n",
    "# Typo - page 219, \"Unfortunately, IT'S (its) generality...\"\n",
    "# Typo - page 221, broken figure link\n",
    "# Typos - page 228, \"IT'S job...IT'S job...\" (two times) both should be its.\n",
    "# Maybe typo, maybe style - page 233, \"The same partial regression result has been found FOR GENERAL in mammals...\"\n",
    "# Typo - page 237, uses 'literature' and 'literatures' in the same sentence. Second should probably just be literature."
   ]
  },
  {
   "cell_type": "code",
   "execution_count": 2,
   "metadata": {},
   "outputs": [
    {
     "data": {
      "text/html": [
       "<div>\n",
       "<style scoped>\n",
       "    .dataframe tbody tr th:only-of-type {\n",
       "        vertical-align: middle;\n",
       "    }\n",
       "\n",
       "    .dataframe tbody tr th {\n",
       "        vertical-align: top;\n",
       "    }\n",
       "\n",
       "    .dataframe thead th {\n",
       "        text-align: right;\n",
       "    }\n",
       "</style>\n",
       "<table border=\"1\" class=\"dataframe\">\n",
       "  <thead>\n",
       "    <tr style=\"text-align: right;\">\n",
       "      <th></th>\n",
       "      <th>species</th>\n",
       "      <th>brainvolcc</th>\n",
       "      <th>masskg</th>\n",
       "    </tr>\n",
       "  </thead>\n",
       "  <tbody>\n",
       "    <tr>\n",
       "      <th>0</th>\n",
       "      <td>afarensis</td>\n",
       "      <td>438</td>\n",
       "      <td>37.0</td>\n",
       "    </tr>\n",
       "    <tr>\n",
       "      <th>1</th>\n",
       "      <td>africanus</td>\n",
       "      <td>452</td>\n",
       "      <td>35.5</td>\n",
       "    </tr>\n",
       "    <tr>\n",
       "      <th>2</th>\n",
       "      <td>habilis</td>\n",
       "      <td>612</td>\n",
       "      <td>34.5</td>\n",
       "    </tr>\n",
       "    <tr>\n",
       "      <th>3</th>\n",
       "      <td>boisei</td>\n",
       "      <td>521</td>\n",
       "      <td>41.5</td>\n",
       "    </tr>\n",
       "    <tr>\n",
       "      <th>4</th>\n",
       "      <td>rudolfensis</td>\n",
       "      <td>752</td>\n",
       "      <td>55.5</td>\n",
       "    </tr>\n",
       "    <tr>\n",
       "      <th>5</th>\n",
       "      <td>ergaster</td>\n",
       "      <td>871</td>\n",
       "      <td>61.0</td>\n",
       "    </tr>\n",
       "    <tr>\n",
       "      <th>6</th>\n",
       "      <td>sapiens</td>\n",
       "      <td>1350</td>\n",
       "      <td>53.5</td>\n",
       "    </tr>\n",
       "  </tbody>\n",
       "</table>\n",
       "</div>"
      ],
      "text/plain": [
       "       species  brainvolcc  masskg\n",
       "0    afarensis         438    37.0\n",
       "1    africanus         452    35.5\n",
       "2      habilis         612    34.5\n",
       "3       boisei         521    41.5\n",
       "4  rudolfensis         752    55.5\n",
       "5     ergaster         871    61.0\n",
       "6      sapiens        1350    53.5"
      ]
     },
     "execution_count": 2,
     "metadata": {},
     "output_type": "execute_result"
    }
   ],
   "source": [
    "# R code 7.1\n",
    "data = {'species':[\"afarensis\",\"africanus\",\"habilis\",\"boisei\",\n",
    "                    \"rudolfensis\",\"ergaster\",\"sapiens\"],\n",
    "        'brainvolcc':[438 , 452 , 612, 521, 752, 871, 1350],\n",
    "        'masskg':[37.0 , 35.5 , 34.5 , 41.5 , 55.5 , 61.0 , 53.5]\n",
    "       }\n",
    "\n",
    "d=pd.DataFrame(data)\n",
    "d"
   ]
  },
  {
   "cell_type": "code",
   "execution_count": 3,
   "metadata": {},
   "outputs": [
    {
     "data": {
      "text/html": [
       "<div>\n",
       "<style scoped>\n",
       "    .dataframe tbody tr th:only-of-type {\n",
       "        vertical-align: middle;\n",
       "    }\n",
       "\n",
       "    .dataframe tbody tr th {\n",
       "        vertical-align: top;\n",
       "    }\n",
       "\n",
       "    .dataframe thead th {\n",
       "        text-align: right;\n",
       "    }\n",
       "</style>\n",
       "<table border=\"1\" class=\"dataframe\">\n",
       "  <thead>\n",
       "    <tr style=\"text-align: right;\">\n",
       "      <th></th>\n",
       "      <th>species</th>\n",
       "      <th>brainvolcc</th>\n",
       "      <th>masskg</th>\n",
       "      <th>mass_std</th>\n",
       "      <th>brain_std</th>\n",
       "    </tr>\n",
       "  </thead>\n",
       "  <tbody>\n",
       "    <tr>\n",
       "      <th>0</th>\n",
       "      <td>afarensis</td>\n",
       "      <td>438</td>\n",
       "      <td>37.0</td>\n",
       "      <td>-0.779467</td>\n",
       "      <td>0.324444</td>\n",
       "    </tr>\n",
       "    <tr>\n",
       "      <th>1</th>\n",
       "      <td>africanus</td>\n",
       "      <td>452</td>\n",
       "      <td>35.5</td>\n",
       "      <td>-0.917020</td>\n",
       "      <td>0.334815</td>\n",
       "    </tr>\n",
       "    <tr>\n",
       "      <th>2</th>\n",
       "      <td>habilis</td>\n",
       "      <td>612</td>\n",
       "      <td>34.5</td>\n",
       "      <td>-1.008722</td>\n",
       "      <td>0.453333</td>\n",
       "    </tr>\n",
       "    <tr>\n",
       "      <th>3</th>\n",
       "      <td>boisei</td>\n",
       "      <td>521</td>\n",
       "      <td>41.5</td>\n",
       "      <td>-0.366808</td>\n",
       "      <td>0.385926</td>\n",
       "    </tr>\n",
       "    <tr>\n",
       "      <th>4</th>\n",
       "      <td>rudolfensis</td>\n",
       "      <td>752</td>\n",
       "      <td>55.5</td>\n",
       "      <td>0.917020</td>\n",
       "      <td>0.557037</td>\n",
       "    </tr>\n",
       "    <tr>\n",
       "      <th>5</th>\n",
       "      <td>ergaster</td>\n",
       "      <td>871</td>\n",
       "      <td>61.0</td>\n",
       "      <td>1.421380</td>\n",
       "      <td>0.645185</td>\n",
       "    </tr>\n",
       "    <tr>\n",
       "      <th>6</th>\n",
       "      <td>sapiens</td>\n",
       "      <td>1350</td>\n",
       "      <td>53.5</td>\n",
       "      <td>0.733616</td>\n",
       "      <td>1.000000</td>\n",
       "    </tr>\n",
       "  </tbody>\n",
       "</table>\n",
       "</div>"
      ],
      "text/plain": [
       "       species  brainvolcc  masskg  mass_std  brain_std\n",
       "0    afarensis         438    37.0 -0.779467   0.324444\n",
       "1    africanus         452    35.5 -0.917020   0.334815\n",
       "2      habilis         612    34.5 -1.008722   0.453333\n",
       "3       boisei         521    41.5 -0.366808   0.385926\n",
       "4  rudolfensis         752    55.5  0.917020   0.557037\n",
       "5     ergaster         871    61.0  1.421380   0.645185\n",
       "6      sapiens        1350    53.5  0.733616   1.000000"
      ]
     },
     "execution_count": 3,
     "metadata": {},
     "output_type": "execute_result"
    }
   ],
   "source": [
    "# R code 7.2\n",
    "d['mass_std']= (d.masskg - d.masskg.mean())/d.masskg.std()\n",
    "d['brain_std'] = d.brainvolcc/max(d.brainvolcc)\n",
    "d"
   ]
  },
  {
   "cell_type": "code",
   "execution_count": 4,
   "metadata": {},
   "outputs": [
    {
     "data": {
      "image/png": "[encoded data removed]",
      "text/plain": [
       "<Figure size 432x288 with 1 Axes>"
      ]
     },
     "metadata": {
      "needs_background": "light"
     },
     "output_type": "display_data"
    }
   ],
   "source": [
    "plt.plot(d.mass_std, d.brain_std, 'o');"
   ]
  },
  {
   "cell_type": "code",
   "execution_count": 5,
   "metadata": {},
   "outputs": [
    {
     "name": "stderr",
     "output_type": "stream",
     "text": [
      "Auto-assigning NUTS sampler...\n",
      "Initializing NUTS using jitter+adapt_diag...\n",
      "Sequential sampling (1 chains in 1 job)\n",
      "NUTS: [sigma, beta_mass, alpha]\n",
      "100%|███████████████████████████████████████████████████████████████████████████| 10500/10500 [00:14<00:00, 733.14it/s]\n",
      "Only one chain was sampled, this makes it impossible to run some convergence checks\n"
     ]
    }
   ],
   "source": [
    "# R code 7.3\n",
    "# Simple, linear model that compares mass and brain size.\n",
    "with pm.Model() as m_7_1:\n",
    "    alpha = pm.Normal('alpha', mu=0.5, sd=1) \n",
    "    beta_mass = pm.Normal('beta_mass', mu=0, sd=10) \n",
    "    mu = pm.Deterministic('mu', alpha + beta_mass*d.mass_std)\n",
    "    sigma = pm.Lognormal('sigma', mu=0, sd=1)\n",
    "    brain = pm.Normal('brain', mu=mu, sd=sigma, observed=d.brain_std)\n",
    "    trace_7_1 = pm.sample(10000, chains=1) "
   ]
  },
  {
   "cell_type": "code",
   "execution_count": 6,
   "metadata": {},
   "outputs": [
    {
     "data": {
      "text/html": [
       "<div>\n",
       "<style scoped>\n",
       "    .dataframe tbody tr th:only-of-type {\n",
       "        vertical-align: middle;\n",
       "    }\n",
       "\n",
       "    .dataframe tbody tr th {\n",
       "        vertical-align: top;\n",
       "    }\n",
       "\n",
       "    .dataframe thead th {\n",
       "        text-align: right;\n",
       "    }\n",
       "</style>\n",
       "<table border=\"1\" class=\"dataframe\">\n",
       "  <thead>\n",
       "    <tr style=\"text-align: right;\">\n",
       "      <th></th>\n",
       "      <th>mean</th>\n",
       "      <th>sd</th>\n",
       "      <th>mc_error</th>\n",
       "      <th>hpd_5.5</th>\n",
       "      <th>hpd_94.5</th>\n",
       "    </tr>\n",
       "  </thead>\n",
       "  <tbody>\n",
       "    <tr>\n",
       "      <th>alpha</th>\n",
       "      <td>0.53</td>\n",
       "      <td>0.11</td>\n",
       "      <td>0.0</td>\n",
       "      <td>0.35</td>\n",
       "      <td>0.69</td>\n",
       "    </tr>\n",
       "    <tr>\n",
       "      <th>beta_mass</th>\n",
       "      <td>0.17</td>\n",
       "      <td>0.13</td>\n",
       "      <td>0.0</td>\n",
       "      <td>-0.03</td>\n",
       "      <td>0.34</td>\n",
       "    </tr>\n",
       "  </tbody>\n",
       "</table>\n",
       "</div>"
      ],
      "text/plain": [
       "           mean    sd  mc_error  hpd_5.5  hpd_94.5\n",
       "alpha      0.53  0.11       0.0     0.35      0.69\n",
       "beta_mass  0.17  0.13       0.0    -0.03      0.34"
      ]
     },
     "execution_count": 6,
     "metadata": {},
     "output_type": "execute_result"
    }
   ],
   "source": [
    "varnames = ['alpha','beta_mass']\n",
    "pm.summary(trace_7_1, var_names = varnames, alpha = 0.11).round(2)"
   ]
  },
  {
   "cell_type": "code",
   "execution_count": 7,
   "metadata": {},
   "outputs": [
    {
     "name": "stderr",
     "output_type": "stream",
     "text": [
      "Auto-assigning NUTS sampler...\n",
      "Initializing NUTS using jitter+adapt_diag...\n",
      "Sequential sampling (1 chains in 1 job)\n",
      "NUTS: [sigma, beta_mass, alpha]\n",
      "100%|███████████████████████████████████████████████████████████████████████████| 10500/10500 [00:18<00:00, 573.36it/s]\n",
      "There were 3 divergences after tuning. Increase `target_accept` or reparameterize.\n",
      "Only one chain was sampled, this makes it impossible to run some convergence checks\n"
     ]
    }
   ],
   "source": [
    "# R code 7.6\n",
    "# second-degree polynomial\n",
    "\n",
    "with pm.Model() as m_7_2:\n",
    "    alpha = pm.Normal('alpha', mu=0.5, sd=1) \n",
    "    beta_mass = pm.Normal('beta_mass', mu=0, sd=10, shape=2) \n",
    "    mu = pm.Deterministic('mu', alpha + beta_mass[0]*d.mass_std \n",
    "                          + beta_mass[1]*d.mass_std**2)\n",
    "    sigma = pm.Lognormal('sigma', mu=0, sd=1)\n",
    "    brain = pm.Normal('brain', mu=mu, sd=sigma, observed=d.brain_std)\n",
    "    trace_7_2 = pm.sample(10000, chains=1) "
   ]
  },
  {
   "cell_type": "code",
   "execution_count": 8,
   "metadata": {},
   "outputs": [
    {
     "name": "stderr",
     "output_type": "stream",
     "text": [
      "Auto-assigning NUTS sampler...\n",
      "Initializing NUTS using jitter+adapt_diag...\n",
      "Sequential sampling (1 chains in 1 job)\n",
      "NUTS: [sigma, beta_mass, alpha]\n",
      "100%|███████████████████████████████████████████████████████████████████████████| 10500/10500 [00:27<00:00, 380.65it/s]\n",
      "There were 72 divergences after tuning. Increase `target_accept` or reparameterize.\n",
      "Only one chain was sampled, this makes it impossible to run some convergence checks\n"
     ]
    }
   ],
   "source": [
    "with pm.Model() as m_7_3:\n",
    "    alpha = pm.Normal('alpha', mu=0.5, sd=1) \n",
    "    beta_mass = pm.Normal('beta_mass', mu=0, sd=10, shape=3) \n",
    "    mu = pm.Deterministic('mu', alpha + beta_mass[0]*d.mass_std \n",
    "                          + beta_mass[1]*d.mass_std**2 + beta_mass[2]*d.mass_std**3)\n",
    "    sigma = pm.Lognormal('sigma', mu=0, sd=1)\n",
    "    brain = pm.Normal('brain', mu=mu, sd=sigma, observed=d.brain_std)\n",
    "    trace_7_3 = pm.sample(10000, chains=1) "
   ]
  },
  {
   "cell_type": "code",
   "execution_count": 9,
   "metadata": {},
   "outputs": [
    {
     "name": "stderr",
     "output_type": "stream",
     "text": [
      "Auto-assigning NUTS sampler...\n",
      "Initializing NUTS using jitter+adapt_diag...\n",
      "Sequential sampling (1 chains in 1 job)\n",
      "NUTS: [sigma, beta_mass, alpha]\n",
      "100%|███████████████████████████████████████████████████████████████████████████| 10500/10500 [00:47<00:00, 223.02it/s]\n",
      "There were 1654 divergences after tuning. Increase `target_accept` or reparameterize.\n",
      "The acceptance probability does not match the target. It is 0.5551544318993467, but should be close to 0.8. Try to increase the number of tuning steps.\n",
      "Only one chain was sampled, this makes it impossible to run some convergence checks\n"
     ]
    }
   ],
   "source": [
    "with pm.Model() as m_7_4:\n",
    "    alpha = pm.Normal('alpha', mu=0.5, sd=1) \n",
    "    beta_mass = pm.Normal('beta_mass', mu=0, sd=10, shape=4) \n",
    "    mu = pm.Deterministic('mu', alpha + beta_mass[0]*d.mass_std \n",
    "                          + beta_mass[1]*d.mass_std**2 + beta_mass[2]*d.mass_std**3\n",
    "                         + beta_mass[3]*d.mass_std**4)\n",
    "    sigma = pm.Lognormal('sigma', mu=0, sd=1)\n",
    "    brain = pm.Normal('brain', mu=mu, sd=sigma, observed=d.brain_std)\n",
    "    trace_7_4 = pm.sample(10000, chains=1) "
   ]
  },
  {
   "cell_type": "code",
   "execution_count": 10,
   "metadata": {},
   "outputs": [
    {
     "name": "stderr",
     "output_type": "stream",
     "text": [
      "Auto-assigning NUTS sampler...\n",
      "Initializing NUTS using jitter+adapt_diag...\n",
      "Sequential sampling (1 chains in 1 job)\n",
      "NUTS: [sigma, beta_mass, alpha]\n",
      "100%|████████████████████████████████████████████████████████████████████████████| 10500/10500 [02:19<00:00, 75.29it/s]\n",
      "There were 1446 divergences after tuning. Increase `target_accept` or reparameterize.\n",
      "The acceptance probability does not match the target. It is 0.645830042561364, but should be close to 0.8. Try to increase the number of tuning steps.\n",
      "Only one chain was sampled, this makes it impossible to run some convergence checks\n"
     ]
    }
   ],
   "source": [
    "with pm.Model() as m_7_5:\n",
    "    alpha = pm.Normal('alpha', mu=0.5, sd=1) \n",
    "    beta_mass = pm.Normal('beta_mass', mu=0, sd=10, shape=5) \n",
    "    mu = pm.Deterministic('mu', alpha + beta_mass[0]*d.mass_std \n",
    "                          + beta_mass[1]*d.mass_std**2 + beta_mass[2]*d.mass_std**3\n",
    "                         + beta_mass[3]*d.mass_std**4 +beta_mass[4]*d.mass_std**5)\n",
    "    sigma = pm.Lognormal('sigma', mu=0, sd=1)\n",
    "    brain = pm.Normal('brain', mu=mu, sd=sigma, observed=d.brain_std)\n",
    "    trace_7_5 = pm.sample(10000, chains=1) "
   ]
  },
  {
   "cell_type": "code",
   "execution_count": 11,
   "metadata": {},
   "outputs": [
    {
     "name": "stderr",
     "output_type": "stream",
     "text": [
      "Auto-assigning NUTS sampler...\n",
      "Initializing NUTS using jitter+adapt_diag...\n",
      "Sequential sampling (1 chains in 1 job)\n",
      "NUTS: [beta_mass, alpha]\n",
      "100%|████████████████████████████████████████████████████████████████████████████| 10500/10500 [08:06<00:00, 16.11it/s]\n",
      "The acceptance probability does not match the target. It is 0.6484988498502707, but should be close to 0.8. Try to increase the number of tuning steps.\n",
      "The chain reached the maximum tree depth. Increase max_treedepth, increase target_accept or reparameterize.\n",
      "Only one chain was sampled, this makes it impossible to run some convergence checks\n"
     ]
    }
   ],
   "source": [
    "# R code 7.8 - sigma = 0.001 (forced)\n",
    "with pm.Model() as m_7_6:\n",
    "    alpha = pm.Normal('alpha', mu=0.5, sd=1) \n",
    "    beta_mass = pm.Normal('beta_mass', mu=0, sd=10, shape=6) \n",
    "    mu = pm.Deterministic('mu', alpha + beta_mass[0]*d.mass_std \n",
    "                          + beta_mass[1]*d.mass_std**2 + beta_mass[2]*d.mass_std**3\n",
    "                         + beta_mass[3]*d.mass_std**4 +beta_mass[4]*d.mass_std**5\n",
    "                         + beta_mass[5]*d.mass_std**6)\n",
    "    sigma = 0.001\n",
    "    brain = pm.Normal('brain', mu=mu, sd=sigma, observed=d.brain_std)\n",
    "    trace_7_6 = pm.sample(10000, chains=1) "
   ]
  },
  {
   "cell_type": "code",
   "execution_count": 12,
   "metadata": {},
   "outputs": [
    {
     "data": {
      "text/plain": [
       "(10000,)"
      ]
     },
     "execution_count": 12,
     "metadata": {},
     "output_type": "execute_result"
    }
   ],
   "source": [
    "trace_7_1['mu'].shape  # >(10000, 7) one row for each posterior sample, one column for each\n",
    "# piece of data\n",
    "\n",
    "trace_7_1['mu'].mean(1).shape # > (10000,) this calculates the mean mu for each sample.\n",
    "\n",
    "trace_7_1['beta_mass'].shape # (10000, )\n",
    "trace_7_2['beta_mass'].shape # (10000, 2)\n",
    "trace_7_2['beta_mass'][0].shape # (2, )\n",
    "trace_7_2['beta_mass'][:,0].shape # (10000, )\n"
   ]
  },
  {
   "cell_type": "code",
   "execution_count": 13,
   "metadata": {},
   "outputs": [
    {
     "data": {
      "image/png": "[encoded data removed]",
      "text/plain": [
       "<Figure size 864x864 with 6 Axes>"
      ]
     },
     "metadata": {
      "needs_background": "light"
     },
     "output_type": "display_data"
    }
   ],
   "source": [
    "x=np.linspace(-1.2,1.6,10000)\n",
    "f = plt.figure(figsize=(12,12))\n",
    "\n",
    "ax1=f.add_subplot(321)\n",
    "ax1.plot(d.mass_std, d.brain_std, 'o')\n",
    "mu_pred = trace_7_1['alpha'] + trace_7_1['beta_mass'] * x[:,None]\n",
    "ax1.plot(x, mu_pred.mean(1), 'C0')\n",
    "mu_hpd = pm.hpd(mu_pred.T)\n",
    "ax1.fill_between(x, mu_hpd[:,0], mu_hpd[:,1], color='C2', alpha=0.25)\n",
    "\n",
    "ax2=f.add_subplot(322)\n",
    "ax2.plot(d.mass_std, d.brain_std, 'o')\n",
    "mu_pred = (trace_7_2['alpha'] + trace_7_2['beta_mass'][:,0]* x[:,None] \n",
    "           + trace_7_2['beta_mass'][:,1] * x[:,None]**2)\n",
    "ax2.plot(x, mu_pred.mean(1), 'C0')\n",
    "mu_hpd = pm.hpd(mu_pred.T)\n",
    "ax2.fill_between(x, mu_hpd[:,0], mu_hpd[:,1], color='C2', alpha=0.25)\n",
    "\n",
    "ax3=f.add_subplot(323)\n",
    "ax3.plot(d.mass_std, d.brain_std, 'o')\n",
    "mu_pred = (trace_7_3['alpha'] + trace_7_3['beta_mass'][:,0]* x[:,None] \n",
    "           + trace_7_3['beta_mass'][:,1] * x[:,None]**2 \n",
    "           + trace_7_3['beta_mass'][:,2] * x[:,None]**3)\n",
    "ax3.plot(x, mu_pred.mean(1), 'C0')\n",
    "mu_hpd = pm.hpd(mu_pred.T)\n",
    "ax3.fill_between(x, mu_hpd[:,0], mu_hpd[:,1], color='C2', alpha=0.25)\n",
    "\n",
    "ax4=f.add_subplot(324)\n",
    "ax4.plot(d.mass_std, d.brain_std, 'o')\n",
    "mu_pred = (trace_7_4['alpha'] + trace_7_4['beta_mass'][:,0]* x[:,None] \n",
    "           + trace_7_4['beta_mass'][:,1] * x[:,None]**2 \n",
    "           + trace_7_4['beta_mass'][:,2] * x[:,None]**3\n",
    "           + trace_7_4['beta_mass'][:,3] * x[:,None]**4)\n",
    "ax4.plot(x, mu_pred.mean(1), 'C0')\n",
    "mu_hpd = pm.hpd(mu_pred.T)\n",
    "ax4.fill_between(x, mu_hpd[:,0], mu_hpd[:,1], color='C2', alpha=0.25)\n",
    "\n",
    "ax5=f.add_subplot(325)\n",
    "ax5.plot(d.mass_std, d.brain_std, 'o')\n",
    "mu_pred = (trace_7_5['alpha'] + trace_7_5['beta_mass'][:,0]* x[:,None] \n",
    "           + trace_7_5['beta_mass'][:,1] * x[:,None]**2 \n",
    "           + trace_7_5['beta_mass'][:,2] * x[:,None]**3\n",
    "           + trace_7_5['beta_mass'][:,3] * x[:,None]**4\n",
    "           + trace_7_5['beta_mass'][:,4] * x[:,None]**5)\n",
    "ax5.plot(x, mu_pred.mean(1), 'C0')\n",
    "mu_hpd = pm.hpd(mu_pred.T)\n",
    "ax5.fill_between(x, mu_hpd[:,0], mu_hpd[:,1], color='C2', alpha=0.25)\n",
    "\n",
    "ax6=f.add_subplot(326)\n",
    "ax6.plot(d.mass_std, d.brain_std, 'o')\n",
    "mu_pred = (trace_7_6['alpha'] + trace_7_6['beta_mass'][:,0]* x[:,None] \n",
    "           + trace_7_6['beta_mass'][:,1] * x[:,None]**2 \n",
    "           + trace_7_6['beta_mass'][:,2] * x[:,None]**3\n",
    "           + trace_7_6['beta_mass'][:,3] * x[:,None]**4\n",
    "           + trace_7_6['beta_mass'][:,4] * x[:,None]**5\n",
    "           + trace_7_6['beta_mass'][:,5] * x[:,None]**6)\n",
    "ax6.plot(x, mu_pred.mean(1), 'C0')\n",
    "mu_hpd = pm.hpd(mu_pred.T)\n",
    "ax6.fill_between(x, mu_hpd[:,0], mu_hpd[:,1], color='C2', alpha=0.25);\n",
    "\n",
    "# Overfitting is bad. There's something wrong with the sixth graph, probably having to do\n",
    "# with the sigma value and how PyMC3 differs from R, but I'm not going to worry about it."
   ]
  },
  {
   "cell_type": "code",
   "execution_count": 14,
   "metadata": {},
   "outputs": [
    {
     "name": "stderr",
     "output_type": "stream",
     "text": [
      "Auto-assigning NUTS sampler...\n",
      "Initializing NUTS using jitter+adapt_diag...\n",
      "Sequential sampling (1 chains in 1 job)\n",
      "NUTS: [sigma, alpha]\n",
      "100%|██████████████████████████████████████████████████████████████████████████| 10500/10500 [00:06<00:00, 1582.73it/s]\n",
      "Only one chain was sampled, this makes it impossible to run some convergence checks\n"
     ]
    }
   ],
   "source": [
    "# R code 7.11\n",
    "with pm.Model() as m_7_7:\n",
    "    alpha = pm.Normal('alpha', mu=0.5, sd=1) \n",
    "    mu = pm.Deterministic('mu', alpha)\n",
    "    sigma = pm.Lognormal('sigma', mu=0, sd=1)\n",
    "    brain = pm.Normal('brain', mu=mu, sd=sigma, observed=d.brain_std)\n",
    "    trace_7_7 = pm.sample(10000, chains=1) "
   ]
  },
  {
   "cell_type": "code",
   "execution_count": 15,
   "metadata": {},
   "outputs": [
    {
     "data": {
      "image/png": "[encoded data removed]",
      "text/plain": [
       "<Figure size 432x288 with 1 Axes>"
      ]
     },
     "metadata": {
      "needs_background": "light"
     },
     "output_type": "display_data"
    }
   ],
   "source": [
    "# Figure 7.4\n",
    "x=np.linspace(-1.2,1.6,10000)\n",
    "\n",
    "plt.plot(d.mass_std, d.brain_std, 'o')\n",
    "mu_pred = trace_7_7['alpha'] + 0* x[:,None] # there has to be a better way to do this part.\n",
    "plt.plot(x, mu_pred.mean(1), 'C0')\n",
    "mu_hpd = pm.hpd(mu_pred.T, alpha=0.11)\n",
    "plt.fill_between(x, mu_hpd[:,0], mu_hpd[:,1], color='C2', alpha=0.25);"
   ]
  },
  {
   "cell_type": "code",
   "execution_count": 16,
   "metadata": {},
   "outputs": [
    {
     "name": "stderr",
     "output_type": "stream",
     "text": [
      "C:\\Users\\mviotti\\AppData\\Local\\Continuum\\anaconda3\\envs\\stats\\lib\\site-packages\\pymc3\\stats.py:168: FutureWarning: arrays to stack must be passed as a \"sequence\" type such as list or tuple. Support for non-sequence iterables such as generators is deprecated as of NumPy 1.16 and will raise an error in the future.\n",
      "  return np.stack(logp)\n",
      "C:\\Users\\mviotti\\AppData\\Local\\Continuum\\anaconda3\\envs\\stats\\lib\\site-packages\\pymc3\\stats.py:219: UserWarning: For one or more samples the posterior variance of the\n",
      "        log predictive densities exceeds 0.4. This could be indication of\n",
      "        WAIC starting to fail see http://arxiv.org/abs/1507.04544 for details\n",
      "        \n",
      "  \"\"\")\n"
     ]
    },
    {
     "data": {
      "text/plain": [
       "1.9193504571006468"
      ]
     },
     "execution_count": 16,
     "metadata": {},
     "output_type": "execute_result"
    }
   ],
   "source": [
    "# R code 7.14\n",
    "\n",
    "waic_7_1 = pm.waic(trace_7_1, m_7_1)\n",
    "waic_7_1.WAIC"
   ]
  },
  {
   "cell_type": "code",
   "execution_count": 295,
   "metadata": {},
   "outputs": [],
   "source": [
    "# R code 7.20\n",
    "# I think this part is going to be important to understand.\n",
    "d1 = pd.read_csv('Data/cars.csv', sep=',', header=0)"
   ]
  },
  {
   "cell_type": "code",
   "execution_count": 275,
   "metadata": {
    "scrolled": true
   },
   "outputs": [
    {
     "name": "stderr",
     "output_type": "stream",
     "text": [
      "Auto-assigning NUTS sampler...\n",
      "Initializing NUTS using jitter+adapt_diag...\n",
      "Sequential sampling (1 chains in 1 job)\n",
      "NUTS: [sigma, beta, alpha]\n",
      "100%|█████████████████████████████████████████████████████████████████████████████| 1500/1500 [00:01<00:00, 830.93it/s]\n",
      "Only one chain was sampled, this makes it impossible to run some convergence checks\n"
     ]
    }
   ],
   "source": [
    "# Creating the model - standard stuff.\n",
    "with pm.Model() as m_7_8:\n",
    "    alpha = pm.Normal('alpha', mu=0, sd=100) \n",
    "    beta = pm.Normal('beta', mu=0, sd=10)\n",
    "    mu = pm.Deterministic('mu', alpha + beta*d1.speed)\n",
    "    sigma = pm.Lognormal('sigma', mu=0, sd=1)\n",
    "    distance = pm.Normal('distance', mu=mu, sd=sigma, observed=d1.dist)\n",
    "    trace_7_8 = pm.sample(1000, chains=1) "
   ]
  },
  {
   "cell_type": "code",
   "execution_count": 276,
   "metadata": {},
   "outputs": [
    {
     "data": {
      "image/png": "[encoded data removed]",
      "text/plain": [
       "<Figure size 432x288 with 1 Axes>"
      ]
     },
     "metadata": {
      "needs_background": "light"
     },
     "output_type": "display_data"
    }
   ],
   "source": [
    "# Let's visualize the data and prediction.\n",
    "\n",
    "mu_mean = trace_7_8['mu']\n",
    "mu_hpd = pm.hpd(mu_mean, alpha=0.03)\n",
    "x = np.linspace(4, 25, 1000)\n",
    "plt.plot(d1.speed, d1.dist, 'o')\n",
    "plt.plot(x, trace_7_8['alpha'].mean() + trace_7_8['beta'].mean()*x)\n",
    "\n",
    "idx = np.argsort(d1.speed)\n",
    "plt.fill_between(d1.speed, mu_hpd[:,0][idx], mu_hpd[:,1][idx], color='C2', alpha=0.25)\n",
    "\n",
    "plt.xlabel('Speed', fontsize=14)\n",
    "plt.ylabel('Distance', fontsize=14);\n"
   ]
  },
  {
   "cell_type": "code",
   "execution_count": 277,
   "metadata": {},
   "outputs": [],
   "source": [
    "# R code 7.21\n",
    "# https://github.com/aloctavodia/Statistical-Rethinking-with-Python-and-PyMC3/blob/master/Chp_06.ipynb\n",
    "n_samples = 1000\n",
    "n_observations = d1.shape[0]\n",
    "logp = np.zeros((n_observations, n_samples))\n",
    "\n",
    "# What we're going to do now is, for each sample from the posterior, work out the log \n",
    "# likelihood of each observation in the initial data set. That is, we're measuring how\n",
    "# consistent the initial data set is with the model. We know the answer is \"pretty\n",
    "# good,\" because that's why the model came up with the coefficients it did. But now \n",
    "# we're quantifying \"pretty good.\"\n",
    "\n",
    "for s in range(0,n_samples): # for each sample from the posterior we're checking\n",
    "    mu = trace_7_8['alpha'][s] + trace_7_8['beta'][s] * d1['speed'] # returns a 50x1 array, one column for each data point, of the predicted distance given the speed\n",
    "    p_ = stats.norm.logpdf(d1['dist'], loc=mu, scale=trace_7_8['sigma'][s]) # this is the way of getting the log value of the prediction. It must be a distribution, because everything in this world is a distribution.\n",
    "    logp[:,s] = p_ # we end up with each row being a data point, and each column being a sample"
   ]
  },
  {
   "cell_type": "code",
   "execution_count": 278,
   "metadata": {},
   "outputs": [
    {
     "data": {
      "text/plain": [
       "-202.7077385969985"
      ]
     },
     "execution_count": 278,
     "metadata": {},
     "output_type": "execute_result"
    }
   ],
   "source": [
    "# R code 7.22\n",
    "\n",
    "from scipy.special import logsumexp\n",
    "\n",
    "n_cases = d1.shape[0] # number of rows in d1, e.g. number of data points\n",
    "lppd = np.zeros((n_cases)) # I still don't understand why we have to fill this thing with zeros - maybe it's cleaner than just doing append\n",
    "for a in range(1, n_cases):\n",
    "    lppd[a,] = logsumexp(logp[a,]) - np.log(n_samples) # We have to do the averaging on the log scale. Not sure why - probably some computer science reason.\n",
    "lppd.sum()"
   ]
  },
  {
   "cell_type": "code",
   "execution_count": 279,
   "metadata": {},
   "outputs": [],
   "source": [
    "# R code 7.23\n",
    "# Now computing the penalty term.\n",
    "pWAIC = np.zeros((n_cases))\n",
    "for a in range(1, n_cases):\n",
    "    pWAIC[a] = np.var(logp[a]) # This just computes the variance of each row in logp."
   ]
  },
  {
   "cell_type": "code",
   "execution_count": 280,
   "metadata": {},
   "outputs": [
    {
     "data": {
      "text/plain": [
       "412.90737653352744"
      ]
     },
     "execution_count": 280,
     "metadata": {},
     "output_type": "execute_result"
    }
   ],
   "source": [
    "# R code 7.24\n",
    "# Computing WAIC:\n",
    "WAIC = -2*(lppd.sum() - pWAIC.sum())\n",
    "WAIC"
   ]
  },
  {
   "cell_type": "code",
   "execution_count": null,
   "metadata": {},
   "outputs": [],
   "source": []
  },
  {
   "cell_type": "code",
   "execution_count": 281,
   "metadata": {},
   "outputs": [
    {
     "data": {
      "text/plain": [
       "16.129808026585668"
      ]
     },
     "execution_count": 281,
     "metadata": {},
     "output_type": "execute_result"
    }
   ],
   "source": [
    "# R code 7.25\n",
    "# There will be variance in the above result due to sampling from the posterior, but the variance is\n",
    "# smaller than the standard error of WAIC itself, as shown below:\n",
    "WAIC_vector = -2*(lppd - pWAIC)\n",
    "np.sqrt(n_cases*np.var(WAIC_vector))"
   ]
  },
  {
   "cell_type": "code",
   "execution_count": 282,
   "metadata": {},
   "outputs": [
    {
     "name": "stderr",
     "output_type": "stream",
     "text": [
      "C:\\Users\\mikev\\Anaconda3\\envs\\stats\\lib\\site-packages\\pymc3\\stats.py:168: FutureWarning: arrays to stack must be passed as a \"sequence\" type such as list or tuple. Support for non-sequence iterables such as generators is deprecated as of NumPy 1.16 and will raise an error in the future.\n",
      "  return np.stack(logp)\n",
      "C:\\Users\\mikev\\Anaconda3\\envs\\stats\\lib\\site-packages\\pymc3\\stats.py:219: UserWarning: For one or more samples the posterior variance of the\n",
      "        log predictive densities exceeds 0.4. This could be indication of\n",
      "        WAIC starting to fail see http://arxiv.org/abs/1507.04544 for details\n",
      "        \n",
      "  \"\"\")\n"
     ]
    },
    {
     "data": {
      "text/plain": [
       "420.3744720949668"
      ]
     },
     "execution_count": 282,
     "metadata": {},
     "output_type": "execute_result"
    }
   ],
   "source": [
    "# All of the above stuff was an exercise, as we can get everything we need from a PyMC3 method easily:\n",
    "cars_waic = pm.waic(trace_7_8, m_7_8)\n",
    "cars_waic.WAIC\n",
    "# The fact that this number differs from the one above isn't concerning. Absolute WAIC isn't important. \n",
    "# We only care about the WAIC scores for competing models."
   ]
  },
  {
   "cell_type": "code",
   "execution_count": 26,
   "metadata": {},
   "outputs": [
    {
     "name": "stderr",
     "output_type": "stream",
     "text": [
      "Auto-assigning NUTS sampler...\n",
      "Initializing NUTS using jitter+adapt_diag...\n",
      "Sequential sampling (1 chains in 1 job)\n",
      "NUTS: [sigma, proportion]\n",
      "100%|████████████████████████████████████████████████████████████████████████████| 2000/2000 [00:01<00:00, 1480.79it/s]\n",
      "Only one chain was sampled, this makes it impossible to run some convergence checks\n",
      "Auto-assigning NUTS sampler...\n",
      "Initializing NUTS using jitter+adapt_diag...\n",
      "Sequential sampling (1 chains in 1 job)\n",
      "NUTS: [sigma, beta_fungus, beta_treatment, alpha]\n",
      "100%|█████████████████████████████████████████████████████████████████████████████| 2000/2000 [00:02<00:00, 844.19it/s]\n",
      "Only one chain was sampled, this makes it impossible to run some convergence checks\n",
      "Auto-assigning NUTS sampler...\n",
      "Initializing NUTS using jitter+adapt_diag...\n",
      "Sequential sampling (1 chains in 1 job)\n",
      "NUTS: [sigma, beta_treatment, alpha]\n",
      "100%|█████████████████████████████████████████████████████████████████████████████| 2000/2000 [00:02<00:00, 831.12it/s]\n",
      "Only one chain was sampled, this makes it impossible to run some convergence checks\n"
     ]
    }
   ],
   "source": [
    "# Bringing lots of code from chapter 6 to help with the next bit\n",
    "\n",
    "#R code 6.14\n",
    "\n",
    "N = 100 # number of plants\n",
    "h_0 = stats.norm.rvs(loc=10, scale=2, size = N) #simulate initial heights\n",
    "treatment = np.repeat([0,1], [N/2]) #treat half the plants\n",
    "fungus = stats.binom.rvs(size = N, n=1, p=(0.5 -  treatment*0.4)) # fungus results\n",
    "h_1 = h_0 + stats.norm.rvs(size=N, loc=(5-3*fungus)) #final height\n",
    "d = pd.DataFrame({'h_0': h_0,\n",
    "                  'h_1': h_1,\n",
    "                  'treatment':treatment,\n",
    "                  'fungus': fungus})\n",
    "\n",
    "#this 'data' will inform our priors for the next model\n",
    "\n",
    "#R code 6.16\n",
    "with pm.Model() as m_6_6:\n",
    "    p = pm.Lognormal('proportion', mu=0, sd=0.25) \n",
    "    mu = pm.Deterministic('mu', p*d.h_0)\n",
    "    sigma = pm.Exponential('sigma', 1)\n",
    "    h_1 = pm.Normal('h_1', mu=mu, sd=sigma, observed=d.h_1)\n",
    "    trace_6_6 = pm.sample(1000, tune=1000, chains=1) \n",
    "    \n",
    "#R code 6.17\n",
    "with pm.Model() as m_6_7:\n",
    "    alpha = pm.Lognormal('alpha', mu=0, sd=0.25) #note alpha here is the old p\n",
    "    beta_treatment = pm.Normal('beta_treatment', mu=0, sd=0.5) \n",
    "    beta_fungus = pm.Normal('beta_fungus', mu=0, sd=0.5) \n",
    "    p = pm.Deterministic('proportion', alpha + beta_treatment * d.treatment + beta_fungus * d.fungus)\n",
    "    mu = pm.Deterministic('mu', p*d.h_0)\n",
    "    sigma = pm.Exponential('sigma', 1)\n",
    "    h_1 = pm.Normal('h_1', mu=mu, sd=sigma, observed=d.h_1)\n",
    "    trace_6_7 = pm.sample(1000, tune=1000, chains=1) \n",
    "\n",
    "with pm.Model() as m_6_8:\n",
    "    alpha = pm.Lognormal('alpha', mu=0, sd=0.25) #note alpha here is the old p\n",
    "    beta_treatment = pm.Normal('beta_treatment', mu=0, sd=0.5) \n",
    "    p = pm.Deterministic('proportion', alpha + beta_treatment * d.treatment)\n",
    "    mu = pm.Deterministic('mu', p*d.h_0)\n",
    "    sigma = pm.Exponential('sigma', 1)\n",
    "    h_1 = pm.Normal('h_1', mu=mu, sd=sigma, observed=d.h_1)\n",
    "    trace_6_8 = pm.sample(1000, tune=1000, chains=1) "
   ]
  },
  {
   "cell_type": "code",
   "execution_count": 27,
   "metadata": {},
   "outputs": [
    {
     "name": "stderr",
     "output_type": "stream",
     "text": [
      "C:\\Users\\mviotti\\AppData\\Local\\Continuum\\anaconda3\\envs\\stats\\lib\\site-packages\\pymc3\\stats.py:168: FutureWarning: arrays to stack must be passed as a \"sequence\" type such as list or tuple. Support for non-sequence iterables such as generators is deprecated as of NumPy 1.16 and will raise an error in the future.\n",
      "  return np.stack(logp)\n",
      "C:\\Users\\mviotti\\AppData\\Local\\Continuum\\anaconda3\\envs\\stats\\lib\\site-packages\\pymc3\\stats.py:168: FutureWarning: arrays to stack must be passed as a \"sequence\" type such as list or tuple. Support for non-sequence iterables such as generators is deprecated as of NumPy 1.16 and will raise an error in the future.\n",
      "  return np.stack(logp)\n",
      "C:\\Users\\mviotti\\AppData\\Local\\Continuum\\anaconda3\\envs\\stats\\lib\\site-packages\\pymc3\\stats.py:219: UserWarning: For one or more samples the posterior variance of the\n",
      "        log predictive densities exceeds 0.4. This could be indication of\n",
      "        WAIC starting to fail see http://arxiv.org/abs/1507.04544 for details\n",
      "        \n",
      "  \"\"\")\n",
      "C:\\Users\\mviotti\\AppData\\Local\\Continuum\\anaconda3\\envs\\stats\\lib\\site-packages\\pymc3\\stats.py:168: FutureWarning: arrays to stack must be passed as a \"sequence\" type such as list or tuple. Support for non-sequence iterables such as generators is deprecated as of NumPy 1.16 and will raise an error in the future.\n",
      "  return np.stack(logp)\n",
      "C:\\Users\\mviotti\\AppData\\Local\\Continuum\\anaconda3\\envs\\stats\\lib\\site-packages\\pymc3\\stats.py:219: UserWarning: For one or more samples the posterior variance of the\n",
      "        log predictive densities exceeds 0.4. This could be indication of\n",
      "        WAIC starting to fail see http://arxiv.org/abs/1507.04544 for details\n",
      "        \n",
      "  \"\"\")\n"
     ]
    },
    {
     "data": {
      "text/html": [
       "<div>\n",
       "<style scoped>\n",
       "    .dataframe tbody tr th:only-of-type {\n",
       "        vertical-align: middle;\n",
       "    }\n",
       "\n",
       "    .dataframe tbody tr th {\n",
       "        vertical-align: top;\n",
       "    }\n",
       "\n",
       "    .dataframe thead th {\n",
       "        text-align: right;\n",
       "    }\n",
       "</style>\n",
       "<table border=\"1\" class=\"dataframe\">\n",
       "  <thead>\n",
       "    <tr style=\"text-align: right;\">\n",
       "      <th></th>\n",
       "      <th>WAIC</th>\n",
       "      <th>pWAIC</th>\n",
       "      <th>dWAIC</th>\n",
       "      <th>weight</th>\n",
       "      <th>SE</th>\n",
       "      <th>dSE</th>\n",
       "      <th>var_warn</th>\n",
       "    </tr>\n",
       "  </thead>\n",
       "  <tbody>\n",
       "    <tr>\n",
       "      <th>treatment and fungus</th>\n",
       "      <td>334.68</td>\n",
       "      <td>3.64</td>\n",
       "      <td>0</td>\n",
       "      <td>0.97</td>\n",
       "      <td>14.43</td>\n",
       "      <td>0</td>\n",
       "      <td>1</td>\n",
       "    </tr>\n",
       "    <tr>\n",
       "      <th>treatment only</th>\n",
       "      <td>403.31</td>\n",
       "      <td>2.77</td>\n",
       "      <td>68.63</td>\n",
       "      <td>0.03</td>\n",
       "      <td>13.49</td>\n",
       "      <td>15.49</td>\n",
       "      <td>1</td>\n",
       "    </tr>\n",
       "    <tr>\n",
       "      <th>only height dependency</th>\n",
       "      <td>414.5</td>\n",
       "      <td>1.55</td>\n",
       "      <td>79.82</td>\n",
       "      <td>0</td>\n",
       "      <td>10.98</td>\n",
       "      <td>14.12</td>\n",
       "      <td>0</td>\n",
       "    </tr>\n",
       "  </tbody>\n",
       "</table>\n",
       "</div>"
      ],
      "text/plain": [
       "                          WAIC pWAIC  dWAIC weight     SE    dSE var_warn\n",
       "treatment and fungus    334.68  3.64      0   0.97  14.43      0        1\n",
       "treatment only          403.31  2.77  68.63   0.03  13.49  15.49        1\n",
       "only height dependency   414.5  1.55  79.82      0  10.98  14.12        0"
      ]
     },
     "execution_count": 27,
     "metadata": {},
     "output_type": "execute_result"
    }
   ],
   "source": [
    "# R code 7.26 and 7.27\n",
    "\n",
    "m_6_6.name = 'only height dependency'\n",
    "m_6_7.name = 'treatment and fungus'\n",
    "m_6_8.name = 'treatment only'\n",
    "df_comp_WAIC = pm.compare({m_6_6: trace_6_6, m_6_7: trace_6_7, m_6_8: trace_6_8})\n",
    "df_comp_WAIC"
   ]
  },
  {
   "cell_type": "code",
   "execution_count": 28,
   "metadata": {},
   "outputs": [
    {
     "data": {
      "image/png": "[encoded data removed]",
      "text/plain": [
       "<Figure size 432x216 with 1 Axes>"
      ]
     },
     "metadata": {
      "needs_background": "light"
     },
     "output_type": "display_data"
    }
   ],
   "source": [
    "# R code 7.30\n",
    "\n",
    "pm.compareplot(df_comp_WAIC);"
   ]
  },
  {
   "cell_type": "code",
   "execution_count": 29,
   "metadata": {},
   "outputs": [],
   "source": [
    "# R code 7.33\n",
    "\n",
    "d2 = pd.read_csv('Data/primates301.csv', sep=';', header=0)"
   ]
  },
  {
   "cell_type": "code",
   "execution_count": 30,
   "metadata": {},
   "outputs": [],
   "source": [
    "# R code 7.34\n",
    "\n",
    "d2['log_L']=(np.log(d2.longevity) - np.log(d2.longevity).mean())/np.log(d2.longevity).std()\n",
    "d2['log_B']=(np.log(d2.brain) - np.log(d2.brain).mean())/np.log(d2.brain).std()\n",
    "d2['log_M']=(np.log(d2.body) - np.log(d2.body).mean())/np.log(d2.body).std()"
   ]
  },
  {
   "cell_type": "code",
   "execution_count": 31,
   "metadata": {},
   "outputs": [
    {
     "data": {
      "text/plain": [
       "name                     0\n",
       "genus                    0\n",
       "species                  0\n",
       "subspecies             267\n",
       "spp_id                   0\n",
       "genus_id                 0\n",
       "social_learning         98\n",
       "research_effort        115\n",
       "brain                  117\n",
       "body                    63\n",
       "group_size             114\n",
       "gestation              161\n",
       "weaning                185\n",
       "longevity              181\n",
       "sex_maturity           194\n",
       "maternal_investment    197\n",
       "log_L                  181\n",
       "log_B                  117\n",
       "log_M                   63\n",
       "dtype: int64"
      ]
     },
     "execution_count": 31,
     "metadata": {},
     "output_type": "execute_result"
    }
   ],
   "source": [
    "# R code 7.35\n",
    "d2.isnull().sum()\n",
    "# I'm sure there's a way to return only values for certain columns"
   ]
  },
  {
   "cell_type": "code",
   "execution_count": 32,
   "metadata": {},
   "outputs": [],
   "source": [
    "# R code 7.36\n",
    "d2 = d2.drop(d2[d2['brain'].isnull()].index)\n",
    "d2 = d2.drop(d2[d2['body'].isnull()].index)\n",
    "d2 = d2.drop(d2[d2['longevity'].isnull()].index)"
   ]
  },
  {
   "cell_type": "code",
   "execution_count": 33,
   "metadata": {},
   "outputs": [
    {
     "name": "stderr",
     "output_type": "stream",
     "text": [
      "Auto-assigning NUTS sampler...\n",
      "Initializing NUTS using jitter+adapt_diag...\n",
      "Sequential sampling (1 chains in 1 job)\n",
      "NUTS: [sigma, beta_M, beta_B, alpha]\n",
      "100%|█████████████████████████████████████████████████████████████████████████████| 6000/6000 [00:12<00:00, 463.25it/s]\n",
      "Only one chain was sampled, this makes it impossible to run some convergence checks\n"
     ]
    }
   ],
   "source": [
    "# R code 7.37\n",
    "with pm.Model() as m_7_8:\n",
    "    alpha = pm.Normal('alpha', mu=0, sd=0.1) \n",
    "    beta_B = pm.Normal('beta_B', mu=0, sd=0.5) \n",
    "    beta_M = pm.Normal('beta_M', mu=0, sd=0.5) \n",
    "    mu = pm.Deterministic('mu', alpha + beta_B * d2.log_B + beta_M * d2.log_M)\n",
    "    sigma = pm.Exponential('sigma', 1)\n",
    "    log_L = pm.Normal('log_L', mu=mu, sd=sigma, observed=d2.log_L)\n",
    "    trace_7_8 = pm.sample(5000, tune=1000, chains=1) "
   ]
  },
  {
   "cell_type": "code",
   "execution_count": 34,
   "metadata": {},
   "outputs": [
    {
     "name": "stderr",
     "output_type": "stream",
     "text": [
      "Auto-assigning NUTS sampler...\n",
      "Initializing NUTS using jitter+adapt_diag...\n",
      "Sequential sampling (1 chains in 1 job)\n",
      "NUTS: [sigma, beta_B, alpha]\n",
      "100%|████████████████████████████████████████████████████████████████████████████| 6000/6000 [00:04<00:00, 1234.88it/s]\n",
      "Only one chain was sampled, this makes it impossible to run some convergence checks\n",
      "Auto-assigning NUTS sampler...\n",
      "Initializing NUTS using jitter+adapt_diag...\n",
      "Sequential sampling (1 chains in 1 job)\n",
      "NUTS: [sigma, beta_M, alpha]\n",
      "100%|████████████████████████████████████████████████████████████████████████████| 6000/6000 [00:04<00:00, 1269.40it/s]\n",
      "Only one chain was sampled, this makes it impossible to run some convergence checks\n"
     ]
    }
   ],
   "source": [
    "# R code 7.38\n",
    "with pm.Model() as m_7_9:\n",
    "    alpha = pm.Normal('alpha', mu=0, sd=0.1) \n",
    "    beta_B = pm.Normal('beta_B', mu=0, sd=0.5) \n",
    "    mu = pm.Deterministic('mu', alpha + beta_B * d2.log_B)\n",
    "    sigma = pm.Exponential('sigma', 1)\n",
    "    log_L = pm.Normal('log_L', mu=mu, sd=sigma, observed=d2.log_L)\n",
    "    trace_7_9 = pm.sample(5000, tune=1000, chains=1) \n",
    "    \n",
    "with pm.Model() as m_7_10:\n",
    "    alpha = pm.Normal('alpha', mu=0, sd=0.1) \n",
    "    beta_M = pm.Normal('beta_M', mu=0, sd=0.5) \n",
    "    mu = pm.Deterministic('mu', alpha + beta_M * d2.log_M)\n",
    "    sigma = pm.Exponential('sigma', 1)\n",
    "    log_L = pm.Normal('log_L', mu=mu, sd=sigma, observed=d2.log_L)\n",
    "    trace_7_10= pm.sample(5000, tune=1000, chains=1) "
   ]
  },
  {
   "cell_type": "code",
   "execution_count": 35,
   "metadata": {},
   "outputs": [
    {
     "name": "stderr",
     "output_type": "stream",
     "text": [
      "C:\\Users\\mviotti\\AppData\\Local\\Continuum\\anaconda3\\envs\\stats\\lib\\site-packages\\pymc3\\stats.py:168: FutureWarning: arrays to stack must be passed as a \"sequence\" type such as list or tuple. Support for non-sequence iterables such as generators is deprecated as of NumPy 1.16 and will raise an error in the future.\n",
      "  return np.stack(logp)\n"
     ]
    },
    {
     "data": {
      "text/html": [
       "<div>\n",
       "<style scoped>\n",
       "    .dataframe tbody tr th:only-of-type {\n",
       "        vertical-align: middle;\n",
       "    }\n",
       "\n",
       "    .dataframe tbody tr th {\n",
       "        vertical-align: top;\n",
       "    }\n",
       "\n",
       "    .dataframe thead th {\n",
       "        text-align: right;\n",
       "    }\n",
       "</style>\n",
       "<table border=\"1\" class=\"dataframe\">\n",
       "  <thead>\n",
       "    <tr style=\"text-align: right;\">\n",
       "      <th></th>\n",
       "      <th>WAIC</th>\n",
       "      <th>pWAIC</th>\n",
       "      <th>dWAIC</th>\n",
       "      <th>weight</th>\n",
       "      <th>SE</th>\n",
       "      <th>dSE</th>\n",
       "      <th>var_warn</th>\n",
       "    </tr>\n",
       "  </thead>\n",
       "  <tbody>\n",
       "    <tr>\n",
       "      <th>both beta_B and beta_M</th>\n",
       "      <td>216.08</td>\n",
       "      <td>3.23</td>\n",
       "      <td>0</td>\n",
       "      <td>0.55</td>\n",
       "      <td>14.02</td>\n",
       "      <td>0</td>\n",
       "      <td>0</td>\n",
       "    </tr>\n",
       "    <tr>\n",
       "      <th>beta_B only</th>\n",
       "      <td>216.13</td>\n",
       "      <td>2.35</td>\n",
       "      <td>0.05</td>\n",
       "      <td>0.45</td>\n",
       "      <td>14.18</td>\n",
       "      <td>1.32</td>\n",
       "      <td>0</td>\n",
       "    </tr>\n",
       "    <tr>\n",
       "      <th>beta_M only</th>\n",
       "      <td>229.27</td>\n",
       "      <td>2.37</td>\n",
       "      <td>13.19</td>\n",
       "      <td>0</td>\n",
       "      <td>15.77</td>\n",
       "      <td>6.66</td>\n",
       "      <td>0</td>\n",
       "    </tr>\n",
       "  </tbody>\n",
       "</table>\n",
       "</div>"
      ],
      "text/plain": [
       "                          WAIC pWAIC  dWAIC weight     SE   dSE var_warn\n",
       "both beta_B and beta_M  216.08  3.23      0   0.55  14.02     0        0\n",
       "beta_B only             216.13  2.35   0.05   0.45  14.18  1.32        0\n",
       "beta_M only             229.27  2.37  13.19      0  15.77  6.66        0"
      ]
     },
     "execution_count": 35,
     "metadata": {},
     "output_type": "execute_result"
    }
   ],
   "source": [
    "# R code 7.39\n",
    "m_7_8.name = 'both beta_B and beta_M'\n",
    "m_7_9.name = 'beta_B only'\n",
    "m_7_10.name = 'beta_M only'\n",
    "comp_WAIC = pm.compare({m_7_8: trace_7_8, m_7_9: trace_7_9, m_7_10: trace_7_10})\n",
    "comp_WAIC"
   ]
  },
  {
   "cell_type": "code",
   "execution_count": 36,
   "metadata": {},
   "outputs": [
    {
     "data": {
      "image/png": "[encoded data removed]",
      "text/plain": [
       "<Figure size 432x216 with 1 Axes>"
      ]
     },
     "metadata": {
      "needs_background": "light"
     },
     "output_type": "display_data"
    }
   ],
   "source": [
    "# R code 7.40\n",
    "pm.compareplot(comp_WAIC);"
   ]
  },
  {
   "cell_type": "code",
   "execution_count": 37,
   "metadata": {},
   "outputs": [
    {
     "name": "stderr",
     "output_type": "stream",
     "text": [
      "C:\\Users\\mviotti\\AppData\\Local\\Continuum\\anaconda3\\envs\\stats\\lib\\site-packages\\arviz\\plots\\forestplot.py:207: MatplotlibDeprecationWarning: \n",
      "The tick1On function was deprecated in Matplotlib 3.1 and will be removed in 3.3. Use Tick.tick1line.set_visible instead.\n",
      "  ticks.tick1On = False\n",
      "C:\\Users\\mviotti\\AppData\\Local\\Continuum\\anaconda3\\envs\\stats\\lib\\site-packages\\arviz\\plots\\forestplot.py:208: MatplotlibDeprecationWarning: \n",
      "The tick2On function was deprecated in Matplotlib 3.1 and will be removed in 3.3. Use Tick.tick2line.set_visible instead.\n",
      "  ticks.tick2On = False\n"
     ]
    },
    {
     "data": {
      "image/png": "[encoded data removed]",
      "text/plain": [
       "<Figure size 432x288 with 1 Axes>"
      ]
     },
     "metadata": {
      "needs_background": "light"
     },
     "output_type": "display_data"
    }
   ],
   "source": [
    "# R code 7.41\n",
    "varnames = ['beta_B', 'beta_M']\n",
    "pm.forestplot((trace_7_8, trace_7_9, trace_7_10), model_names = (\"7_8\",\"7_9\",\"7_10\"), \n",
    "              var_names=varnames, credible_interval=0.89, linewidth=1, figsize=(6,4));\n",
    "# Width of distributions in model 7_8 is caused by colinearity"
   ]
  },
  {
   "cell_type": "code",
   "execution_count": 38,
   "metadata": {},
   "outputs": [
    {
     "data": {
      "text/plain": [
       "array([[1.        , 0.97962718],\n",
       "       [0.97962718, 1.        ]])"
      ]
     },
     "execution_count": 38,
     "metadata": {},
     "output_type": "execute_result"
    }
   ],
   "source": [
    "# R code 7.42\n",
    "covariance = np.corrcoef(d2['log_B'], d2['log_M'])\n",
    "covariance"
   ]
  },
  {
   "cell_type": "code",
   "execution_count": 39,
   "metadata": {},
   "outputs": [
    {
     "name": "stderr",
     "output_type": "stream",
     "text": [
      "C:\\Users\\mviotti\\AppData\\Local\\Continuum\\anaconda3\\envs\\stats\\lib\\site-packages\\pymc3\\stats.py:168: FutureWarning: arrays to stack must be passed as a \"sequence\" type such as list or tuple. Support for non-sequence iterables such as generators is deprecated as of NumPy 1.16 and will raise an error in the future.\n",
      "  return np.stack(logp)\n"
     ]
    }
   ],
   "source": [
    "# R code 7.43\n",
    "waic_m_7_8 = pm.waic(trace_7_8, model=m_7_8, pointwise=True)\n",
    "waic_m_7_9 = pm.waic(trace_7_9, model=m_7_9, pointwise=True)"
   ]
  },
  {
   "cell_type": "code",
   "execution_count": 40,
   "metadata": {},
   "outputs": [
    {
     "data": {
      "image/png": "[encoded data removed]",
      "text/plain": [
       "<Figure size 432x288 with 1 Axes>"
      ]
     },
     "metadata": {
      "needs_background": "light"
     },
     "output_type": "display_data"
    }
   ],
   "source": [
    "# R code 7.44\n",
    "# The first 4 lines are used to scale the size of the markers relative to the differences of the logs of B and M.\n",
    "# Large dots mean \"big brains for body size.\"\n",
    "x = (d2['log_B'].values-d2['log_M'].values)\n",
    "x = x - x.min()\n",
    "scaled_sizes = x/x.max()\n",
    "scaled_sizes = scaled_sizes*10 # this line is necessary because of the differences between python and R\n",
    "\n",
    "# If there's a way to take marker size as an array/list, I can't figure it out. So we have to plot the points \n",
    "# one at a time.\n",
    "for i in range(0, scaled_sizes.shape[0]):\n",
    "    plt.plot(waic_m_7_8[4][i] - waic_m_7_9[4][i], d2['log_L'].values[i], 'ob', markersize=scaled_sizes[i], alpha=0.25)\n",
    "\n",
    "plt.plot((0,0), (-2.5,2.5), 'k--')\n",
    "plt.plot((-0.5,0.5), (0,0), 'k--')\n",
    "plt.xlabel(\"pointwise difference in WAIC\")\n",
    "plt.ylabel(\"log longevity (std)\");\n",
    "\n",
    "# The conclusion is that the models, while equal in terms of WAIC evaluation, are not equal in that they make\n",
    "# very different predictions about different primates."
   ]
  },
  {
   "cell_type": "code",
   "execution_count": 41,
   "metadata": {},
   "outputs": [
    {
     "name": "stderr",
     "output_type": "stream",
     "text": [
      "Auto-assigning NUTS sampler...\n",
      "Initializing NUTS using jitter+adapt_diag...\n",
      "Sequential sampling (1 chains in 1 job)\n",
      "NUTS: [sigma, beta_L, beta_M, alpha]\n",
      "100%|█████████████████████████████████████████████████████████████████████████████| 6000/6000 [00:06<00:00, 902.04it/s]\n",
      "Only one chain was sampled, this makes it impossible to run some convergence checks\n"
     ]
    },
    {
     "data": {
      "text/html": [
       "<div>\n",
       "<style scoped>\n",
       "    .dataframe tbody tr th:only-of-type {\n",
       "        vertical-align: middle;\n",
       "    }\n",
       "\n",
       "    .dataframe tbody tr th {\n",
       "        vertical-align: top;\n",
       "    }\n",
       "\n",
       "    .dataframe thead th {\n",
       "        text-align: right;\n",
       "    }\n",
       "</style>\n",
       "<table border=\"1\" class=\"dataframe\">\n",
       "  <thead>\n",
       "    <tr style=\"text-align: right;\">\n",
       "      <th></th>\n",
       "      <th>mean</th>\n",
       "      <th>sd</th>\n",
       "      <th>mc_error</th>\n",
       "      <th>hpd_5.5</th>\n",
       "      <th>hpd_94.5</th>\n",
       "    </tr>\n",
       "  </thead>\n",
       "  <tbody>\n",
       "    <tr>\n",
       "      <th>alpha</th>\n",
       "      <td>-0.04</td>\n",
       "      <td>0.02</td>\n",
       "      <td>0.0</td>\n",
       "      <td>-0.08</td>\n",
       "      <td>-0.02</td>\n",
       "    </tr>\n",
       "    <tr>\n",
       "      <th>beta_M</th>\n",
       "      <td>0.94</td>\n",
       "      <td>0.03</td>\n",
       "      <td>0.0</td>\n",
       "      <td>0.90</td>\n",
       "      <td>0.98</td>\n",
       "    </tr>\n",
       "    <tr>\n",
       "      <th>beta_L</th>\n",
       "      <td>0.12</td>\n",
       "      <td>0.03</td>\n",
       "      <td>0.0</td>\n",
       "      <td>0.07</td>\n",
       "      <td>0.16</td>\n",
       "    </tr>\n",
       "    <tr>\n",
       "      <th>sigma</th>\n",
       "      <td>0.19</td>\n",
       "      <td>0.01</td>\n",
       "      <td>0.0</td>\n",
       "      <td>0.17</td>\n",
       "      <td>0.22</td>\n",
       "    </tr>\n",
       "  </tbody>\n",
       "</table>\n",
       "</div>"
      ],
      "text/plain": [
       "        mean    sd  mc_error  hpd_5.5  hpd_94.5\n",
       "alpha  -0.04  0.02       0.0    -0.08     -0.02\n",
       "beta_M  0.94  0.03       0.0     0.90      0.98\n",
       "beta_L  0.12  0.03       0.0     0.07      0.16\n",
       "sigma   0.19  0.01       0.0     0.17      0.22"
      ]
     },
     "execution_count": 41,
     "metadata": {},
     "output_type": "execute_result"
    }
   ],
   "source": [
    "# R code 7.45\n",
    "# This model is based on a reversed DAG, where long life causes brain size rather than the other way around.\n",
    "with pm.Model() as m_7_11:\n",
    "    alpha = pm.Normal('alpha', mu=0, sd=0.1) \n",
    "    beta_M = pm.Normal('beta_M', mu=0, sd=0.5) \n",
    "    beta_L = pm.Normal('beta_L', mu=0, sd=0.5) \n",
    "    mu = pm.Deterministic('mu', alpha + beta_M * d2.log_M + beta_L * d2.log_L)\n",
    "    sigma = pm.Exponential('sigma', 1)\n",
    "    log_B = pm.Normal('log_B', mu=mu, sd=sigma, observed=d2.log_B)\n",
    "    trace_7_11= pm.sample(5000, tune=1000, chains=1) \n",
    "\n",
    "varnames = ['alpha', 'beta_M', 'beta_L', 'sigma']\n",
    "pm.summary(trace_7_11, var_names = varnames, alpha = 0.11).round(2)\n",
    "\n",
    "# The results are equally plausible."
   ]
  },
  {
   "cell_type": "code",
   "execution_count": 42,
   "metadata": {},
   "outputs": [],
   "source": [
    "# 7E1\n",
    "# Point 1: continuity of uncertainty. If the uncertainty is, say, piecewise instead of continuous, that wouldn't\n",
    "# any sense. A small change in probability could cause a large change in uncertainty. I can't think of a physical\n",
    "# system that works that way.\n",
    "# Point 2: If there are more possible events, the amount of uncertainty increases. The same principle applies in\n",
    "# physics. If you have more microstates, we increase the number of ways to end up with a given macrostate.\n",
    "# Point 3: Uncertainty should be additive. I don't have a good grasp of why this should be true. I know what it means,\n",
    "# and I know how to use it, but I don't have a good grasp on why it should be true a priori."
   ]
  },
  {
   "cell_type": "code",
   "execution_count": 43,
   "metadata": {},
   "outputs": [
    {
     "data": {
      "text/plain": [
       "0.6108643020548935"
      ]
     },
     "execution_count": 43,
     "metadata": {},
     "output_type": "execute_result"
    }
   ],
   "source": [
    "# 7E2 - If you're using a calculator, remember log means ln\n",
    "H = -(0.7*np.log(0.7) + 0.3*np.log(0.3))\n",
    "H"
   ]
  },
  {
   "cell_type": "code",
   "execution_count": 44,
   "metadata": {},
   "outputs": [
    {
     "data": {
      "text/plain": [
       "1.3762266043445461"
      ]
     },
     "execution_count": 44,
     "metadata": {},
     "output_type": "execute_result"
    }
   ],
   "source": [
    "# 7E3\n",
    "H = -(0.2*np.log(0.2) + 2*0.25*np.log(0.25) + 0.3*np.log(0.3))\n",
    "H"
   ]
  },
  {
   "cell_type": "code",
   "execution_count": 45,
   "metadata": {},
   "outputs": [
    {
     "data": {
      "text/plain": [
       "1.0986122886681098"
      ]
     },
     "execution_count": 45,
     "metadata": {},
     "output_type": "execute_result"
    }
   ],
   "source": [
    "# 7E4\n",
    "H = -(3*(1/3)*np.log(1/3))\n",
    "H"
   ]
  },
  {
   "cell_type": "code",
   "execution_count": 46,
   "metadata": {},
   "outputs": [],
   "source": [
    "# 7M1\n",
    "# AIC requires a specific sort of prior distribution (flat) and posterior distribution (multivariate Gaussian).\n",
    "# DIC allows more general priors, but still requires a multivariate Gaussian posterior. It, like AIC, requires that\n",
    "# the number of  samples is much greater than the number of parameters.\n",
    "# WAIC is the most general. It requires nothing special of the posterior."
   ]
  },
  {
   "cell_type": "code",
   "execution_count": 47,
   "metadata": {},
   "outputs": [],
   "source": [
    "# 7M2\n",
    "# Model selection implies we're choosing one model that is \"best\" and discarding the rest. Model averaging appreciates\n",
    "# that certain models are more appropriate for making certain types of predictions and, presumably, can be used\n",
    "# to do that, though we have no practice averaging models at this point. When we practice model selection, we lose \n",
    "# valuable information about how much better one model is that another. I'm not sure what we lose by model averaging - \n",
    "# maybe simplicity? Model averaging is not covered in depth in the text."
   ]
  },
  {
   "cell_type": "code",
   "execution_count": 48,
   "metadata": {},
   "outputs": [],
   "source": [
    "# 7M3\n",
    "# If we fit to a different number of samples, that means a different entropy due to the definition of energy, summing\n",
    "# over all possible observations. Different entropy will mean different model scores."
   ]
  },
  {
   "cell_type": "code",
   "execution_count": 49,
   "metadata": {},
   "outputs": [
    {
     "name": "stderr",
     "output_type": "stream",
     "text": [
      "Auto-assigning NUTS sampler...\n",
      "Initializing NUTS using jitter+adapt_diag...\n",
      "Sequential sampling (1 chains in 1 job)\n",
      "NUTS: [sigma, beta_fungus, beta_treatment, alpha]\n",
      "100%|█████████████████████████████████████████████████████████████████████████████| 6000/6000 [00:07<00:00, 759.18it/s]\n",
      "Only one chain was sampled, this makes it impossible to run some convergence checks\n",
      "Auto-assigning NUTS sampler...\n",
      "Initializing NUTS using jitter+adapt_diag...\n",
      "Sequential sampling (1 chains in 1 job)\n",
      "NUTS: [sigma, beta_fungus, beta_treatment, alpha]\n",
      "100%|█████████████████████████████████████████████████████████████████████████████| 6000/6000 [00:06<00:00, 921.45it/s]\n",
      "Only one chain was sampled, this makes it impossible to run some convergence checks\n",
      "Auto-assigning NUTS sampler...\n",
      "Initializing NUTS using jitter+adapt_diag...\n",
      "Sequential sampling (1 chains in 1 job)\n",
      "NUTS: [sigma, beta_fungus, beta_treatment, alpha]\n",
      "100%|█████████████████████████████████████████████████████████████████████████████| 6000/6000 [00:07<00:00, 855.80it/s]\n",
      "Only one chain was sampled, this makes it impossible to run some convergence checks\n",
      "C:\\Users\\mviotti\\AppData\\Local\\Continuum\\anaconda3\\envs\\stats\\lib\\site-packages\\pymc3\\stats.py:219: UserWarning: For one or more samples the posterior variance of the\n",
      "        log predictive densities exceeds 0.4. This could be indication of\n",
      "        WAIC starting to fail see http://arxiv.org/abs/1507.04544 for details\n",
      "        \n",
      "  \"\"\")\n"
     ]
    },
    {
     "data": {
      "text/html": [
       "<div>\n",
       "<style scoped>\n",
       "    .dataframe tbody tr th:only-of-type {\n",
       "        vertical-align: middle;\n",
       "    }\n",
       "\n",
       "    .dataframe tbody tr th {\n",
       "        vertical-align: top;\n",
       "    }\n",
       "\n",
       "    .dataframe thead th {\n",
       "        text-align: right;\n",
       "    }\n",
       "</style>\n",
       "<table border=\"1\" class=\"dataframe\">\n",
       "  <thead>\n",
       "    <tr style=\"text-align: right;\">\n",
       "      <th></th>\n",
       "      <th>WAIC</th>\n",
       "      <th>pWAIC</th>\n",
       "      <th>dWAIC</th>\n",
       "      <th>weight</th>\n",
       "      <th>SE</th>\n",
       "      <th>dSE</th>\n",
       "      <th>var_warn</th>\n",
       "    </tr>\n",
       "  </thead>\n",
       "  <tbody>\n",
       "    <tr>\n",
       "      <th>weakly informative</th>\n",
       "      <td>334.96</td>\n",
       "      <td>3.8</td>\n",
       "      <td>0</td>\n",
       "      <td>1</td>\n",
       "      <td>14.52</td>\n",
       "      <td>0</td>\n",
       "      <td>1</td>\n",
       "    </tr>\n",
       "    <tr>\n",
       "      <th>strongly informative</th>\n",
       "      <td>335.08</td>\n",
       "      <td>3.87</td>\n",
       "      <td>0.12</td>\n",
       "      <td>0</td>\n",
       "      <td>14.55</td>\n",
       "      <td>0.1</td>\n",
       "      <td>1</td>\n",
       "    </tr>\n",
       "    <tr>\n",
       "      <th>mildly informative</th>\n",
       "      <td>335.25</td>\n",
       "      <td>3.93</td>\n",
       "      <td>0.29</td>\n",
       "      <td>0</td>\n",
       "      <td>14.53</td>\n",
       "      <td>0.04</td>\n",
       "      <td>1</td>\n",
       "    </tr>\n",
       "  </tbody>\n",
       "</table>\n",
       "</div>"
      ],
      "text/plain": [
       "                        WAIC pWAIC dWAIC weight     SE   dSE var_warn\n",
       "weakly informative    334.96   3.8     0      1  14.52     0        1\n",
       "strongly informative  335.08  3.87  0.12      0  14.55   0.1        1\n",
       "mildly informative    335.25  3.93  0.29      0  14.53  0.04        1"
      ]
     },
     "execution_count": 49,
     "metadata": {},
     "output_type": "execute_result"
    }
   ],
   "source": [
    "# 7M4\n",
    "# The effective number of parameters is pWAIC in the WAIC evaluation. We'll use the fungus model conditioned on both \n",
    "# treatment and fungus and change the priors for both beta values.\n",
    "\n",
    "# R code 7.37\n",
    "with pm.Model() as m_7M4_1:\n",
    "    alpha = pm.Lognormal('alpha', mu=0, sd=0.25) #note alpha here is the old p\n",
    "    beta_treatment = pm.Normal('beta_treatment', mu=0, sd=20) \n",
    "    beta_fungus = pm.Normal('beta_fungus', mu=0, sd=20) \n",
    "    p = pm.Deterministic('proportion', alpha + beta_treatment * d.treatment + beta_fungus * d.fungus)\n",
    "    mu = pm.Deterministic('mu', p*d.h_0)\n",
    "    sigma = pm.Exponential('sigma', 1)\n",
    "    h_1 = pm.Normal('h_1', mu=mu, sd=sigma, observed=d.h_1)\n",
    "    trace_7M4_1 = pm.sample(5000, tune=1000, chains=1) \n",
    "\n",
    "with pm.Model() as m_7M4_2:\n",
    "    alpha = pm.Lognormal('alpha', mu=0, sd=0.25) #note alpha here is the old p\n",
    "    beta_treatment = pm.Normal('beta_treatment', mu=0, sd=5) \n",
    "    beta_fungus = pm.Normal('beta_fungus', mu=0, sd=5) \n",
    "    p = pm.Deterministic('proportion', alpha + beta_treatment * d.treatment + beta_fungus * d.fungus)\n",
    "    mu = pm.Deterministic('mu', p*d.h_0)\n",
    "    sigma = pm.Exponential('sigma', 1)\n",
    "    h_1 = pm.Normal('h_1', mu=mu, sd=sigma, observed=d.h_1)\n",
    "    trace_7M4_2 = pm.sample(5000, tune=1000, chains=1)     \n",
    "\n",
    "with pm.Model() as m_7M4_3:\n",
    "    alpha = pm.Lognormal('alpha', mu=0, sd=0.25) #note alpha here is the old p\n",
    "    beta_treatment = pm.Normal('beta_treatment', mu=0, sd=0.5) \n",
    "    beta_fungus = pm.Normal('beta_fungus', mu=0, sd=0.5) \n",
    "    p = pm.Deterministic('proportion', alpha + beta_treatment * d.treatment + beta_fungus * d.fungus)\n",
    "    mu = pm.Deterministic('mu', p*d.h_0)\n",
    "    sigma = pm.Exponential('sigma', 1)\n",
    "    h_1 = pm.Normal('h_1', mu=mu, sd=sigma, observed=d.h_1)\n",
    "    trace_7M4_3 = pm.sample(5000, tune=1000, chains=1) \n",
    "\n",
    "m_7M4_1.name = 'weakly informative'\n",
    "m_7M4_2.name = 'mildly informative'\n",
    "m_7M4_3.name = 'strongly informative'\n",
    "comp_WAIC = pm.compare({m_7M4_1: trace_7M4_1, m_7M4_2: trace_7M4_2, m_7M4_3: trace_7M4_3})\n",
    "comp_WAIC\n",
    "\n",
    "# It seems like informative priors increase the pWAIC term. I'm not sure I conceptually understand that."
   ]
  },
  {
   "cell_type": "code",
   "execution_count": 50,
   "metadata": {},
   "outputs": [],
   "source": [
    "# 7M5\n",
    "# If a prior becomes more informative, the deviance of the in-sample (training) data gets worse, but the deviance\n",
    "# of the out-of-sample data (testing) gets better. With skeptical priors, the model won't \"learn too much\" from \n",
    "# the data; this reduces fluctuations between observations. E.g., with skeptical priors, in the 5th-order polynomial\n",
    "# model, the coefficients of the x^5 term will be very close to zero."
   ]
  },
  {
   "cell_type": "code",
   "execution_count": 232,
   "metadata": {},
   "outputs": [],
   "source": [
    "# 7M6\n",
    "# If the priors are too informative (restrictive), then the model is hamstrung and not allowed to learn from the\n",
    "# data. Therefore, the model will be underfit."
   ]
  },
  {
   "cell_type": "code",
   "execution_count": 289,
   "metadata": {},
   "outputs": [],
   "source": [
    "# 7H-All, importing data\n",
    "\n",
    "d = pd.read_csv('Data/Howell1.csv', sep=';', header=0)\n",
    "d['age_std']= (d.age - d.age.mean())/d.age.std()\n",
    "mask = np.random.rand(len(d)) <= 0.5\n",
    "d1 = d[mask]\n",
    "d2 = d[~mask]\n"
   ]
  },
  {
   "cell_type": "code",
   "execution_count": 233,
   "metadata": {},
   "outputs": [
    {
     "name": "stderr",
     "output_type": "stream",
     "text": [
      "Auto-assigning NUTS sampler...\n",
      "Initializing NUTS using jitter+adapt_diag...\n",
      "Sequential sampling (1 chains in 1 job)\n",
      "NUTS: [sigma, beta_age, alpha]\n",
      "100%|████████████████████████████████████████████████████████████████████████████| 1500/1500 [00:00<00:00, 1614.91it/s]\n",
      "Only one chain was sampled, this makes it impossible to run some convergence checks\n",
      "Auto-assigning NUTS sampler...\n",
      "Initializing NUTS using jitter+adapt_diag...\n",
      "Sequential sampling (1 chains in 1 job)\n",
      "NUTS: [sigma, beta_age, alpha]\n",
      "100%|████████████████████████████████████████████████████████████████████████████| 1500/1500 [00:01<00:00, 1194.13it/s]\n",
      "Only one chain was sampled, this makes it impossible to run some convergence checks\n",
      "Auto-assigning NUTS sampler...\n",
      "Initializing NUTS using jitter+adapt_diag...\n",
      "Sequential sampling (1 chains in 1 job)\n",
      "NUTS: [sigma, beta_age, alpha]\n",
      "100%|█████████████████████████████████████████████████████████████████████████████| 1500/1500 [00:01<00:00, 756.40it/s]\n",
      "Only one chain was sampled, this makes it impossible to run some convergence checks\n",
      "Auto-assigning NUTS sampler...\n",
      "Initializing NUTS using jitter+adapt_diag...\n",
      "Sequential sampling (1 chains in 1 job)\n",
      "NUTS: [sigma, beta_age, alpha]\n",
      "100%|█████████████████████████████████████████████████████████████████████████████| 1500/1500 [00:03<00:00, 380.33it/s]\n",
      "Only one chain was sampled, this makes it impossible to run some convergence checks\n",
      "Auto-assigning NUTS sampler...\n",
      "Initializing NUTS using jitter+adapt_diag...\n",
      "Sequential sampling (1 chains in 1 job)\n",
      "NUTS: [sigma, beta_age, alpha]\n",
      "100%|█████████████████████████████████████████████████████████████████████████████| 1500/1500 [00:09<00:00, 154.50it/s]\n",
      "Only one chain was sampled, this makes it impossible to run some convergence checks\n",
      "Auto-assigning NUTS sampler...\n",
      "Initializing NUTS using jitter+adapt_diag...\n",
      "Sequential sampling (1 chains in 1 job)\n",
      "NUTS: [sigma, beta_age, alpha]\n",
      "100%|██████████████████████████████████████████████████████████████████████████████| 1500/1500 [00:26<00:00, 56.45it/s]\n",
      "Only one chain was sampled, this makes it impossible to run some convergence checks\n"
     ]
    }
   ],
   "source": [
    "# 7H-All, setting up models\n",
    "\n",
    "with pm.Model() as m_7H_1:\n",
    "    alpha = pm.Normal('alpha', mu=178, sd=30) \n",
    "    beta_age = pm.Normal('beta_age', mu=0, sd=10) \n",
    "    mu = pm.Deterministic('mu', alpha + beta_age*d1.age_std)\n",
    "    sigma = pm.Lognormal('sigma', mu=0, sd=1)\n",
    "    height = pm.Normal('height', mu=mu, sd=sigma, observed=d1.height)\n",
    "    trace_7H_1 = pm.sample(1000, chains=1) \n",
    "\n",
    "with pm.Model() as m_7H_2:\n",
    "    alpha = pm.Normal('alpha', mu=178, sd=30) \n",
    "    beta_age = pm.Normal('beta_age', mu=0, sd=10, shape=2) \n",
    "    mu = pm.Deterministic('mu', alpha + beta_age[0]*d1.age_std \n",
    "                          + beta_age[1]*d1.age_std**2)\n",
    "    sigma = pm.Lognormal('sigma', mu=0, sd=1)\n",
    "    height = pm.Normal('height', mu=mu, sd=sigma, observed=d1.height)\n",
    "    trace_7H_2 = pm.sample(1000, chains=1)   \n",
    "    \n",
    "with pm.Model() as m_7H_3:\n",
    "    alpha = pm.Normal('alpha', mu=178, sd=30) \n",
    "    beta_age = pm.Normal('beta_age', mu=0, sd=10, shape=3) \n",
    "    mu = pm.Deterministic('mu', alpha + beta_age[0]*d1.age_std \n",
    "                          + beta_age[1]*d1.age_std**2 + beta_age[2]*d1.age_std**3)\n",
    "    sigma = pm.Lognormal('sigma', mu=0, sd=1)\n",
    "    height = pm.Normal('height', mu=mu, sd=sigma, observed=d1.height)\n",
    "    trace_7H_3 = pm.sample(1000, chains=1)     \n",
    "\n",
    "with pm.Model() as m_7H_4:\n",
    "    alpha = pm.Normal('alpha', mu=178, sd=30) \n",
    "    beta_age = pm.Normal('beta_age', mu=0, sd=10, shape=4) \n",
    "    mu = pm.Deterministic('mu', alpha + beta_age[0]*d1.age_std \n",
    "                          + beta_age[1]*d1.age_std**2 + beta_age[2]*d1.age_std**3\n",
    "                         + beta_age[3]*d1.age_std**4)\n",
    "    sigma = pm.Lognormal('sigma', mu=0, sd=1)\n",
    "    height = pm.Normal('height', mu=mu, sd=sigma, observed=d1.height)\n",
    "    trace_7H_4 = pm.sample(1000, chains=1) \n",
    "    \n",
    "with pm.Model() as m_7H_5:\n",
    "    alpha = pm.Normal('alpha', mu=178, sd=30) \n",
    "    beta_age = pm.Normal('beta_age', mu=0, sd=10, shape=5) \n",
    "    mu = pm.Deterministic('mu', alpha + beta_age[0]*d1.age_std \n",
    "                          + beta_age[1]*d1.age_std**2 + beta_age[2]*d1.age_std**3\n",
    "                         + beta_age[3]*d1.age_std**4 +beta_age[4]*d1.age_std**5)\n",
    "    sigma = pm.Lognormal('sigma', mu=0, sd=1)\n",
    "    height = pm.Normal('height', mu=mu, sd=sigma, observed=d1.height)\n",
    "    trace_7H_5 = pm.sample(1000, chains=1) \n",
    "\n",
    "with pm.Model() as m_7H_6:\n",
    "    alpha = pm.Normal('alpha', mu=178, sd=30) \n",
    "    beta_age = pm.Normal('beta_age', mu=0, sd=10, shape=6) \n",
    "    mu = pm.Deterministic('mu', alpha + beta_age[0]*d1.age_std \n",
    "                          + beta_age[1]*d1.age_std**2 + beta_age[2]*d1.age_std**3\n",
    "                         + beta_age[3]*d1.age_std**4 +beta_age[4]*d1.age_std**5\n",
    "                         + beta_age[5]*d1.age_std**6)\n",
    "    sigma = pm.Lognormal('sigma', mu=0, sd=1)\n",
    "    height = pm.Normal('height', mu=mu, sd=sigma, observed=d1.height)\n",
    "    trace_7H_6 = pm.sample(1000, chains=1) \n"
   ]
  },
  {
   "cell_type": "code",
   "execution_count": 234,
   "metadata": {},
   "outputs": [
    {
     "name": "stderr",
     "output_type": "stream",
     "text": [
      "C:\\Users\\mikev\\Anaconda3\\envs\\stats\\lib\\site-packages\\pymc3\\stats.py:168: FutureWarning: arrays to stack must be passed as a \"sequence\" type such as list or tuple. Support for non-sequence iterables such as generators is deprecated as of NumPy 1.16 and will raise an error in the future.\n",
      "  return np.stack(logp)\n",
      "C:\\Users\\mikev\\Anaconda3\\envs\\stats\\lib\\site-packages\\pymc3\\stats.py:219: UserWarning: For one or more samples the posterior variance of the\n",
      "        log predictive densities exceeds 0.4. This could be indication of\n",
      "        WAIC starting to fail see http://arxiv.org/abs/1507.04544 for details\n",
      "        \n",
      "  \"\"\")\n",
      "C:\\Users\\mikev\\Anaconda3\\envs\\stats\\lib\\site-packages\\pymc3\\stats.py:168: FutureWarning: arrays to stack must be passed as a \"sequence\" type such as list or tuple. Support for non-sequence iterables such as generators is deprecated as of NumPy 1.16 and will raise an error in the future.\n",
      "  return np.stack(logp)\n",
      "C:\\Users\\mikev\\Anaconda3\\envs\\stats\\lib\\site-packages\\pymc3\\stats.py:219: UserWarning: For one or more samples the posterior variance of the\n",
      "        log predictive densities exceeds 0.4. This could be indication of\n",
      "        WAIC starting to fail see http://arxiv.org/abs/1507.04544 for details\n",
      "        \n",
      "  \"\"\")\n",
      "C:\\Users\\mikev\\Anaconda3\\envs\\stats\\lib\\site-packages\\pymc3\\stats.py:168: FutureWarning: arrays to stack must be passed as a \"sequence\" type such as list or tuple. Support for non-sequence iterables such as generators is deprecated as of NumPy 1.16 and will raise an error in the future.\n",
      "  return np.stack(logp)\n",
      "C:\\Users\\mikev\\Anaconda3\\envs\\stats\\lib\\site-packages\\pymc3\\stats.py:219: UserWarning: For one or more samples the posterior variance of the\n",
      "        log predictive densities exceeds 0.4. This could be indication of\n",
      "        WAIC starting to fail see http://arxiv.org/abs/1507.04544 for details\n",
      "        \n",
      "  \"\"\")\n",
      "C:\\Users\\mikev\\Anaconda3\\envs\\stats\\lib\\site-packages\\pymc3\\stats.py:168: FutureWarning: arrays to stack must be passed as a \"sequence\" type such as list or tuple. Support for non-sequence iterables such as generators is deprecated as of NumPy 1.16 and will raise an error in the future.\n",
      "  return np.stack(logp)\n",
      "C:\\Users\\mikev\\Anaconda3\\envs\\stats\\lib\\site-packages\\pymc3\\stats.py:219: UserWarning: For one or more samples the posterior variance of the\n",
      "        log predictive densities exceeds 0.4. This could be indication of\n",
      "        WAIC starting to fail see http://arxiv.org/abs/1507.04544 for details\n",
      "        \n",
      "  \"\"\")\n",
      "C:\\Users\\mikev\\Anaconda3\\envs\\stats\\lib\\site-packages\\pymc3\\stats.py:168: FutureWarning: arrays to stack must be passed as a \"sequence\" type such as list or tuple. Support for non-sequence iterables such as generators is deprecated as of NumPy 1.16 and will raise an error in the future.\n",
      "  return np.stack(logp)\n",
      "C:\\Users\\mikev\\Anaconda3\\envs\\stats\\lib\\site-packages\\pymc3\\stats.py:219: UserWarning: For one or more samples the posterior variance of the\n",
      "        log predictive densities exceeds 0.4. This could be indication of\n",
      "        WAIC starting to fail see http://arxiv.org/abs/1507.04544 for details\n",
      "        \n",
      "  \"\"\")\n"
     ]
    },
    {
     "data": {
      "text/html": [
       "<div>\n",
       "<style scoped>\n",
       "    .dataframe tbody tr th:only-of-type {\n",
       "        vertical-align: middle;\n",
       "    }\n",
       "\n",
       "    .dataframe tbody tr th {\n",
       "        vertical-align: top;\n",
       "    }\n",
       "\n",
       "    .dataframe thead th {\n",
       "        text-align: right;\n",
       "    }\n",
       "</style>\n",
       "<table border=\"1\" class=\"dataframe\">\n",
       "  <thead>\n",
       "    <tr style=\"text-align: right;\">\n",
       "      <th></th>\n",
       "      <th>WAIC</th>\n",
       "      <th>pWAIC</th>\n",
       "      <th>dWAIC</th>\n",
       "      <th>weight</th>\n",
       "      <th>SE</th>\n",
       "      <th>dSE</th>\n",
       "      <th>var_warn</th>\n",
       "    </tr>\n",
       "  </thead>\n",
       "  <tbody>\n",
       "    <tr>\n",
       "      <th>fourth order</th>\n",
       "      <td>1899.96</td>\n",
       "      <td>5.56</td>\n",
       "      <td>0</td>\n",
       "      <td>0.98</td>\n",
       "      <td>23.65</td>\n",
       "      <td>0</td>\n",
       "      <td>1</td>\n",
       "    </tr>\n",
       "    <tr>\n",
       "      <th>sixth order</th>\n",
       "      <td>1901.24</td>\n",
       "      <td>6.62</td>\n",
       "      <td>1.29</td>\n",
       "      <td>0</td>\n",
       "      <td>23.5</td>\n",
       "      <td>1.61</td>\n",
       "      <td>1</td>\n",
       "    </tr>\n",
       "    <tr>\n",
       "      <th>fifth order</th>\n",
       "      <td>1902.03</td>\n",
       "      <td>6.36</td>\n",
       "      <td>2.07</td>\n",
       "      <td>0</td>\n",
       "      <td>23.55</td>\n",
       "      <td>1.2</td>\n",
       "      <td>1</td>\n",
       "    </tr>\n",
       "    <tr>\n",
       "      <th>third order</th>\n",
       "      <td>1949.78</td>\n",
       "      <td>6.7</td>\n",
       "      <td>49.82</td>\n",
       "      <td>0</td>\n",
       "      <td>23.56</td>\n",
       "      <td>15.45</td>\n",
       "      <td>1</td>\n",
       "    </tr>\n",
       "    <tr>\n",
       "      <th>second order</th>\n",
       "      <td>2128.95</td>\n",
       "      <td>5.15</td>\n",
       "      <td>228.99</td>\n",
       "      <td>0.02</td>\n",
       "      <td>22.05</td>\n",
       "      <td>27.12</td>\n",
       "      <td>1</td>\n",
       "    </tr>\n",
       "    <tr>\n",
       "      <th>first order</th>\n",
       "      <td>2410.06</td>\n",
       "      <td>3.47</td>\n",
       "      <td>510.1</td>\n",
       "      <td>0</td>\n",
       "      <td>22.91</td>\n",
       "      <td>31.46</td>\n",
       "      <td>0</td>\n",
       "    </tr>\n",
       "  </tbody>\n",
       "</table>\n",
       "</div>"
      ],
      "text/plain": [
       "                 WAIC pWAIC   dWAIC weight     SE    dSE var_warn\n",
       "fourth order  1899.96  5.56       0   0.98  23.65      0        1\n",
       "sixth order   1901.24  6.62    1.29      0   23.5   1.61        1\n",
       "fifth order   1902.03  6.36    2.07      0  23.55    1.2        1\n",
       "third order   1949.78   6.7   49.82      0  23.56  15.45        1\n",
       "second order  2128.95  5.15  228.99   0.02  22.05  27.12        1\n",
       "first order   2410.06  3.47   510.1      0  22.91  31.46        0"
      ]
     },
     "execution_count": 234,
     "metadata": {},
     "output_type": "execute_result"
    }
   ],
   "source": [
    "# 7H1\n",
    "\n",
    "m_7H_1.name = 'first order'\n",
    "m_7H_2.name = 'second order'\n",
    "m_7H_3.name = 'third order'\n",
    "m_7H_4.name = 'fourth order'\n",
    "m_7H_5.name = 'fifth order'\n",
    "m_7H_6.name = 'sixth order'\n",
    "comp_WAIC = pm.compare({m_7H_1: trace_7H_1, m_7H_2: trace_7H_2, m_7H_3: trace_7H_3,\n",
    "                       m_7H_4: trace_7H_4, m_7H_5: trace_7H_5, m_7H_6: trace_7H_6})\n",
    "comp_WAIC"
   ]
  },
  {
   "cell_type": "code",
   "execution_count": 235,
   "metadata": {},
   "outputs": [
    {
     "data": {
      "image/png": "[encoded data removed]",
      "text/plain": [
       "<Figure size 864x864 with 6 Axes>"
      ]
     },
     "metadata": {
      "needs_background": "light"
     },
     "output_type": "display_data"
    }
   ],
   "source": [
    "#7H2\n",
    "\n",
    "x=np.linspace(-1.5, 2.5, 1000)\n",
    "f = plt.figure(figsize=(12,12))\n",
    "\n",
    "ax1=f.add_subplot(321)\n",
    "ax1.plot(d1.age_std, d1.height, 'o', alpha=0.25)\n",
    "mu_pred = trace_7H_1['alpha'] + trace_7H_1['beta_age'] * x[:,None]\n",
    "ax1.plot(x, mu_pred.mean(1), 'C0')\n",
    "mu_hpd = pm.hpd(mu_pred.T, alpha = 0.03)\n",
    "ax1.fill_between(x, mu_hpd[:,0], mu_hpd[:,1], color='C2', alpha=0.25)\n",
    "\n",
    "ax2=f.add_subplot(322)\n",
    "ax2.plot(d1.age_std, d1.height, 'o', alpha=0.25)\n",
    "mu_pred = (trace_7H_2['alpha'] + trace_7H_2['beta_age'][:,0]* x[:,None] \n",
    "           + trace_7H_2['beta_age'][:,1] * x[:,None]**2)\n",
    "ax2.plot(x, mu_pred.mean(1), 'C0')\n",
    "mu_hpd = pm.hpd(mu_pred.T, alpha = 0.03)\n",
    "ax2.fill_between(x, mu_hpd[:,0], mu_hpd[:,1], color='C2', alpha=0.25)\n",
    "\n",
    "ax3=f.add_subplot(323)\n",
    "ax3.plot(d1.age_std, d1.height, 'o', alpha=0.25)\n",
    "mu_pred = (trace_7H_3['alpha'] + trace_7H_3['beta_age'][:,0]* x[:,None] \n",
    "           + trace_7H_3['beta_age'][:,1] * x[:,None]**2 \n",
    "           + trace_7H_3['beta_age'][:,2] * x[:,None]**3)\n",
    "ax3.plot(x, mu_pred.mean(1), 'C0')\n",
    "mu_hpd = pm.hpd(mu_pred.T, alpha = 0.03)\n",
    "ax3.fill_between(x, mu_hpd[:,0], mu_hpd[:,1], color='C2', alpha=0.25)\n",
    "\n",
    "ax4=f.add_subplot(324)\n",
    "ax4.plot(d1.age_std, d1.height, 'o', alpha=0.25)\n",
    "mu_pred = (trace_7H_4['alpha'] + trace_7H_4['beta_age'][:,0]* x[:,None] \n",
    "           + trace_7H_4['beta_age'][:,1] * x[:,None]**2 \n",
    "           + trace_7H_4['beta_age'][:,2] * x[:,None]**3\n",
    "           + trace_7H_4['beta_age'][:,3] * x[:,None]**4)\n",
    "ax4.plot(x, mu_pred.mean(1), 'C0')\n",
    "mu_hpd = pm.hpd(mu_pred.T, alpha = 0.03)\n",
    "ax4.fill_between(x, mu_hpd[:,0], mu_hpd[:,1], color='C2', alpha=0.25)\n",
    "\n",
    "ax5=f.add_subplot(325)\n",
    "ax5.plot(d1.age_std, d1.height, 'o', alpha=0.25)\n",
    "mu_pred = (trace_7H_5['alpha'] + trace_7H_5['beta_age'][:,0]* x[:,None] \n",
    "           + trace_7H_5['beta_age'][:,1] * x[:,None]**2 \n",
    "           + trace_7H_5['beta_age'][:,2] * x[:,None]**3\n",
    "           + trace_7H_5['beta_age'][:,3] * x[:,None]**4\n",
    "           + trace_7H_5['beta_age'][:,4] * x[:,None]**5)\n",
    "ax5.plot(x, mu_pred.mean(1), 'C0')\n",
    "mu_hpd = pm.hpd(mu_pred.T, alpha = 0.03)\n",
    "ax5.fill_between(x, mu_hpd[:,0], mu_hpd[:,1], color='C2', alpha=0.25)\n",
    "\n",
    "ax6=f.add_subplot(326)\n",
    "ax6.plot(d1.age_std, d1.height, 'o', alpha=0.25)\n",
    "mu_pred = (trace_7H_6['alpha'] + trace_7H_6['beta_age'][:,0]* x[:,None] \n",
    "           + trace_7H_6['beta_age'][:,1] * x[:,None]**2 \n",
    "           + trace_7H_6['beta_age'][:,2] * x[:,None]**3\n",
    "           + trace_7H_6['beta_age'][:,3] * x[:,None]**4\n",
    "           + trace_7H_6['beta_age'][:,4] * x[:,None]**5\n",
    "           + trace_7H_6['beta_age'][:,5] * x[:,None]**6)\n",
    "ax6.plot(x, mu_pred.mean(1), 'C0')\n",
    "mu_hpd = pm.hpd(mu_pred.T, alpha = 0.03)\n",
    "ax6.fill_between(x, mu_hpd[:,0], mu_hpd[:,1], color='C2', alpha=0.25);"
   ]
  },
  {
   "cell_type": "code",
   "execution_count": 236,
   "metadata": {},
   "outputs": [
    {
     "data": {
      "image/png": "[encoded data removed]",
      "text/plain": [
       "<Figure size 432x288 with 1 Axes>"
      ]
     },
     "metadata": {
      "needs_background": "light"
     },
     "output_type": "display_data"
    }
   ],
   "source": [
    "# 7H3\n",
    "# It seems mean to ask about model averaging when the text specifically says it won't be\n",
    "# covered in the book!\n",
    "\n",
    "# https://docs.pymc.io/notebooks/model_averaging.html\n",
    "# I'm not 100% sure if I'm doing this right.\n",
    "\n",
    "traces = [trace_7H_1, trace_7H_2, trace_7H_3, trace_7H_4, trace_7H_5, trace_7H_6]\n",
    "ppc_w = pm.sample_posterior_predictive_w(traces, 1000, [m_7H_1, m_7H_2, m_7H_3, m_7H_4, m_7H_5, m_7H_6],\n",
    "                        weights=comp_WAIC.weight.sort_index(ascending=True),\n",
    "                        progressbar=False)\n",
    "# ppc_w will give 1000 samples, where each sample contains a predicted height for a given weight.\n",
    "\n",
    "mean_predicted_heights = ppc_w['height'].mean(0)\n",
    "\n",
    "x=np.linspace(-1.5, 2.5, 1000)\n",
    "mu_pred = (trace_7H_6['alpha'] + trace_7H_6['beta_age'][:,0]* x[:,None] \n",
    "           + trace_7H_6['beta_age'][:,1] * x[:,None]**2 \n",
    "           + trace_7H_6['beta_age'][:,2] * x[:,None]**3\n",
    "           + trace_7H_6['beta_age'][:,3] * x[:,None]**4\n",
    "           + trace_7H_6['beta_age'][:,4] * x[:,None]**5\n",
    "           + trace_7H_6['beta_age'][:,5] * x[:,None]**6)\n",
    "plt.plot(x, mu_pred.mean(1), 'C0')\n",
    "plt.plot(d1.age_std, d1.height, 'ob', alpha=0.25)\n",
    "plt.plot(d1.age_std, mean_predicted_heights, '.r', alpha=0.7);\n",
    "\n",
    "# The average predictions seem a bit smoother, I guess? It looks like there are slightly\n",
    "# fewer concavity changes near the tail end of the graph."
   ]
  },
  {
   "cell_type": "code",
   "execution_count": 139,
   "metadata": {},
   "outputs": [
    {
     "data": {
      "text/plain": [
       "-1100.0529176456507"
      ]
     },
     "execution_count": 139,
     "metadata": {},
     "output_type": "execute_result"
    }
   ],
   "source": [
    "# 7H4\n",
    "# Based on the above work, R code 7.21 and the next few\n",
    "\n",
    "n_samples = 1000\n",
    "n_observations = d2.shape[0]\n",
    "logp = np.zeros((n_observations, n_samples))\n",
    "\n",
    "for s in range(0,n_samples): # for each sample from the posterior we're checking\n",
    "    mu = (trace_7H_1['alpha'][s] + trace_7H_1['beta_age'][s]* d2.age_std)\n",
    "    p_ = stats.norm.logpdf(d2['height'], loc=mu, scale=trace_7H_1['sigma'][s]) # this is the way of getting the log value of the prediction. It must be a distribution, because everything in this world is a distribution.\n",
    "    logp[:,s] = p_ # we end up with each row being a data point, and each column being a sample\n",
    "\n",
    "n_cases = d2.shape[0] # number of rows in d2, e.g. number of data points\n",
    "lppd = np.zeros((n_cases)) # I still don't understand why we have to fill this thing with zeros - maybe it's cleaner than just doing append\n",
    "for a in range(0, n_cases):\n",
    "    lppd[a,] = logsumexp(logp[a,]) - np.log(n_samples) # We have to do the averaging on the log scale. Not sure why - probably some computer science reason.\n",
    "\n",
    "lppd_first = lppd.sum()\n",
    "lppd_first"
   ]
  },
  {
   "cell_type": "code",
   "execution_count": 170,
   "metadata": {},
   "outputs": [],
   "source": [
    "# Let's write a function to do this.\n",
    "\n",
    "def calculate_deviance(trace, betas, n_samples, data, observations, name):\n",
    "    try:\n",
    "        if trace[betas].shape[1]:\n",
    "            number_coefficients = trace[betas].shape[1]\n",
    "    except IndexError:\n",
    "        #pass\n",
    "        number_coefficients = 1\n",
    "    \n",
    "    n_observations = data.shape[0]\n",
    "    logp = np.zeros((n_observations, n_samples))\n",
    "    for s in range(0,n_samples): # for each sample from the posterior we're checking\n",
    "        mu = trace['alpha'][s]\n",
    "        if number_coefficients>1:\n",
    "            for i in range(0,number_coefficients):\n",
    "                mu = mu + trace[betas][:,i][s]*data**(i+1)\n",
    "        else: mu = mu + trace[betas][s]*data\n",
    "        p_ = stats.norm.logpdf(observations, loc=mu, scale=trace['sigma'][s]) # this is the way of getting the log value of the prediction. It must be a distribution, because everything in this world is a distribution.\n",
    "        logp[:,s] = p_ # we end up with each row being a data point, and each column being a sample\n",
    "        \n",
    "    n_cases = data.shape[0] # number of rows in d1, e.g. number of data points\n",
    "    lppd = np.zeros((n_cases)) # I still don't understand why we have to fill this thing with zeros - maybe it's cleaner than just doing append\n",
    "    for a in range(0, n_cases):\n",
    "        lppd[a,] = logsumexp(logp[a,]) - np.log(n_samples) # We have to do the averaging on the log scale. Not sure why - probably some computer science reason.\n",
    "    pWAIC = np.zeros((n_cases))\n",
    "    for a in range(0, n_cases):\n",
    "        pWAIC[a] = np.var(logp[a]) # This just computes the variance of each row in logp.\n",
    "    \n",
    "    WAIC = -2*(lppd.sum() - pWAIC.sum())\n",
    "    return lppd.sum(), pWAIC.sum(), WAIC, name"
   ]
  },
  {
   "cell_type": "code",
   "execution_count": 171,
   "metadata": {
    "scrolled": true
   },
   "outputs": [],
   "source": [
    "lppd_first = calculate_deviance(trace_7H_1, 'beta_age', 1000, d2.age_std, d2.height, 'first order')\n",
    "lppd_second = calculate_deviance(trace_7H_2, 'beta_age', 1000, d2.age_std, d2.height, 'second order')\n",
    "lppd_third = calculate_deviance(trace_7H_3, 'beta_age', 1000, d2.age_std, d2.height, 'third order')\n",
    "lppd_fourth = calculate_deviance(trace_7H_4, 'beta_age', 1000, d2.age_std, d2.height, 'fourth order')\n",
    "lppd_fifth = calculate_deviance(trace_7H_5, 'beta_age', 1000, d2.age_std, d2.height, 'fifth order')\n",
    "lppd_sixth = calculate_deviance(trace_7H_6, 'beta_age', 1000, d2.age_std, d2.height, 'sixth order')\n",
    "lppds = [lppd_first, lppd_second, lppd_third, lppd_fourth, lppd_fifth, lppd_sixth]"
   ]
  },
  {
   "cell_type": "code",
   "execution_count": 172,
   "metadata": {},
   "outputs": [
    {
     "data": {
      "text/plain": [
       "[('first order', 2206.05, 2.97, 0.0),\n",
       " ('second order', 1975.16, 7.1, 119.57),\n",
       " ('third order', 1781.53, 9.04, 218.33),\n",
       " ('fourth order', 1727.83, 5.44, 241.58),\n",
       " ('fifth order', 1734.21, 7.56, 240.51),\n",
       " ('sixth order', 1774.36, 27.41, 240.29)]"
      ]
     },
     "execution_count": 172,
     "metadata": {},
     "output_type": "execute_result"
    }
   ],
   "source": [
    "# Now let's scale the deviances. We'll return a list of tuples in the form (WAIC, pWAIC, deviance)\n",
    "l_min = lppds[0][0]\n",
    "scaled_Ls = []\n",
    "for l in lppds:\n",
    "    if l[0] < l_min:\n",
    "        l_min = l[0]\n",
    "        \n",
    "# l_min now has the smallest deviance\n",
    "\n",
    "for l in lppds:\n",
    "    x = l[0]-l_min\n",
    "    scaled_Ls.append((l[3], l[2].round(2), l[1].round(2), x.round(2)))\n",
    "scaled_Ls\n",
    "\n",
    "# It seems like the model with the smallest WAIC score (4th order) has the biggest deviance for\n",
    "# out-of-sample predictions. The model with the worst WAIC score (first order) has the \n",
    "# lowest deviance. The effects look reversed, but that's because I didn't make\n",
    "# the deviance above negative, which is what happens in the WAIC formula. So we're good.\n",
    "# Let's compare with the WAIC work done earlier, where we looked at in-sample data."
   ]
  },
  {
   "cell_type": "code",
   "execution_count": 273,
   "metadata": {},
   "outputs": [
    {
     "data": {
      "text/html": [
       "<div>\n",
       "<style scoped>\n",
       "    .dataframe tbody tr th:only-of-type {\n",
       "        vertical-align: middle;\n",
       "    }\n",
       "\n",
       "    .dataframe tbody tr th {\n",
       "        vertical-align: top;\n",
       "    }\n",
       "\n",
       "    .dataframe thead th {\n",
       "        text-align: right;\n",
       "    }\n",
       "</style>\n",
       "<table border=\"1\" class=\"dataframe\">\n",
       "  <thead>\n",
       "    <tr style=\"text-align: right;\">\n",
       "      <th></th>\n",
       "      <th>WAIC</th>\n",
       "      <th>pWAIC</th>\n",
       "      <th>dWAIC</th>\n",
       "      <th>weight</th>\n",
       "      <th>SE</th>\n",
       "      <th>dSE</th>\n",
       "      <th>var_warn</th>\n",
       "    </tr>\n",
       "  </thead>\n",
       "  <tbody>\n",
       "    <tr>\n",
       "      <th>fourth order</th>\n",
       "      <td>1899.96</td>\n",
       "      <td>5.56</td>\n",
       "      <td>0</td>\n",
       "      <td>0.98</td>\n",
       "      <td>23.65</td>\n",
       "      <td>0</td>\n",
       "      <td>1</td>\n",
       "    </tr>\n",
       "    <tr>\n",
       "      <th>sixth order</th>\n",
       "      <td>1901.24</td>\n",
       "      <td>6.62</td>\n",
       "      <td>1.29</td>\n",
       "      <td>0</td>\n",
       "      <td>23.5</td>\n",
       "      <td>1.61</td>\n",
       "      <td>1</td>\n",
       "    </tr>\n",
       "    <tr>\n",
       "      <th>fifth order</th>\n",
       "      <td>1902.03</td>\n",
       "      <td>6.36</td>\n",
       "      <td>2.07</td>\n",
       "      <td>0</td>\n",
       "      <td>23.55</td>\n",
       "      <td>1.2</td>\n",
       "      <td>1</td>\n",
       "    </tr>\n",
       "    <tr>\n",
       "      <th>third order</th>\n",
       "      <td>1949.78</td>\n",
       "      <td>6.7</td>\n",
       "      <td>49.82</td>\n",
       "      <td>0</td>\n",
       "      <td>23.56</td>\n",
       "      <td>15.45</td>\n",
       "      <td>1</td>\n",
       "    </tr>\n",
       "    <tr>\n",
       "      <th>second order</th>\n",
       "      <td>2128.95</td>\n",
       "      <td>5.15</td>\n",
       "      <td>228.99</td>\n",
       "      <td>0.02</td>\n",
       "      <td>22.05</td>\n",
       "      <td>27.12</td>\n",
       "      <td>1</td>\n",
       "    </tr>\n",
       "    <tr>\n",
       "      <th>first order</th>\n",
       "      <td>2410.06</td>\n",
       "      <td>3.47</td>\n",
       "      <td>510.1</td>\n",
       "      <td>0</td>\n",
       "      <td>22.91</td>\n",
       "      <td>31.46</td>\n",
       "      <td>0</td>\n",
       "    </tr>\n",
       "  </tbody>\n",
       "</table>\n",
       "</div>"
      ],
      "text/plain": [
       "                 WAIC pWAIC   dWAIC weight     SE    dSE var_warn\n",
       "fourth order  1899.96  5.56       0   0.98  23.65      0        1\n",
       "sixth order   1901.24  6.62    1.29      0   23.5   1.61        1\n",
       "fifth order   1902.03  6.36    2.07      0  23.55    1.2        1\n",
       "third order   1949.78   6.7   49.82      0  23.56  15.45        1\n",
       "second order  2128.95  5.15  228.99   0.02  22.05  27.12        1\n",
       "first order   2410.06  3.47   510.1      0  22.91  31.46        0"
      ]
     },
     "execution_count": 273,
     "metadata": {},
     "output_type": "execute_result"
    }
   ],
   "source": [
    "comp_WAIC\n",
    "# There's the same pattern here. "
   ]
  }
 ],
 "metadata": {
  "kernelspec": {
   "display_name": "Python 3",
   "language": "python",
   "name": "python3"
  },
  "language_info": {
   "codemirror_mode": {
    "name": "ipython",
    "version": 3
   },
   "file_extension": ".py",
   "mimetype": "text/x-python",
   "name": "python",
   "nbconvert_exporter": "python",
   "pygments_lexer": "ipython3",
   "version": "3.7.3"
  }
 },
 "nbformat": 4,
 "nbformat_minor": 2
}
