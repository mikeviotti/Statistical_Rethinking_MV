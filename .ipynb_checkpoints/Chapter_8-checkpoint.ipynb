{
 "cells": [
  {
   "cell_type": "code",
   "execution_count": null,
   "metadata": {},
   "outputs": [],
   "source": [
    "%matplotlib inline\n",
    "import pymc3 as pm\n",
    "import numpy as np\n",
    "import pandas as pd\n",
    "import scipy.stats as stats\n",
    "from scipy.interpolate import griddata\n",
    "import matplotlib.pyplot as plt\n",
    "import seaborn as sns\n",
    "import networkx as nx\n",
    "\n",
    "# %config InlineBackend.figure_format = 'retina'\n",
    "# plt.style.use(['seaborn-colorblind', 'seaborn-darkgrid'])\n",
    "\n",
    "# Typo - page 247, when specifying priors for alpha, they should be a ~ normal(1,0.1)\n",
    "# Typo - page 250, \"despite IT'S (its) predictive superiority\"\n",
    "# Typo - page 257, \"in other cases, you may want more or LESS (fewer)\" though my wife would punch me for this one\n",
    "# Typo - questions mislabeled\n",
    "# Typo - page 265, figure link broken"
   ]
  },
  {
   "cell_type": "code",
   "execution_count": null,
   "metadata": {},
   "outputs": [],
   "source": [
    "# R code 8.1\n",
    "\n",
    "d = pd.read_csv('Data/rugged.csv', sep=';', header=0)\n",
    "d['log_gdp']=np.log(d['rgdppc_2000'])\n",
    "dd = d.drop(d[d['rgdppc_2000'].isnull()].index)\n",
    "dd['log_gdp_std']=dd['log_gdp']/dd['log_gdp'].mean()\n",
    "dd['rugged_std']=dd['rugged']/dd['rugged'].max()\n",
    "d_A1 = dd[dd['cont_africa']==1]\n",
    "d_A0 = dd[dd['cont_africa']==0]"
   ]
  },
  {
   "cell_type": "code",
   "execution_count": null,
   "metadata": {},
   "outputs": [],
   "source": [
    "# R code 8.2\n",
    "\n",
    "with pm.Model() as m_8_1:\n",
    "    alpha = pm.Normal('alpha', mu=1, sd=1) \n",
    "    beta = pm.Normal('beta', mu=0, sd=1) \n",
    "    mu = pm.Deterministic('mu', alpha + beta * (d_A1.rugged_std - dd['rugged_std'].mean()))\n",
    "    sigma = pm.Exponential('sigma', 1)\n",
    "    log_gdp_std = pm.Normal('log_gdp_std', mu=mu, sd=sigma, observed=d_A1.log_gdp_std)\n",
    "    trace_8_1= pm.sample(5000, tune=1000, chains=1) \n",
    "    prior_8_1 = pm.sample_prior_predictive(samples=1000)"
   ]
  },
  {
   "cell_type": "code",
   "execution_count": null,
   "metadata": {},
   "outputs": [],
   "source": [
    "# R code 8.3 (note: prior stuff was extracted in 8.2)\n",
    "\n",
    "xvals = np.linspace(0,1,1000)\n",
    "k=0\n",
    "while k<50:\n",
    "    plt.plot(xvals, prior_8_1['alpha'][k] + prior_8_1['beta'][k]*xvals, linewidth=0.5, color='k')\n",
    "\n",
    "    k+=1\n",
    "plt.xlim([0,1])\n",
    "plt.ylim([0.5,1.5])\n",
    "plt.plot((0,1), (dd['log_gdp_std'].min(),dd['log_gdp_std'].min()), 'k--')\n",
    "plt.plot((0,1), (dd['log_gdp_std'].max(), dd['log_gdp_std'].max()), 'k--')\n",
    "plt.xlabel(\"Ruggedness (std)\")\n",
    "plt.ylabel(\"Log GDP (std)\");\n",
    "\n",
    "# These priors are terrible. Alpha is too broad. So is beta. "
   ]
  },
  {
   "cell_type": "code",
   "execution_count": null,
   "metadata": {},
   "outputs": [],
   "source": [
    "# R code 8.5\n",
    "\n",
    "with pm.Model() as m_8_1:\n",
    "    alpha = pm.Normal('alpha', mu=1, sd=0.1) \n",
    "    beta = pm.Normal('beta', mu=0, sd=0.3) \n",
    "    mu = pm.Deterministic('mu', alpha + beta * (d_A1.rugged_std - dd['rugged_std'].mean()))\n",
    "    sigma = pm.Exponential('sigma', 1)\n",
    "    log_gdp_std = pm.Normal('log_gdp_std', mu=mu, sd=sigma, observed=d_A1.log_gdp_std)\n",
    "    trace_8_1= pm.sample(5000, tune=1000, chains=1) \n",
    "    prior_8_1 = pm.sample_prior_predictive(samples=1000)"
   ]
  },
  {
   "cell_type": "code",
   "execution_count": null,
   "metadata": {},
   "outputs": [],
   "source": [
    "# Right side of figure 8.3\n",
    "\n",
    "xvals = np.linspace(0,1,1000)\n",
    "k=0\n",
    "while k<50:\n",
    "    plt.plot(xvals, prior_8_1['alpha'][k] + prior_8_1['beta'][k]*xvals, linewidth=0.5, color='k')\n",
    "\n",
    "    k+=1\n",
    "plt.xlim([0,1])\n",
    "plt.ylim([0.5,1.5])\n",
    "plt.plot((0,1), (dd['log_gdp_std'].min(),dd['log_gdp_std'].min()), 'k--')\n",
    "plt.plot((0,1), (dd['log_gdp_std'].max(), dd['log_gdp_std'].max()), 'k--')\n",
    "plt.xlabel(\"Ruggedness (std)\")\n",
    "plt.ylabel(\"Log GDP (std)\");\n",
    "\n",
    "# These priors are much more reasonable."
   ]
  },
  {
   "cell_type": "code",
   "execution_count": null,
   "metadata": {},
   "outputs": [],
   "source": [
    "# R code 8.6\n",
    "# Non-African nations\n",
    "\n",
    "with pm.Model() as m_8_2:\n",
    "    alpha = pm.Normal('alpha', mu=1, sd=0.1) \n",
    "    beta = pm.Normal('beta', mu=0, sd=0.3) \n",
    "    mu = pm.Deterministic('mu', alpha + beta * (d_A0.rugged_std - dd['rugged_std'].mean()))\n",
    "    sigma = pm.Exponential('sigma', 1)\n",
    "    log_gdp_std = pm.Normal('log_gdp_std', mu=mu, sd=sigma, observed=d_A0.log_gdp_std)\n",
    "    trace_8_2= pm.sample(5000, tune=1000, chains=1) \n",
    "    prior_8_2 = pm.sample_prior_predictive(samples=1000)"
   ]
  },
  {
   "cell_type": "code",
   "execution_count": null,
   "metadata": {},
   "outputs": [],
   "source": [
    "# African nations\n",
    "varnames = ['alpha', 'beta', 'sigma']\n",
    "pm.summary(trace_8_1, var_names = varnames, alpha = 0.11).round(2)"
   ]
  },
  {
   "cell_type": "code",
   "execution_count": null,
   "metadata": {},
   "outputs": [],
   "source": [
    "# Non-African nations\n",
    "pm.summary(trace_8_2, var_names = varnames, alpha = 0.11).round(2)"
   ]
  },
  {
   "cell_type": "code",
   "execution_count": null,
   "metadata": {},
   "outputs": [],
   "source": [
    "# R code 8.7\n",
    "# But we want to include all countries in one model. First, the simple model.\n",
    "\n",
    "with pm.Model() as m_8_3:\n",
    "    alpha = pm.Normal('alpha', mu=1, sd=0.1) \n",
    "    beta = pm.Normal('beta', mu=0, sd=0.3) \n",
    "    mu = pm.Deterministic('mu', alpha + beta * (dd.rugged_std - dd['rugged_std'].mean()))\n",
    "    sigma = pm.Exponential('sigma', 1)\n",
    "    log_gdp_std = pm.Normal('log_gdp_std', mu=mu, sd=sigma, observed=dd.log_gdp_std)\n",
    "    trace_8_3= pm.sample(5000, tune=1000, chains=1) \n",
    "    prior_8_3 = pm.sample_prior_predictive(samples=1000)"
   ]
  },
  {
   "cell_type": "code",
   "execution_count": null,
   "metadata": {},
   "outputs": [],
   "source": [
    "# R code 8.8\n",
    "\n",
    "cid = pd.Categorical(dd['cont_africa'])\n",
    "dd['cid']=cid.codes"
   ]
  },
  {
   "cell_type": "code",
   "execution_count": null,
   "metadata": {},
   "outputs": [],
   "source": [
    "# R code 8.9\n",
    "\n",
    "with pm.Model() as m_8_4:\n",
    "    alpha = pm.Normal('alpha', mu=1, sd=0.1, shape=2) \n",
    "    beta = pm.Normal('beta', mu=0, sd=0.3) \n",
    "    mu = alpha[cid] + beta * (dd.rugged_std - dd['rugged_std'].mean())\n",
    "    sigma = pm.Exponential('sigma', 1)\n",
    "    log_gdp_std = pm.Normal('log_gdp_std', mu=mu, sd=sigma, observed=dd.log_gdp_std)\n",
    "    trace_8_4= pm.sample(5000, tune=1000, chains=1)"
   ]
  },
  {
   "cell_type": "code",
   "execution_count": null,
   "metadata": {},
   "outputs": [],
   "source": [
    "# R code 8.10\n",
    "\n",
    "m_8_3.name = 'not distinguishing A/~A'\n",
    "m_8_4.name = 'different alpha for A/~A'\n",
    "comp_WAIC = pm.compare({m_8_3: trace_8_3, m_8_4: trace_8_4})\n",
    "comp_WAIC"
   ]
  },
  {
   "cell_type": "code",
   "execution_count": null,
   "metadata": {},
   "outputs": [],
   "source": [
    "# R code 8.11\n",
    "# a[0] is for non-African nations.\n",
    "\n",
    "pm.summary(trace_8_4, alpha = 0.11).round(2)"
   ]
  },
  {
   "cell_type": "code",
   "execution_count": null,
   "metadata": {},
   "outputs": [],
   "source": [
    "trace_8_4['alpha'].shape"
   ]
  },
  {
   "cell_type": "code",
   "execution_count": null,
   "metadata": {},
   "outputs": [],
   "source": [
    "# R code 8.12, generating figure 8.4\n",
    "\n",
    "x=np.linspace(0, 1, 1000)\n",
    "\n",
    "mu_not_africa = trace_8_4['alpha'][:,0] + trace_8_4['beta'] * x[:,None]\n",
    "mu_africa = trace_8_4['alpha'][:,1] + trace_8_4['beta'] * x[:,None]\n",
    "plt.plot(x, mu_africa.mean(1), 'b', label='Africa')\n",
    "plt.plot(x, mu_not_africa.mean(1), 'k', label = 'Not Africa')\n",
    "mu_africa_hpd = pm.hpd(mu_africa.T, alpha = 0.03)\n",
    "mu_not_africa_hpd = pm.hpd(mu_not_africa.T, alpha = 0.03)\n",
    "plt.fill_between(x, mu_africa_hpd[:,0], mu_africa_hpd[:,1], color='b', alpha=0.25)\n",
    "plt.fill_between(x, mu_not_africa_hpd[:,0], mu_not_africa_hpd[:,1], color='k', alpha=0.25)\n",
    "\n",
    "plt.plot(d_A1['rugged_std'], d_A1['log_gdp_std'], 'o', alpha = 0.5)\n",
    "plt.plot(d_A0['rugged_std'], d_A0['log_gdp_std'], 'ok', alpha = 0.5)\n",
    "plt.legend();"
   ]
  },
  {
   "cell_type": "code",
   "execution_count": null,
   "metadata": {},
   "outputs": [],
   "source": [
    "# R code 8.13\n",
    "with pm.Model() as m_8_5:\n",
    "    alpha = pm.Normal('alpha', mu=1, sd=0.1, shape=2) \n",
    "    beta = pm.Normal('beta', mu=0, sd=0.3, shape=2) \n",
    "    mu = alpha[cid] + beta[cid]* (dd.rugged_std - dd['rugged_std'].mean())\n",
    "    sigma = pm.Exponential('sigma', 1)\n",
    "    log_gdp_std = pm.Normal('log_gdp_std', mu=mu, sd=sigma, observed=dd.log_gdp_std)\n",
    "    trace_8_5= pm.sample(5000, tune=1000, chains=1)"
   ]
  },
  {
   "cell_type": "code",
   "execution_count": null,
   "metadata": {},
   "outputs": [],
   "source": [
    "# R code 8.14\n",
    "# a[0] is for non-African nations.\n",
    "\n",
    "pm.summary(trace_8_5, alpha = 0.11).round(2)"
   ]
  },
  {
   "cell_type": "code",
   "execution_count": null,
   "metadata": {},
   "outputs": [],
   "source": [
    "# R code 8.15\n",
    "m_8_5.name = 'different alpha and beta for A/~A'\n",
    "comp_WAIC = pm.compare({m_8_3: trace_8_3, m_8_4: trace_8_4, m_8_5: trace_8_5})\n",
    "comp_WAIC"
   ]
  },
  {
   "cell_type": "code",
   "execution_count": null,
   "metadata": {},
   "outputs": [],
   "source": [
    "# R code 8.16\n",
    "\n",
    "waic_m_8_5 = pm.waic(trace_8_5, model=m_8_5, pointwise=True)\n",
    "\n",
    "# This part of the text is unfinished - there is no explanation what to do with the pointwise WAIC values."
   ]
  },
  {
   "cell_type": "code",
   "execution_count": null,
   "metadata": {},
   "outputs": [],
   "source": [
    "# R code 8.17\n",
    "\n",
    "x=np.linspace(0, 1, 1000)\n",
    "f = plt.figure(figsize=(12,6))\n",
    "\n",
    "mu_not_africa = trace_8_5['alpha'][:,0] + trace_8_5['beta'][:,0] * x[:,None]\n",
    "mu_africa = trace_8_5['alpha'][:,1] + trace_8_5['beta'][:,1] * x[:,None]\n",
    "mu_africa_hpd = pm.hpd(mu_africa.T, alpha = 0.03)\n",
    "mu_not_africa_hpd = pm.hpd(mu_not_africa.T, alpha = 0.03)\n",
    "\n",
    "ax1=f.add_subplot(121)\n",
    "ax1.plot(d_A1['rugged_std'], d_A1['log_gdp_std'], 'ob', alpha = 0.5)\n",
    "ax1.plot(x, mu_africa.mean(1), 'b')\n",
    "ax1.fill_between(x, mu_africa_hpd[:,0], mu_africa_hpd[:,1], color='b', alpha=0.25)\n",
    "ax1.set_xlabel(\"ruggedness (standardized)\")\n",
    "ax1.set_ylabel(\"log GDP (as proportion of mean)\")\n",
    "ax1.title.set_text('African countries')\n",
    "\n",
    "ax2=f.add_subplot(122)\n",
    "ax2.plot(d_A0['rugged_std'], d_A0['log_gdp_std'], 'ok', alpha = 0.5)\n",
    "ax2.plot(x, mu_not_africa.mean(1), 'k')\n",
    "ax2.fill_between(x, mu_not_africa_hpd[:,0], mu_not_africa_hpd[:,1], color='b', alpha=0.25)\n",
    "ax2.set_xlabel(\"ruggedness (standardized)\")\n",
    "ax2.set_ylabel(\"log GDP (as proportion of mean)\")\n",
    "ax2.title.set_text('Non-African countries');"
   ]
  },
  {
   "cell_type": "code",
   "execution_count": null,
   "metadata": {},
   "outputs": [],
   "source": [
    "# R code 8.18 - skipping for now"
   ]
  },
  {
   "cell_type": "code",
   "execution_count": null,
   "metadata": {},
   "outputs": [],
   "source": [
    "# R code 8.19\n",
    "\n",
    "d = pd.read_csv('Data/tulips.csv', sep=';', header=0)"
   ]
  },
  {
   "cell_type": "code",
   "execution_count": null,
   "metadata": {},
   "outputs": [],
   "source": [
    "# R code 8.20\n",
    "d['blooms_std']= d.blooms/d.blooms.max()\n",
    "d['water_cent']=d.water - d.water.mean()\n",
    "d['shade_cent']=d.shade -d.shade.mean()"
   ]
  },
  {
   "cell_type": "code",
   "execution_count": null,
   "metadata": {},
   "outputs": [],
   "source": [
    "# R code 8.21\n",
    "x = stats.norm.rvs(loc=0.5, scale=1, size = 1000)\n",
    "(x[x>1].shape[0] + x[x<0].shape[0])/x.shape[0]\n",
    "\n",
    "# Over 60% outside of the reasonable values - that's crazy."
   ]
  },
  {
   "cell_type": "code",
   "execution_count": null,
   "metadata": {},
   "outputs": [],
   "source": [
    "# R code 8.22\n",
    "x = stats.norm.rvs(loc=0.5, scale=0.25, size = 1000)\n",
    "(x[x>1].shape[0] + x[x<0].shape[0])/x.shape[0]\n",
    "\n",
    "# 4% outside of reasonable values - makes more sense."
   ]
  },
  {
   "cell_type": "code",
   "execution_count": null,
   "metadata": {},
   "outputs": [],
   "source": [
    "# R code 8.23\n",
    "\n",
    "with pm.Model() as m_8_6:\n",
    "    a = pm.Normal('a', mu=0.5, sd=0.25) \n",
    "    b_water = pm.Normal('b_water', mu=0, sd=0.25) \n",
    "    b_shade = pm.Normal('b_shade', mu=0, sd=0.25) \n",
    "    mu = a + b_water* (d.water_cent) + b_shade*d.shade_cent\n",
    "    sigma = pm.Exponential('sigma', 1)\n",
    "    blooms_std = pm.Normal('blooms_std', mu=mu, sd=sigma, observed=d.blooms_std)\n",
    "    trace_8_6= pm.sample(5000, tune=1000, chains=1)\n",
    "    prior_8_6 = pm.sample_prior_predictive(samples=1000)\n",
    "    #start = {'a':np.mean(d.blooms), 'b_water':0, 'b_shade':0, 'sigma':np.std(d.blooms)}"
   ]
  },
  {
   "cell_type": "code",
   "execution_count": null,
   "metadata": {},
   "outputs": [],
   "source": [
    "# R code 8.24\n",
    "\n",
    "with pm.Model() as m_8_7:\n",
    "    a = pm.Normal('a', mu=0.5, sd=0.25) \n",
    "    b_water = pm.Normal('b_water', mu=0, sd=0.25) \n",
    "    b_shade = pm.Normal('b_shade', mu=0, sd=0.25)\n",
    "    b_water_shade = pm.Normal('b_water_shade', mu=0, sd=0.25)\n",
    "    mu = (a + b_water * (d.water_cent) + b_shade * d.shade_cent \n",
    "          + b_water_shade * d.water_cent * d.shade_cent)\n",
    "    sigma = pm.Exponential('sigma', 1)\n",
    "    blooms_std = pm.Normal('blooms_std', mu=mu, sd=sigma, observed=d.blooms_std)\n",
    "    trace_8_7= pm.sample(5000, tune=1000, chains=1)\n",
    "    prior_8_7 = pm.sample_prior_predictive(samples=1000)\n",
    "    #start = {'a':np.mean(d.blooms), 'b_water':0, 'b_shade':0, 'b_water_shade':0,'sigma':np.std(d.blooms)}"
   ]
  },
  {
   "cell_type": "code",
   "execution_count": null,
   "metadata": {},
   "outputs": [],
   "source": [
    "x=np.linspace(-1, 1, 1000)\n",
    "f, axs = plt.subplots(1, 3, sharey=True, figsize=(12,4))\n",
    "\n",
    "shades=[-1,0,1]\n",
    "for ax, s in zip(axs.flat, shades):\n",
    "    idx = d.shade_cent[d.shade_cent==s].index\n",
    "    ax.plot(d.water_cent[idx], d.blooms_std[idx], 'o')\n",
    "    ax.set_xlabel('Water')\n",
    "    ax.set_ylabel('Blooms (std)')\n",
    "    ax.title.set_text(f'm_8_6, shade={s}')\n",
    "    k=50\n",
    "    while k<70:\n",
    "        ax.plot(x, trace_8_6['a'][k] + trace_8_6['b_water'][k]*x \n",
    "                + trace_8_6['b_shade'][k]*s, linewidth=0.25, color='k')\n",
    "        k+=1\n",
    "        \n",
    "f, axs = plt.subplots(1, 3, sharey=True, figsize=(12,4))        \n",
    "for ax, s in zip(axs.flat, shades):\n",
    "    idx = d.shade_cent[d.shade_cent==s].index\n",
    "    ax.plot(d.water_cent[idx], d.blooms_std[idx], 'o')\n",
    "    ax.set_xlabel('Water')\n",
    "    ax.set_ylabel('Blooms (std)')\n",
    "    ax.title.set_text(f'm_8_7, shade={s}')\n",
    "    k=50\n",
    "    while k<70:\n",
    "        ax.plot(x, trace_8_7['a'][k] + trace_8_7['b_water'][k]*x\n",
    "                + trace_8_7['b_shade'][k]*s + trace_8_7['b_water_shade'][k]*s*x, linewidth=0.25, color='k')\n",
    "        k+=1\n",
    " "
   ]
  },
  {
   "cell_type": "code",
   "execution_count": null,
   "metadata": {},
   "outputs": [],
   "source": [
    "# R code 8.26\n",
    "\n",
    "# Unnecessary because I asked for the priors when I was making the models in the first place.\n",
    "# Can you extract the priors from a trace/model without re-running the model? Might be good to know."
   ]
  },
  {
   "cell_type": "code",
   "execution_count": null,
   "metadata": {},
   "outputs": [],
   "source": [
    "# Just taking a quick look at the priors:\n",
    "\n",
    "x=np.linspace(-1, 1, 1000)\n",
    "f, axs = plt.subplots(1, 3, sharey=True, figsize=(12,4))\n",
    "\n",
    "shades=[-1,0,1]\n",
    "for ax, s in zip(axs.flat, shades):\n",
    "    idx = d.shade_cent[d.shade_cent==s].index\n",
    "    ax.plot(d.water_cent[idx], d.blooms_std[idx], 'o')\n",
    "    ax.set_xlabel('Water')\n",
    "    ax.set_ylabel('Blooms (std)')\n",
    "    ax.title.set_text(f'm_8_6, shade={s}')\n",
    "    ax.plot((-1,1), (1,1), 'k--')\n",
    "    ax.plot((-1,1), (0,0), 'k--')\n",
    "    k=50\n",
    "    while k<70:\n",
    "        ax.plot(x, prior_8_6['a'][k] + prior_8_6['b_water'][k]*x \n",
    "                + prior_8_6['b_shade'][k]*s, linewidth=0.25, color='k')\n",
    "        k+=1\n",
    "        \n",
    "f, axs = plt.subplots(1, 3, sharey=True, figsize=(12,4))        \n",
    "for ax, s in zip(axs.flat, shades):\n",
    "    idx = d.shade_cent[d.shade_cent==s].index\n",
    "    ax.plot(d.water_cent[idx], d.blooms_std[idx], 'o')\n",
    "    ax.set_xlabel('Water')\n",
    "    ax.set_ylabel('Blooms (std)')\n",
    "    ax.title.set_text(f'm_8_7, shade={s}')\n",
    "    ax.plot((-1,1), (1,1), 'k--')\n",
    "    ax.plot((-1,1), (0,0), 'k--')\n",
    "    k=50\n",
    "    while k<70:\n",
    "        ax.plot(x, prior_8_7['a'][k] + prior_8_7['b_water'][k]*x\n",
    "                + prior_8_7['b_shade'][k]*s + prior_8_7['b_water_shade'][k]*s*x, linewidth=0.25, color='k')\n",
    "        k+=1\n",
    "\n",
    "# These priors are weakly realistic, but not harmful."
   ]
  },
  {
   "cell_type": "code",
   "execution_count": null,
   "metadata": {},
   "outputs": [],
   "source": [
    "# 8E1\n",
    "# (1) Temperature might affect the rate/amount of dough rise as well as the effectiveness of yeast\n",
    "# (2) Socioeconomic status during childhood influences both income and education\n",
    "# (3) I don't really know what \"go\" means here, but I guess an interaction effect might be the number of bullet holes\n",
    "# in your car. Holes are likely to slow your car down and also influence the amount of gasoline in the car. I admit\n",
    "# this is a stretch."
   ]
  },
  {
   "cell_type": "code",
   "execution_count": null,
   "metadata": {},
   "outputs": [],
   "source": [
    "# 8E2\n",
    "# (1) This is an interaction. The temperature will also affect the onions drying out.\n",
    "# (2) I'm not a car guy. This IS an interaction if increasing the number of cylinders will make the car faster\n",
    "# without requiring a better fuel injector. If that's not true, then this is not an interaction.\n",
    "# (3) I do not think this is an interaction. The wording implies that beliefs come from either parents or friends, not\n",
    "# some combination of both. Moreover I don't think friends depend on parents.\n",
    "# (4) This seems like not an interaction, but I don't really know."
   ]
  },
  {
   "cell_type": "code",
   "execution_count": null,
   "metadata": {},
   "outputs": [],
   "source": [
    "# 8E3"
   ]
  },
  {
   "cell_type": "code",
   "execution_count": null,
   "metadata": {},
   "outputs": [],
   "source": [
    "# 8M1\n",
    "# When the temperature is too high, it doesn't matter how much water or shade the plant gets; it will not bloom.\n",
    "# There must be some sort of biological link between temperature and bloom rate."
   ]
  },
  {
   "cell_type": "code",
   "execution_count": null,
   "metadata": {},
   "outputs": [],
   "source": [
    "# 8M2\n",
    "# mu = (T - T.max()) * (a + b_w * w + b_s * s + b_w_s * w * s)"
   ]
  },
  {
   "cell_type": "code",
   "execution_count": null,
   "metadata": {},
   "outputs": [],
   "source": [
    "# 8M3\n",
    "# We want number of ravens to depend on number of wolves (food source) and also number of ravens (competition)\n",
    "# Number of wolves should probably be independent of number of ravens but should depend on number of wolves\n",
    "# My gut says we need an agent-based simulation where the number of ravens in each step depends on the previous step\n",
    "# but let's try it the simpler way.\n",
    "\n",
    "food = np.round(stats.norm.rvs(loc=50, scale=10, size = 10)) # 10 random amounts of food\n",
    "wolves = np.floor(food/10) # assume each wolf requires 10 units of food\n",
    "ravens = wolves**2 # I would expect each wolf to be able to support multiple ravens in some non-linear way\n",
    "\n",
    "# This is way off, but I'm not really sure what the goal is."
   ]
  },
  {
   "cell_type": "code",
   "execution_count": null,
   "metadata": {},
   "outputs": [],
   "source": [
    "bid = pd.Categorical(d['bed'])\n",
    "d['bid']=bid.codes"
   ]
  },
  {
   "cell_type": "code",
   "execution_count": null,
   "metadata": {},
   "outputs": [],
   "source": [
    "# bid = pd.Categorical(d['bed'])\n",
    "# d['bid']=bid.codes\n",
    "\n",
    "# with pm.Model() as m_8_test:\n",
    "#     a = pm.Normal('a', mu=0.5, sd=0.25) \n",
    "#     b_water = pm.Normal('b_water', mu=0, sd=0.25) \n",
    "#     b_shade = pm.Normal('b_shade', mu=0, sd=0.25)\n",
    "#     b_water_shade = pm.Normal('b_water_shade', mu=0, sd=0.25)\n",
    "#     b_bid = pm.Normal('b_bid', mu=1, sd=0.5)\n",
    "#     mu = (a + b_water * (d.water_cent) + b_shade * d.shade_cent \n",
    "#           + b_water_shade * d.water_cent * d.shade_cent + b_bid * d.bid)\n",
    "#     sigma = pm.Exponential('sigma', 1)\n",
    "#     blooms_std = pm.Normal('blooms_std', mu=mu, sd=sigma, observed=d.blooms_std)\n",
    "#     trace_8_test= pm.sample(5000, tune=1000, chains=1)\n",
    "#     #prior_8_8 = pm.sample_prior_predictive(samples=1000)"
   ]
  },
  {
   "cell_type": "code",
   "execution_count": null,
   "metadata": {},
   "outputs": [],
   "source": [
    "bid = pd.Categorical(d['bed'])\n",
    "d['bid']=bid.codes\n",
    "\n",
    "with pm.Model() as m_8_8:\n",
    "    a = pm.Normal('a', mu=0.5, sd=0.25, shape=len(bid.categories)) \n",
    "    b_water = pm.Normal('b_water', mu=0, sd=0.25)#, shape=len(bid.categories)) \n",
    "    b_shade = pm.Normal('b_shade', mu=0, sd=0.25)#, shape=len(bid.categories))\n",
    "    b_water_shade = pm.Normal('b_water_shade', mu=0, sd=0.25)#, shape=len(bid.categories))\n",
    "    mu = (a[bid] + b_water * (d.water_cent) + b_shade * d.shade_cent \n",
    "          + b_water_shade * d.water_cent * d.shade_cent)\n",
    "    sigma = pm.Exponential('sigma', 1)\n",
    "    blooms_std = pm.Normal('blooms_std', mu=mu, sd=sigma, observed=d.blooms_std)\n",
    "    trace_8_8= pm.sample(5000, tune=1000, chains=1)\n",
    "    #prior_8_8 = pm.sample_prior_predictive(samples=1000)"
   ]
  },
  {
   "cell_type": "code",
   "execution_count": null,
   "metadata": {},
   "outputs": [],
   "source": [
    "mu = (a[bid] + b_water[bid] * (d.water_cent) + b_shade[bid] * d.shade_cent \n",
    "          + b_water_shade[bid] * d.water_cent * d.shade_cent)"
   ]
  },
  {
   "cell_type": "code",
   "execution_count": null,
   "metadata": {},
   "outputs": [],
   "source": [
    "m_8_7.name = 'no bed'\n",
    "m_8_8.name = 'beds'\n",
    "comp_WAIC = pm.compare({m_8_3: trace_8_3, m_8_4: trace_8_4})\n",
    "comp_WAIC"
   ]
  }
 ],
 "metadata": {
  "kernelspec": {
   "display_name": "Python 3",
   "language": "python",
   "name": "python3"
  },
  "language_info": {
   "codemirror_mode": {
    "name": "ipython",
    "version": 3
   },
   "file_extension": ".py",
   "mimetype": "text/x-python",
   "name": "python",
   "nbconvert_exporter": "python",
   "pygments_lexer": "ipython3",
   "version": "3.7.3"
  }
 },
 "nbformat": 4,
 "nbformat_minor": 2
}
